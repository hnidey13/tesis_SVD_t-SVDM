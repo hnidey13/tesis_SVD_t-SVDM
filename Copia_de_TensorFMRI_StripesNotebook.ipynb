{
  "nbformat": 4,
  "nbformat_minor": 0,
  "metadata": {
    "colab": {
      "name": "Copia de TensorFMRI-StripesNotebook.ipynb",
      "provenance": [],
      "collapsed_sections": [],
      "include_colab_link": true
    },
    "kernelspec": {
      "name": "python3",
      "display_name": "Python 3"
    },
    "language_info": {
      "name": "python"
    }
  },
  "cells": [
    {
      "cell_type": "markdown",
      "metadata": {
        "id": "view-in-github",
        "colab_type": "text"
      },
      "source": [
        "<a href=\"https://colab.research.google.com/github/hnidey13/tesis_SVD_t-SVDM/blob/main/Copia_de_TensorFMRI_StripesNotebook.ipynb\" target=\"_parent\"><img src=\"https://colab.research.google.com/assets/colab-badge.svg\" alt=\"Open In Colab\"/></a>"
      ]
    },
    {
      "cell_type": "code",
      "metadata": {
        "colab": {
          "base_uri": "https://localhost:8080/"
        },
        "id": "_En3KD7-J09Y",
        "outputId": "74727082-3ed9-4042-9276-1405bb5a888d"
      },
      "source": [
        "# mount Google drive\n",
        "\n",
        "# https://medium.com/@ashwindesilva/how-to-use-google-colaboratory-to-clone-a-github-repository-e07cf8d3d22b\n",
        "# https://stackoverflow.com/questions/48350226/methods-for-using-git-with-google-colab\n",
        "\n",
        "from google.colab import drive\n",
        "drive.mount('/content/gdrive', force_remount=True)\n",
        "\n",
        "import os\n",
        "# clone the repository one time into your Google Drive\n",
        "#os.chdir('/content/gdrive/MyDrive/')\n",
        "\n",
        "# try this first\n",
        "# !git clone https://github.com/hnidey13/tensor-fmri.git\n",
        "\n",
        "# if the above does not clone the repo, you will have to create a personal access token\n",
        "# !git clone https://<personal access token>@github.com/<username>/tensor-fmri.git\n",
        "\n",
        "os.chdir('/content/gdrive/MyDrive/tensor-fmri')\n",
        "#!git pull\n"
      ],
      "execution_count": null,
      "outputs": [
        {
          "output_type": "stream",
          "name": "stdout",
          "text": [
            "Mounted at /content/gdrive\n"
          ]
        }
      ]
    },
    {
      "cell_type": "markdown",
      "metadata": {
        "id": "z1cdrw2DQiOG"
      },
      "source": [
        "Some prelimary code to visualize tensor-tensor products, the t-SVD, and projections.\n"
      ]
    },
    {
      "cell_type": "code",
      "metadata": {
        "id": "CNHFNyjmKeC5"
      },
      "source": [
        "# import modules\n",
        "import numpy as np\n",
        "from data.synthetic_data import stripes\n",
        "import tensor.tensor_product_wrapper as tp\n",
        "from utils.plotting_utils import montage_array, slice_subplots\n",
        "import matplotlib.pyplot as plt\n",
        "import similarity_metrics as sm"
      ],
      "execution_count": null,
      "outputs": []
    },
    {
      "cell_type": "markdown",
      "metadata": {
        "id": "-aCJgEUzQnGo"
      },
      "source": [
        "Choose an available tensor-tensor product.  Options for this notebook include:\n",
        "\n",
        "* 'f' : facewise product (no transform along third dimension)\n",
        "* 't' : t-product (fast Fourier transform along third dimension)\n",
        "* 'c': c-product (discrete cosine transform along third dimension)\n"
      ]
    },
    {
      "cell_type": "code",
      "metadata": {
        "id": "rIw_qMlkQpMc"
      },
      "source": [
        "# choose product type {'f', 't', 'c'}\n",
        "prod_type = 't'"
      ],
      "execution_count": null,
      "outputs": []
    },
    {
      "cell_type": "markdown",
      "metadata": {
        "id": "27S8tpJbQthE"
      },
      "source": [
        "Given a tensor-tensor product $\\star_M$, the projection of a tensor $\\mathcal{A}$\n",
        "onto the space spanned by the lateral slices of a tensor $\\mathcal{U}$ is\n",
        "\n",
        "$$\\mathcal{U} \\star_M \\mathcal{U}^\\top \\star_M \\mathcal{A}$$"
      ]
    },
    {
      "cell_type": "code",
      "metadata": {
        "id": "bwBg4cdeQtTb"
      },
      "source": [
        "def projection(A, U, prod_type):\n",
        "    training_coeff = tp.ten_prod(tp.ten_tran(U, prod_type=prod_type), A, prod_type=prod_type)\n",
        "    return tp.ten_prod(U, training_coeff, prod_type=prod_type)"
      ],
      "execution_count": null,
      "outputs": []
    },
    {
      "cell_type": "markdown",
      "metadata": {
        "id": "VEc2HeuXQy7I"
      },
      "source": [
        "The data is composed of $n\\times n$ images with four different possible \"stripes\" of the same width.\n",
        "Let ${\\bf e} \\in \\mathbb{R}^n$ be the vector of all ones.  Let ${\\bf x}, {\\bf y}\\in \\mathbb{R}^n$ be random vectors.\n",
        "\n",
        "* 'vertical' : $\\mathbf{x}\\mathbf{e}^\\top $\n",
        "* 'horizontal' : $\\mathbf{e}\\mathbf{x}^\\top $\n",
        "* 'main_diagonal' : $\\text{toeplitz}({\\bf x}, {\\bf y})$ (constant from top left to bottom right)\n",
        "* 'off_diagonal' : $\\text{rot90}(\\text{toeplitz}({\\bf x}, {\\bf y}), 1)$ (constant from top right to bottom left)\n",
        "\n",
        "The data is stored as an $n \\times M\\times n$ tensor where $M$ is the number of images.\n"
      ]
    },
    {
      "cell_type": "code",
      "metadata": {
        "colab": {
          "base_uri": "https://localhost:8080/"
        },
        "id": "zmPR4oxOQ802",
        "outputId": "b0292567-d937-43d8-8e03-bca0bddce166"
      },
      "source": [
        "# for reproducibility\n",
        "np.random.seed(20)\n",
        "\n",
        "# load data\n",
        "img_shape = (8, 8)\n",
        "num_classes = 2\n",
        "training_data, training_labels = stripes(num_images_per_class=100, img_shape=img_shape, num_classes=num_classes)\n",
        "test_data, test_labels = stripes(num_images_per_class=9, img_shape=img_shape, num_classes=num_classes)\n",
        "\n",
        "# permute such that lateral slices are the images\n",
        "training_data = training_data.transpose(0, 2, 1)\n",
        "test_data = test_data.transpose(0, 2, 1)\n",
        "\n",
        "# visualize data\n",
        "for i in range(num_classes):\n",
        "    slice_subplots(test_data[:, test_labels == i, :], axis=1, title='class ' + str(i))\n",
        "    plt.show()\n",
        "\n",
        "print(test_data.shape)\n",
        "print(test_labels)"
      ],
      "execution_count": null,
      "outputs": [
        {
          "output_type": "execute_result",
          "data": {
            "text/plain": [
              "array([[[0.70053427, 0.59771572, 0.62187582, ..., 0.65208647,\n",
              "         0.70883955, 0.42222207],\n",
              "        [0.56184131, 0.80271192, 0.72552287, ..., 0.09177829,\n",
              "         0.73583772, 0.76761541],\n",
              "        [0.7078528 , 0.87626684, 0.42872913, ..., 0.3366501 ,\n",
              "         0.61770299, 0.39860384],\n",
              "        ...,\n",
              "        [0.72627477, 0.72627477, 0.72627477, ..., 0.72627477,\n",
              "         0.72627477, 0.72627477],\n",
              "        [0.60106283, 0.60106283, 0.60106283, ..., 0.60106283,\n",
              "         0.60106283, 0.60106283],\n",
              "        [0.60601953, 0.60601953, 0.60601953, ..., 0.60601953,\n",
              "         0.60601953, 0.60601953]],\n",
              "\n",
              "       [[0.70053427, 0.59771572, 0.62187582, ..., 0.65208647,\n",
              "         0.70883955, 0.42222207],\n",
              "        [0.56184131, 0.80271192, 0.72552287, ..., 0.09177829,\n",
              "         0.73583772, 0.76761541],\n",
              "        [0.7078528 , 0.87626684, 0.42872913, ..., 0.3366501 ,\n",
              "         0.61770299, 0.39860384],\n",
              "        ...,\n",
              "        [0.56438523, 0.56438523, 0.56438523, ..., 0.56438523,\n",
              "         0.56438523, 0.56438523],\n",
              "        [0.6394183 , 0.6394183 , 0.6394183 , ..., 0.6394183 ,\n",
              "         0.6394183 , 0.6394183 ],\n",
              "        [0.63974221, 0.63974221, 0.63974221, ..., 0.63974221,\n",
              "         0.63974221, 0.63974221]],\n",
              "\n",
              "       [[0.70053427, 0.59771572, 0.62187582, ..., 0.65208647,\n",
              "         0.70883955, 0.42222207],\n",
              "        [0.56184131, 0.80271192, 0.72552287, ..., 0.09177829,\n",
              "         0.73583772, 0.76761541],\n",
              "        [0.7078528 , 0.87626684, 0.42872913, ..., 0.3366501 ,\n",
              "         0.61770299, 0.39860384],\n",
              "        ...,\n",
              "        [0.7364144 , 0.7364144 , 0.7364144 , ..., 0.7364144 ,\n",
              "         0.7364144 , 0.7364144 ],\n",
              "        [0.71732038, 0.71732038, 0.71732038, ..., 0.71732038,\n",
              "         0.71732038, 0.71732038],\n",
              "        [0.61293892, 0.61293892, 0.61293892, ..., 0.61293892,\n",
              "         0.61293892, 0.61293892]],\n",
              "\n",
              "       ...,\n",
              "\n",
              "       [[0.70053427, 0.59771572, 0.62187582, ..., 0.65208647,\n",
              "         0.70883955, 0.42222207],\n",
              "        [0.56184131, 0.80271192, 0.72552287, ..., 0.09177829,\n",
              "         0.73583772, 0.76761541],\n",
              "        [0.7078528 , 0.87626684, 0.42872913, ..., 0.3366501 ,\n",
              "         0.61770299, 0.39860384],\n",
              "        ...,\n",
              "        [0.64391331, 0.64391331, 0.64391331, ..., 0.64391331,\n",
              "         0.64391331, 0.64391331],\n",
              "        [0.53293981, 0.53293981, 0.53293981, ..., 0.53293981,\n",
              "         0.53293981, 0.53293981],\n",
              "        [0.76512582, 0.76512582, 0.76512582, ..., 0.76512582,\n",
              "         0.76512582, 0.76512582]],\n",
              "\n",
              "       [[0.70053427, 0.59771572, 0.62187582, ..., 0.65208647,\n",
              "         0.70883955, 0.42222207],\n",
              "        [0.56184131, 0.80271192, 0.72552287, ..., 0.09177829,\n",
              "         0.73583772, 0.76761541],\n",
              "        [0.7078528 , 0.87626684, 0.42872913, ..., 0.3366501 ,\n",
              "         0.61770299, 0.39860384],\n",
              "        ...,\n",
              "        [0.72346869, 0.72346869, 0.72346869, ..., 0.72346869,\n",
              "         0.72346869, 0.72346869],\n",
              "        [0.53935518, 0.53935518, 0.53935518, ..., 0.53935518,\n",
              "         0.53935518, 0.53935518],\n",
              "        [0.48630403, 0.48630403, 0.48630403, ..., 0.48630403,\n",
              "         0.48630403, 0.48630403]],\n",
              "\n",
              "       [[0.70053427, 0.59771572, 0.62187582, ..., 0.65208647,\n",
              "         0.70883955, 0.42222207],\n",
              "        [0.56184131, 0.80271192, 0.72552287, ..., 0.09177829,\n",
              "         0.73583772, 0.76761541],\n",
              "        [0.7078528 , 0.87626684, 0.42872913, ..., 0.3366501 ,\n",
              "         0.61770299, 0.39860384],\n",
              "        ...,\n",
              "        [0.48727092, 0.48727092, 0.48727092, ..., 0.48727092,\n",
              "         0.48727092, 0.48727092],\n",
              "        [0.50546262, 0.50546262, 0.50546262, ..., 0.50546262,\n",
              "         0.50546262, 0.50546262],\n",
              "        [0.55988915, 0.55988915, 0.55988915, ..., 0.55988915,\n",
              "         0.55988915, 0.55988915]]])"
            ]
          },
          "metadata": {},
          "execution_count": 14
        }
      ]
    },
    {
      "cell_type": "code",
      "metadata": {
        "colab": {
          "base_uri": "https://localhost:8080/",
          "height": 551
        },
        "id": "ybKgdZyuRK6c",
        "outputId": "b4ba8449-1dec-4bf1-e0ec-a8315c8a8aa8"
      },
      "source": [
        "# form local t-svd\n",
        "num_classes = len(np.unique(training_labels))\n",
        "k = 2\n",
        "\n",
        "U = []\n",
        "for i in range(num_classes):\n",
        "    u, _, _, _ = tp.ten_svd(training_data[:, training_labels == i, :], k, prod_type=prod_type)\n",
        "    U.append(u)\n",
        "\n",
        "# visualizations\n",
        "for i in range(num_classes):\n",
        "    slice_subplots(U[i], axis=1, title='basis elments for class ' + str(i))\n",
        "    plt.show()\n"
      ],
      "execution_count": null,
      "outputs": [
        {
          "output_type": "display_data",
          "data": {
            "text/plain": [
              "<Figure size 432x288 with 3 Axes>"
            ],
            "image/png": "[encoded data removed]"
          },
          "metadata": {
            "needs_background": "light"
          }
        },
        {
          "output_type": "display_data",
          "data": {
            "text/plain": [
              "<Figure size 432x288 with 3 Axes>"
            ],
            "image/png": "[encoded data removed]"
          },
          "metadata": {
            "needs_background": "light"
          }
        }
      ]
    },
    {
      "cell_type": "code",
      "metadata": {
        "colab": {
          "base_uri": "https://localhost:8080/",
          "height": 314
        },
        "id": "hGLyf06RRP99",
        "outputId": "f53ebb47-de20-4bc8-cdda-aa30c9a1b96b"
      },
      "source": [
        "# compute results on training and test data\n",
        "training_error = np.zeros([num_classes, training_data.shape[1]])\n",
        "test_error = np.zeros([num_classes, test_data.shape[1]])\n",
        "for i in range(num_classes):\n",
        "    training_projection = projection(training_data, U[i], prod_type=prod_type)\n",
        "    training_error[i, :] = sm.frobenius_metric(training_data, training_projection, axis=1)\n",
        "\n",
        "    test_projection = projection(test_data, U[i], prod_type=prod_type)\n",
        "    test_error[i, :] = sm.frobenius_metric(test_data, test_projection, axis=1)\n",
        "\n",
        "\n",
        "# classification\n",
        "training_predicted_classes = np.argmin(training_error, axis=0).reshape(-1)\n",
        "test_predicted_classes = np.argmin(test_error, axis=0).reshape(-1)\n",
        "\n",
        "# results\n",
        "training_num_correct = np.sum(training_predicted_classes == training_labels)\n",
        "training_accuracy = training_num_correct / training_data.shape[1]\n",
        "\n",
        "test_num_correct = np.sum(test_predicted_classes == test_labels)\n",
        "test_accuracy = test_num_correct / test_data.shape[1]\n",
        "\n",
        "print('train accuracy = %0.2f' % (100 * training_accuracy))\n",
        "print('test accuracy = %0.2f' % (100 * test_accuracy))\n",
        "\n",
        "# plot results\n",
        "plt.figure()\n",
        "for i in range(num_classes):\n",
        "    plt.semilogy(training_error[i, :], 'o', label=i)\n",
        "\n",
        "plt.xlabel('image index')\n",
        "plt.ylabel('distance score (lower is better)')\n",
        "plt.legend()\n",
        "plt.show()"
      ],
      "execution_count": null,
      "outputs": [
        {
          "output_type": "stream",
          "name": "stdout",
          "text": [
            "train accuracy = 78.50\n",
            "test accuracy = 72.22\n"
          ]
        },
        {
          "output_type": "display_data",
          "data": {
            "text/plain": [
              "<Figure size 432x288 with 1 Axes>"
            ],
            "image/png": "[encoded data removed]"
          },
          "metadata": {
            "needs_background": "light"
          }
        }
      ]
    },
    {
      "cell_type": "code",
      "metadata": {
        "colab": {
          "base_uri": "https://localhost:8080/",
          "height": 1000
        },
        "id": "r6Pdn4H9RSyI",
        "outputId": "d5897cc3-151a-43ad-d5b3-d007d7c7bf78"
      },
      "source": [
        "# visualizations of projected tensors\n",
        "for j in range(num_classes):\n",
        "    for i in range(num_classes):\n",
        "        A = projection(training_data[:, training_labels == j, :], U[i], prod_type=prod_type)\n",
        "        slice_subplots(A[:, :4, :], axis=1, title='projection of class ' + str(j) + ' onto basis for class ' + str(i))\n",
        "        plt.show()\n"
      ],
      "execution_count": null,
      "outputs": [
        {
          "output_type": "display_data",
          "data": {
            "text/plain": [
              "<Figure size 432x288 with 6 Axes>"
            ],
            "image/png": "[encoded data removed]"
          },
          "metadata": {
            "needs_background": "light"
          }
        },
        {
          "output_type": "display_data",
          "data": {
            "text/plain": [
              "<Figure size 432x288 with 6 Axes>"
            ],
            "image/png": "[encoded data removed]"
          },
          "metadata": {
            "needs_background": "light"
          }
        },
        {
          "output_type": "display_data",
          "data": {
            "text/plain": [
              "<Figure size 432x288 with 6 Axes>"
            ],
            "image/png": "[encoded data removed]"
          },
          "metadata": {
            "needs_background": "light"
          }
        },
        {
          "output_type": "display_data",
          "data": {
            "text/plain": [
              "<Figure size 432x288 with 6 Axes>"
            ],
            "image/png": "[encoded data removed]"
          },
          "metadata": {
            "needs_background": "light"
          }
        }
      ]
    }
  ]
}