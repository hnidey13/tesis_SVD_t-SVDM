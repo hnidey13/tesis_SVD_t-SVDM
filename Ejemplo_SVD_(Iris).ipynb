{
  "nbformat": 4,
  "nbformat_minor": 0,
  "metadata": {
    "colab": {
      "name": "Ejemplo SVD (Iris).ipynb",
      "provenance": [],
      "collapsed_sections": [],
      "mount_file_id": "1Sv2EuV1-klp4q7213p6u6Ewwdi1jcL4a",
      "authorship_tag": "ABX9TyMkMQVn5mdOgx+jM6Yo/GC0",
      "include_colab_link": true
    },
    "kernelspec": {
      "name": "python3",
      "display_name": "Python 3"
    },
    "language_info": {
      "name": "python"
    }
  },
  "cells": [
    {
      "cell_type": "markdown",
      "metadata": {
        "id": "view-in-github",
        "colab_type": "text"
      },
      "source": [
        "<a href=\"https://colab.research.google.com/github/hnidey13/tesis_SVD_t-SVDM/blob/main/Ejemplo_SVD_(Iris).ipynb\" target=\"_parent\"><img src=\"https://colab.research.google.com/assets/colab-badge.svg\" alt=\"Open In Colab\"/></a>"
      ]
    },
    {
      "cell_type": "markdown",
      "source": [
        "Cargamos librerías y leemos el conjunto de datos"
      ],
      "metadata": {
        "id": "tTnVKX-4XZhr"
      }
    },
    {
      "cell_type": "code",
      "source": [
        "import numpy as np\n",
        "import pandas as pd\n",
        "import matplotlib.pyplot as plt\n",
        "from scipy.linalg import svd, norm\n",
        "from sklearn.metrics import accuracy_score, confusion_matrix, classification_report\n",
        "import h5py\n",
        "import os\n",
        "from sklearn.datasets import load_iris\n",
        "from sklearn.model_selection import train_test_split\n",
        "\n",
        "iris = load_iris()\n",
        "X, y = iris.data, iris.target\n",
        "X_train,X_test,training_labels,test_labels=train_test_split(X,y,test_size=0.1,random_state=1)\n",
        "\n",
        "print(iris.feature_names)\n",
        "print(iris.target_names)\n",
        "\n",
        "shape1 = training_labels.shape\n",
        "shape2 = test_labels.shape\n",
        "\n",
        "x_train = pd.DataFrame(np.transpose(X_train,(1,0)))\n",
        "\n",
        "y_train = pd.DataFrame(training_labels.reshape(1,shape1[0]))\n",
        "\n",
        "x_test = pd.DataFrame(np.transpose(X_test,(1,0)))\n",
        "y_test = pd.DataFrame(test_labels.reshape(1,shape2[0]))\n",
        "\n",
        "print(x_train.shape)\n",
        "print(y_train.shape)\n",
        "print(x_test.shape)\n",
        "print(y_test.shape)\n"
      ],
      "metadata": {
        "colab": {
          "base_uri": "https://localhost:8080/"
        },
        "id": "MtusKNjciPl3",
        "outputId": "a05287ef-d197-4a38-f1ff-24d4a0adcb27"
      },
      "execution_count": null,
      "outputs": [
        {
          "output_type": "stream",
          "name": "stdout",
          "text": [
            "['sepal length (cm)', 'sepal width (cm)', 'petal length (cm)', 'petal width (cm)']\n",
            "['setosa' 'versicolor' 'virginica']\n",
            "(4, 135)\n",
            "(1, 135)\n",
            "(4, 15)\n",
            "(1, 15)\n"
          ]
        }
      ]
    },
    {
      "cell_type": "markdown",
      "source": [
        "Centrar datos"
      ],
      "metadata": {
        "id": "eIkESaleQiqr"
      }
    },
    {
      "cell_type": "code",
      "source": [
        "#x_train = x_train.apply(lambda x: x-x.mean(),1)\n",
        "#x_test = x_test.apply(lambda x: x-x.mean(),1)\n",
        "#x_train.mean(1)[0]"
      ],
      "metadata": {
        "id": "uUOM8Ya2Qiw6"
      },
      "execution_count": null,
      "outputs": []
    },
    {
      "cell_type": "markdown",
      "source": [
        "Creamos matrices $A_0,A_1,A_2$ de forma que contengan a las imágenes con los dígitos correspondientes y las guardamos en un diccionario."
      ],
      "metadata": {
        "id": "yMtnBr5XXV6p"
      }
    },
    {
      "cell_type": "code",
      "source": [
        "alpha_matrices={}\n",
        "for i in range(3):\n",
        "    alpha_matrices.update({\"A\"+str(i):x_train.loc[:,list(y_train.loc[0,:]==i)]})\n",
        "print(\n",
        "    len(alpha_matrices),\n",
        "    list(map(lambda l: l.shape, alpha_matrices.values()))    \n",
        "    )\n"
      ],
      "metadata": {
        "colab": {
          "base_uri": "https://localhost:8080/"
        },
        "id": "fjzs1FA1XWFq",
        "outputId": "35678e68-63d2-48fa-a81c-cee790b1c063"
      },
      "execution_count": null,
      "outputs": [
        {
          "output_type": "stream",
          "name": "stdout",
          "text": [
            "3 [(4, 45), (4, 44), (4, 46)]\n"
          ]
        }
      ]
    },
    {
      "cell_type": "markdown",
      "source": [
        "Realizamos SVD para cada una de las 3 matrices"
      ],
      "metadata": {
        "id": "-jk8mnTnbghu"
      }
    },
    {
      "cell_type": "code",
      "source": [
        "left_singular={}\n",
        "singular_matrix={}\n",
        "right_singular={}\n",
        "for i in range(3):\n",
        "    u, s, v_t = svd(alpha_matrices['A'+str(i)], full_matrices=False)\n",
        "    left_singular.update({\"u\"+str(i):u})\n",
        "    singular_matrix.update({\"s\"+str(i):s})\n",
        "    right_singular.update({\"v_t\"+str(i):v_t})\n",
        "\n",
        "print(list(map(lambda l: l.shape, left_singular.values())))\n",
        "print(list(map(lambda l: l.shape, singular_matrix.values())))\n",
        "print(list(map(lambda l: l.shape, right_singular.values())))\n",
        "\n",
        "print(left_singular.keys())\n",
        "print(singular_matrix.keys())\n",
        "print(right_singular.keys())"
      ],
      "metadata": {
        "colab": {
          "base_uri": "https://localhost:8080/"
        },
        "id": "OzxF8jX8bgom",
        "outputId": "56ce3b2a-28c2-49cc-af0b-686aab58b25f"
      },
      "execution_count": null,
      "outputs": [
        {
          "output_type": "stream",
          "name": "stdout",
          "text": [
            "[(4, 4), (4, 4), (4, 4)]\n",
            "[(4,), (4,), (4,)]\n",
            "[(4, 45), (4, 44), (4, 46)]\n",
            "dict_keys(['u0', 'u1', 'u2'])\n",
            "dict_keys(['s0', 's1', 's2'])\n",
            "dict_keys(['v_t0', 'v_t1', 'v_t2'])\n"
          ]
        }
      ]
    },
    {
      "cell_type": "markdown",
      "source": [
        "Graficamos los valores singulares en escala normal"
      ],
      "metadata": {
        "id": "KbPVEDhwpdPQ"
      }
    },
    {
      "cell_type": "code",
      "source": [
        "plt.figure(figsize = (9, 6))\n",
        "plt.plot(singular_matrix['s0'], color='coral', marker='o')\n",
        "plt.title('Singular values for digit $3$',fontsize=15,weight='bold',pad=20)\n",
        "plt.ylabel('Singular values' ,fontsize=15)\n",
        "#plt.yscale('log')\n",
        "plt.show()"
      ],
      "metadata": {
        "colab": {
          "base_uri": "https://localhost:8080/",
          "height": 408
        },
        "id": "QT4hRbV2pdX_",
        "outputId": "29f9bced-a363-4e65-8002-0003e429f84f"
      },
      "execution_count": null,
      "outputs": [
        {
          "output_type": "display_data",
          "data": {
            "text/plain": [
              "<Figure size 648x432 with 1 Axes>"
            ],
            "image/png": "[encoded data removed]"
          },
          "metadata": {
            "needs_background": "light"
          }
        }
      ]
    },
    {
      "cell_type": "markdown",
      "source": [
        "Para el conjunto de entrenamiento probamos distintos valores de $k\\in \\{0,...,4\\}$"
      ],
      "metadata": {
        "id": "YjXOPOwJr7q-"
      }
    },
    {
      "cell_type": "code",
      "source": [
        "I = np.eye(x_train.shape[0])\n",
        "kappas=np.arange(0,5)\n",
        "len_test=x_train.shape[1]\n",
        "predictions=np.empty((y_train.shape[1],0), dtype = int)\n",
        "for t in list(kappas):\n",
        "    prediction = []\n",
        "    for i in range(len_test):\n",
        "        residuals = []\n",
        "        for j in range(3):\n",
        "            u=left_singular[\"u\"+str(j)][:,0:t]\n",
        "            res=norm((I - u @ u.T) @ x_train[i])\n",
        "            residuals.append(res)\n",
        "        index_min = np.argmin(residuals)\n",
        "        prediction.append(index_min)\n",
        "        \n",
        "    prediction=np.array(prediction)\n",
        "    predictions=np.hstack((predictions,prediction.reshape(-1,1)))\n",
        "scores=[]\n",
        "for i in range(len(kappas)):\n",
        "    score=accuracy_score(y_train.loc[0,:],predictions[:,i])\n",
        "    scores.append(score)\n",
        "data={\"Number of basis vectors\":list(kappas), \"accuracy_score\":scores}\n",
        "df=pd.DataFrame(data).set_index(\"Number of basis vectors\")\n",
        "df"
      ],
      "metadata": {
        "colab": {
          "base_uri": "https://localhost:8080/",
          "height": 238
        },
        "id": "dQGe0tNKr7yF",
        "outputId": "4a345a1f-6126-480c-c3ff-d8262c872e65"
      },
      "execution_count": null,
      "outputs": [
        {
          "output_type": "execute_result",
          "data": {
            "text/plain": [
              "              accuracy_score\n",
              "Number of...                \n",
              "0                0.333333   \n",
              "1                0.970370   \n",
              "2                0.970370   \n",
              "3                0.748148   \n",
              "4                0.325926   "
            ],
            "text/html": [
              "\n",
              "  <div id=\"df-4e18e01e-549a-4960-be23-66d8f7f7eb26\">\n",
              "    <div class=\"colab-df-container\">\n",
              "      <div>\n",
              "<style scoped>\n",
              "    .dataframe tbody tr th:only-of-type {\n",
              "        vertical-align: middle;\n",
              "    }\n",
              "\n",
              "    .dataframe tbody tr th {\n",
              "        vertical-align: top;\n",
              "    }\n",
              "\n",
              "    .dataframe thead th {\n",
              "        text-align: right;\n",
              "    }\n",
              "</style>\n",
              "<table border=\"1\" class=\"dataframe\">\n",
              "  <thead>\n",
              "    <tr style=\"text-align: right;\">\n",
              "      <th></th>\n",
              "      <th>accuracy_score</th>\n",
              "    </tr>\n",
              "    <tr>\n",
              "      <th>Number of basis vectors</th>\n",
              "      <th></th>\n",
              "    </tr>\n",
              "  </thead>\n",
              "  <tbody>\n",
              "    <tr>\n",
              "      <th>0</th>\n",
              "      <td>0.333333</td>\n",
              "    </tr>\n",
              "    <tr>\n",
              "      <th>1</th>\n",
              "      <td>0.970370</td>\n",
              "    </tr>\n",
              "    <tr>\n",
              "      <th>2</th>\n",
              "      <td>0.970370</td>\n",
              "    </tr>\n",
              "    <tr>\n",
              "      <th>3</th>\n",
              "      <td>0.748148</td>\n",
              "    </tr>\n",
              "    <tr>\n",
              "      <th>4</th>\n",
              "      <td>0.325926</td>\n",
              "    </tr>\n",
              "  </tbody>\n",
              "</table>\n",
              "</div>\n",
              "      <button class=\"colab-df-convert\" onclick=\"convertToInteractive('df-4e18e01e-549a-4960-be23-66d8f7f7eb26')\"\n",
              "              title=\"Convert this dataframe to an interactive table.\"\n",
              "              style=\"display:none;\">\n",
              "        \n",
              "  <svg xmlns=\"http://www.w3.org/2000/svg\" height=\"24px\"viewBox=\"0 0 24 24\"\n",
              "       width=\"24px\">\n",
              "    <path d=\"M0 0h24v24H0V0z\" fill=\"none\"/>\n",
              "    <path d=\"M18.56 5.44l.94 2.06.94-2.06 2.06-.94-2.06-.94-.94-2.06-.94 2.06-2.06.94zm-11 1L8.5 8.5l.94-2.06 2.06-.94-2.06-.94L8.5 2.5l-.94 2.06-2.06.94zm10 10l.94 2.06.94-2.06 2.06-.94-2.06-.94-.94-2.06-.94 2.06-2.06.94z\"/><path d=\"M17.41 7.96l-1.37-1.37c-.4-.4-.92-.59-1.43-.59-.52 0-1.04.2-1.43.59L10.3 9.45l-7.72 7.72c-.78.78-.78 2.05 0 2.83L4 21.41c.39.39.9.59 1.41.59.51 0 1.02-.2 1.41-.59l7.78-7.78 2.81-2.81c.8-.78.8-2.07 0-2.86zM5.41 20L4 18.59l7.72-7.72 1.47 1.35L5.41 20z\"/>\n",
              "  </svg>\n",
              "      </button>\n",
              "      \n",
              "  <style>\n",
              "    .colab-df-container {\n",
              "      display:flex;\n",
              "      flex-wrap:wrap;\n",
              "      gap: 12px;\n",
              "    }\n",
              "\n",
              "    .colab-df-convert {\n",
              "      background-color: #E8F0FE;\n",
              "      border: none;\n",
              "      border-radius: 50%;\n",
              "      cursor: pointer;\n",
              "      display: none;\n",
              "      fill: #1967D2;\n",
              "      height: 32px;\n",
              "      padding: 0 0 0 0;\n",
              "      width: 32px;\n",
              "    }\n",
              "\n",
              "    .colab-df-convert:hover {\n",
              "      background-color: #E2EBFA;\n",
              "      box-shadow: 0px 1px 2px rgba(60, 64, 67, 0.3), 0px 1px 3px 1px rgba(60, 64, 67, 0.15);\n",
              "      fill: #174EA6;\n",
              "    }\n",
              "\n",
              "    [theme=dark] .colab-df-convert {\n",
              "      background-color: #3B4455;\n",
              "      fill: #D2E3FC;\n",
              "    }\n",
              "\n",
              "    [theme=dark] .colab-df-convert:hover {\n",
              "      background-color: #434B5C;\n",
              "      box-shadow: 0px 1px 3px 1px rgba(0, 0, 0, 0.15);\n",
              "      filter: drop-shadow(0px 1px 2px rgba(0, 0, 0, 0.3));\n",
              "      fill: #FFFFFF;\n",
              "    }\n",
              "  </style>\n",
              "\n",
              "      <script>\n",
              "        const buttonEl =\n",
              "          document.querySelector('#df-4e18e01e-549a-4960-be23-66d8f7f7eb26 button.colab-df-convert');\n",
              "        buttonEl.style.display =\n",
              "          google.colab.kernel.accessAllowed ? 'block' : 'none';\n",
              "\n",
              "        async function convertToInteractive(key) {\n",
              "          const element = document.querySelector('#df-4e18e01e-549a-4960-be23-66d8f7f7eb26');\n",
              "          const dataTable =\n",
              "            await google.colab.kernel.invokeFunction('convertToInteractive',\n",
              "                                                     [key], {});\n",
              "          if (!dataTable) return;\n",
              "\n",
              "          const docLinkHtml = 'Like what you see? Visit the ' +\n",
              "            '<a target=\"_blank\" href=https://colab.research.google.com/notebooks/data_table.ipynb>data table notebook</a>'\n",
              "            + ' to learn more about interactive tables.';\n",
              "          element.innerHTML = '';\n",
              "          dataTable['output_type'] = 'display_data';\n",
              "          await google.colab.output.renderOutput(dataTable, element);\n",
              "          const docLink = document.createElement('div');\n",
              "          docLink.innerHTML = docLinkHtml;\n",
              "          element.appendChild(docLink);\n",
              "        }\n",
              "      </script>\n",
              "    </div>\n",
              "  </div>\n",
              "  "
            ]
          },
          "metadata": {},
          "execution_count": 32
        }
      ]
    },
    {
      "cell_type": "markdown",
      "source": [
        "Grafica de resultados"
      ],
      "metadata": {
        "id": "zxvqedC2tsqR"
      }
    },
    {
      "cell_type": "code",
      "source": [
        "plt.figure(figsize = (9, 6))\n",
        "plt.plot(df[\"accuracy_score\"], color='coral', marker='o')\n",
        "plt.title('Number of basis vectors vs accuracy',fontsize=15,weight='bold',pad=20)\n",
        "plt.xlabel('Number of basis vectors' ,fontsize=15)\n",
        "plt.ylabel('Accuracy' ,fontsize=15)\n",
        "plt.show()"
      ],
      "metadata": {
        "colab": {
          "base_uri": "https://localhost:8080/",
          "height": 425
        },
        "id": "lX_Q2KPjtsfc",
        "outputId": "7af5656c-1b6f-43ec-af86-a4722a3fac3b"
      },
      "execution_count": null,
      "outputs": [
        {
          "output_type": "display_data",
          "data": {
            "text/plain": [
              "<Figure size 648x432 with 1 Axes>"
            ],
            "image/png": "[encoded data removed]"
          },
          "metadata": {
            "needs_background": "light"
          }
        }
      ]
    },
    {
      "cell_type": "markdown",
      "source": [
        "Ahora con el conjunto de prueba usamos el mejor $k$"
      ],
      "metadata": {
        "id": "Z3yd2efNxknG"
      }
    },
    {
      "cell_type": "code",
      "source": [
        "I = np.eye(x_test.shape[0])\n",
        "kappas=np.arange(2,3)\n",
        "len_test=x_test.shape[1]\n",
        "predictions=np.empty((y_test.shape[1],0), dtype = int)\n",
        "for t in list(kappas):\n",
        "    prediction = []\n",
        "    for i in range(len_test):\n",
        "        residuals = []\n",
        "        for j in range(3):\n",
        "            u=left_singular[\"u\"+str(j)][:,0:t]\n",
        "            res=norm((I - u @ u.T) @ x_test[i])\n",
        "            residuals.append(res)\n",
        "        index_min = np.argmin(residuals)\n",
        "        prediction.append(index_min)\n",
        "        \n",
        "    prediction=np.array(prediction)\n",
        "    predictions=np.hstack((predictions,prediction.reshape(-1,1)))\n",
        "scores=[]\n",
        "for i in range(len(kappas)):\n",
        "    score=accuracy_score(y_test.loc[0,:],predictions[:,i])\n",
        "    scores.append(score)\n",
        "data={\"Number of basis vectors\":list(kappas), \"accuracy_score\":scores}\n",
        "df=pd.DataFrame(data).set_index(\"Number of basis vectors\")\n",
        "df"
      ],
      "metadata": {
        "colab": {
          "base_uri": "https://localhost:8080/",
          "height": 112
        },
        "id": "n2J7dqhcvIpT",
        "outputId": "e7aadf58-cd0b-42a8-aca5-2de0d70d3c33"
      },
      "execution_count": null,
      "outputs": [
        {
          "output_type": "execute_result",
          "data": {
            "text/plain": [
              "              accuracy_score\n",
              "Number of...                \n",
              "2                0.933333   "
            ],
            "text/html": [
              "\n",
              "  <div id=\"df-9fcc4df8-e5ca-416f-9822-42b30be8a3bf\">\n",
              "    <div class=\"colab-df-container\">\n",
              "      <div>\n",
              "<style scoped>\n",
              "    .dataframe tbody tr th:only-of-type {\n",
              "        vertical-align: middle;\n",
              "    }\n",
              "\n",
              "    .dataframe tbody tr th {\n",
              "        vertical-align: top;\n",
              "    }\n",
              "\n",
              "    .dataframe thead th {\n",
              "        text-align: right;\n",
              "    }\n",
              "</style>\n",
              "<table border=\"1\" class=\"dataframe\">\n",
              "  <thead>\n",
              "    <tr style=\"text-align: right;\">\n",
              "      <th></th>\n",
              "      <th>accuracy_score</th>\n",
              "    </tr>\n",
              "    <tr>\n",
              "      <th>Number of basis vectors</th>\n",
              "      <th></th>\n",
              "    </tr>\n",
              "  </thead>\n",
              "  <tbody>\n",
              "    <tr>\n",
              "      <th>2</th>\n",
              "      <td>0.933333</td>\n",
              "    </tr>\n",
              "  </tbody>\n",
              "</table>\n",
              "</div>\n",
              "      <button class=\"colab-df-convert\" onclick=\"convertToInteractive('df-9fcc4df8-e5ca-416f-9822-42b30be8a3bf')\"\n",
              "              title=\"Convert this dataframe to an interactive table.\"\n",
              "              style=\"display:none;\">\n",
              "        \n",
              "  <svg xmlns=\"http://www.w3.org/2000/svg\" height=\"24px\"viewBox=\"0 0 24 24\"\n",
              "       width=\"24px\">\n",
              "    <path d=\"M0 0h24v24H0V0z\" fill=\"none\"/>\n",
              "    <path d=\"M18.56 5.44l.94 2.06.94-2.06 2.06-.94-2.06-.94-.94-2.06-.94 2.06-2.06.94zm-11 1L8.5 8.5l.94-2.06 2.06-.94-2.06-.94L8.5 2.5l-.94 2.06-2.06.94zm10 10l.94 2.06.94-2.06 2.06-.94-2.06-.94-.94-2.06-.94 2.06-2.06.94z\"/><path d=\"M17.41 7.96l-1.37-1.37c-.4-.4-.92-.59-1.43-.59-.52 0-1.04.2-1.43.59L10.3 9.45l-7.72 7.72c-.78.78-.78 2.05 0 2.83L4 21.41c.39.39.9.59 1.41.59.51 0 1.02-.2 1.41-.59l7.78-7.78 2.81-2.81c.8-.78.8-2.07 0-2.86zM5.41 20L4 18.59l7.72-7.72 1.47 1.35L5.41 20z\"/>\n",
              "  </svg>\n",
              "      </button>\n",
              "      \n",
              "  <style>\n",
              "    .colab-df-container {\n",
              "      display:flex;\n",
              "      flex-wrap:wrap;\n",
              "      gap: 12px;\n",
              "    }\n",
              "\n",
              "    .colab-df-convert {\n",
              "      background-color: #E8F0FE;\n",
              "      border: none;\n",
              "      border-radius: 50%;\n",
              "      cursor: pointer;\n",
              "      display: none;\n",
              "      fill: #1967D2;\n",
              "      height: 32px;\n",
              "      padding: 0 0 0 0;\n",
              "      width: 32px;\n",
              "    }\n",
              "\n",
              "    .colab-df-convert:hover {\n",
              "      background-color: #E2EBFA;\n",
              "      box-shadow: 0px 1px 2px rgba(60, 64, 67, 0.3), 0px 1px 3px 1px rgba(60, 64, 67, 0.15);\n",
              "      fill: #174EA6;\n",
              "    }\n",
              "\n",
              "    [theme=dark] .colab-df-convert {\n",
              "      background-color: #3B4455;\n",
              "      fill: #D2E3FC;\n",
              "    }\n",
              "\n",
              "    [theme=dark] .colab-df-convert:hover {\n",
              "      background-color: #434B5C;\n",
              "      box-shadow: 0px 1px 3px 1px rgba(0, 0, 0, 0.15);\n",
              "      filter: drop-shadow(0px 1px 2px rgba(0, 0, 0, 0.3));\n",
              "      fill: #FFFFFF;\n",
              "    }\n",
              "  </style>\n",
              "\n",
              "      <script>\n",
              "        const buttonEl =\n",
              "          document.querySelector('#df-9fcc4df8-e5ca-416f-9822-42b30be8a3bf button.colab-df-convert');\n",
              "        buttonEl.style.display =\n",
              "          google.colab.kernel.accessAllowed ? 'block' : 'none';\n",
              "\n",
              "        async function convertToInteractive(key) {\n",
              "          const element = document.querySelector('#df-9fcc4df8-e5ca-416f-9822-42b30be8a3bf');\n",
              "          const dataTable =\n",
              "            await google.colab.kernel.invokeFunction('convertToInteractive',\n",
              "                                                     [key], {});\n",
              "          if (!dataTable) return;\n",
              "\n",
              "          const docLinkHtml = 'Like what you see? Visit the ' +\n",
              "            '<a target=\"_blank\" href=https://colab.research.google.com/notebooks/data_table.ipynb>data table notebook</a>'\n",
              "            + ' to learn more about interactive tables.';\n",
              "          element.innerHTML = '';\n",
              "          dataTable['output_type'] = 'display_data';\n",
              "          await google.colab.output.renderOutput(dataTable, element);\n",
              "          const docLink = document.createElement('div');\n",
              "          docLink.innerHTML = docLinkHtml;\n",
              "          element.appendChild(docLink);\n",
              "        }\n",
              "      </script>\n",
              "    </div>\n",
              "  </div>\n",
              "  "
            ]
          },
          "metadata": {},
          "execution_count": 34
        }
      ]
    },
    {
      "cell_type": "markdown",
      "source": [
        "Matriz de confusión"
      ],
      "metadata": {
        "id": "B7iYFL6wugDg"
      }
    },
    {
      "cell_type": "code",
      "source": [
        "pd.set_option('display.max_colwidth',12)\n",
        "confusion_matrix_df = pd.DataFrame( confusion_matrix(y_test.loc[0,:],predictions[:,0]) )\n",
        "confusion_matrix_df = confusion_matrix_df.rename(columns = {0:iris.target_names[0],1:iris.target_names[1],2:iris.target_names[2]},\n",
        "                                                 index = {0:iris.target_names[0],1:iris.target_names[1],2:iris.target_names[2]})\n",
        "confusion_matrix_df"
      ],
      "metadata": {
        "colab": {
          "base_uri": "https://localhost:8080/",
          "height": 143
        },
        "id": "panL03PYugK_",
        "outputId": "2d44340e-5ce5-40da-c5ce-8fe72c3eb603"
      },
      "execution_count": null,
      "outputs": [
        {
          "output_type": "execute_result",
          "data": {
            "text/plain": [
              "            setosa  versicolor  virginica\n",
              "setosa           5           0          0\n",
              "versicolor       0           6          0\n",
              "virginica        0           1          3"
            ],
            "text/html": [
              "\n",
              "  <div id=\"df-2a47cfe6-7a5c-4049-b5ee-4f7aa5367394\">\n",
              "    <div class=\"colab-df-container\">\n",
              "      <div>\n",
              "<style scoped>\n",
              "    .dataframe tbody tr th:only-of-type {\n",
              "        vertical-align: middle;\n",
              "    }\n",
              "\n",
              "    .dataframe tbody tr th {\n",
              "        vertical-align: top;\n",
              "    }\n",
              "\n",
              "    .dataframe thead th {\n",
              "        text-align: right;\n",
              "    }\n",
              "</style>\n",
              "<table border=\"1\" class=\"dataframe\">\n",
              "  <thead>\n",
              "    <tr style=\"text-align: right;\">\n",
              "      <th></th>\n",
              "      <th>setosa</th>\n",
              "      <th>versicolor</th>\n",
              "      <th>virginica</th>\n",
              "    </tr>\n",
              "  </thead>\n",
              "  <tbody>\n",
              "    <tr>\n",
              "      <th>setosa</th>\n",
              "      <td>5</td>\n",
              "      <td>0</td>\n",
              "      <td>0</td>\n",
              "    </tr>\n",
              "    <tr>\n",
              "      <th>versicolor</th>\n",
              "      <td>0</td>\n",
              "      <td>6</td>\n",
              "      <td>0</td>\n",
              "    </tr>\n",
              "    <tr>\n",
              "      <th>virginica</th>\n",
              "      <td>0</td>\n",
              "      <td>1</td>\n",
              "      <td>3</td>\n",
              "    </tr>\n",
              "  </tbody>\n",
              "</table>\n",
              "</div>\n",
              "      <button class=\"colab-df-convert\" onclick=\"convertToInteractive('df-2a47cfe6-7a5c-4049-b5ee-4f7aa5367394')\"\n",
              "              title=\"Convert this dataframe to an interactive table.\"\n",
              "              style=\"display:none;\">\n",
              "        \n",
              "  <svg xmlns=\"http://www.w3.org/2000/svg\" height=\"24px\"viewBox=\"0 0 24 24\"\n",
              "       width=\"24px\">\n",
              "    <path d=\"M0 0h24v24H0V0z\" fill=\"none\"/>\n",
              "    <path d=\"M18.56 5.44l.94 2.06.94-2.06 2.06-.94-2.06-.94-.94-2.06-.94 2.06-2.06.94zm-11 1L8.5 8.5l.94-2.06 2.06-.94-2.06-.94L8.5 2.5l-.94 2.06-2.06.94zm10 10l.94 2.06.94-2.06 2.06-.94-2.06-.94-.94-2.06-.94 2.06-2.06.94z\"/><path d=\"M17.41 7.96l-1.37-1.37c-.4-.4-.92-.59-1.43-.59-.52 0-1.04.2-1.43.59L10.3 9.45l-7.72 7.72c-.78.78-.78 2.05 0 2.83L4 21.41c.39.39.9.59 1.41.59.51 0 1.02-.2 1.41-.59l7.78-7.78 2.81-2.81c.8-.78.8-2.07 0-2.86zM5.41 20L4 18.59l7.72-7.72 1.47 1.35L5.41 20z\"/>\n",
              "  </svg>\n",
              "      </button>\n",
              "      \n",
              "  <style>\n",
              "    .colab-df-container {\n",
              "      display:flex;\n",
              "      flex-wrap:wrap;\n",
              "      gap: 12px;\n",
              "    }\n",
              "\n",
              "    .colab-df-convert {\n",
              "      background-color: #E8F0FE;\n",
              "      border: none;\n",
              "      border-radius: 50%;\n",
              "      cursor: pointer;\n",
              "      display: none;\n",
              "      fill: #1967D2;\n",
              "      height: 32px;\n",
              "      padding: 0 0 0 0;\n",
              "      width: 32px;\n",
              "    }\n",
              "\n",
              "    .colab-df-convert:hover {\n",
              "      background-color: #E2EBFA;\n",
              "      box-shadow: 0px 1px 2px rgba(60, 64, 67, 0.3), 0px 1px 3px 1px rgba(60, 64, 67, 0.15);\n",
              "      fill: #174EA6;\n",
              "    }\n",
              "\n",
              "    [theme=dark] .colab-df-convert {\n",
              "      background-color: #3B4455;\n",
              "      fill: #D2E3FC;\n",
              "    }\n",
              "\n",
              "    [theme=dark] .colab-df-convert:hover {\n",
              "      background-color: #434B5C;\n",
              "      box-shadow: 0px 1px 3px 1px rgba(0, 0, 0, 0.15);\n",
              "      filter: drop-shadow(0px 1px 2px rgba(0, 0, 0, 0.3));\n",
              "      fill: #FFFFFF;\n",
              "    }\n",
              "  </style>\n",
              "\n",
              "      <script>\n",
              "        const buttonEl =\n",
              "          document.querySelector('#df-2a47cfe6-7a5c-4049-b5ee-4f7aa5367394 button.colab-df-convert');\n",
              "        buttonEl.style.display =\n",
              "          google.colab.kernel.accessAllowed ? 'block' : 'none';\n",
              "\n",
              "        async function convertToInteractive(key) {\n",
              "          const element = document.querySelector('#df-2a47cfe6-7a5c-4049-b5ee-4f7aa5367394');\n",
              "          const dataTable =\n",
              "            await google.colab.kernel.invokeFunction('convertToInteractive',\n",
              "                                                     [key], {});\n",
              "          if (!dataTable) return;\n",
              "\n",
              "          const docLinkHtml = 'Like what you see? Visit the ' +\n",
              "            '<a target=\"_blank\" href=https://colab.research.google.com/notebooks/data_table.ipynb>data table notebook</a>'\n",
              "            + ' to learn more about interactive tables.';\n",
              "          element.innerHTML = '';\n",
              "          dataTable['output_type'] = 'display_data';\n",
              "          await google.colab.output.renderOutput(dataTable, element);\n",
              "          const docLink = document.createElement('div');\n",
              "          docLink.innerHTML = docLinkHtml;\n",
              "          element.appendChild(docLink);\n",
              "        }\n",
              "      </script>\n",
              "    </div>\n",
              "  </div>\n",
              "  "
            ]
          },
          "metadata": {},
          "execution_count": 26
        }
      ]
    },
    {
      "cell_type": "code",
      "source": [
        ""
      ],
      "metadata": {
        "id": "TPuJLm6GcA3D"
      },
      "execution_count": null,
      "outputs": []
    },
    {
      "cell_type": "markdown",
      "source": [
        "Score F1"
      ],
      "metadata": {
        "id": "StOwIwE-ulsg"
      }
    },
    {
      "cell_type": "code",
      "source": [
        "print(classification_report(y_test.loc[0,:],predictions[:,0]))"
      ],
      "metadata": {
        "colab": {
          "base_uri": "https://localhost:8080/"
        },
        "id": "5fYX8LPVulyw",
        "outputId": "b56262cb-ec07-4a76-c92e-e15a4b18b5f8"
      },
      "execution_count": null,
      "outputs": [
        {
          "output_type": "stream",
          "name": "stdout",
          "text": [
            "              precision    recall  f1-score   support\n",
            "\n",
            "           0       1.00      1.00      1.00         5\n",
            "           1       0.86      1.00      0.92         6\n",
            "           2       1.00      0.75      0.86         4\n",
            "\n",
            "    accuracy                           0.93        15\n",
            "   macro avg       0.95      0.92      0.93        15\n",
            "weighted avg       0.94      0.93      0.93        15\n",
            "\n"
          ]
        }
      ]
    }
  ]
}