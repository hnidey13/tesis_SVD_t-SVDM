{
  "nbformat": 4,
  "nbformat_minor": 0,
  "metadata": {
    "colab": {
      "provenance": [],
      "authorship_tag": "ABX9TyPyIPvrL340NZ/ZK8gnsNYa",
      "include_colab_link": true
    },
    "kernelspec": {
      "name": "ir",
      "display_name": "R"
    },
    "language_info": {
      "name": "R"
    }
  },
  "cells": [
    {
      "cell_type": "markdown",
      "metadata": {
        "id": "view-in-github",
        "colab_type": "text"
      },
      "source": [
        "<a href=\"https://colab.research.google.com/github/hnidey13/tesis_SVD_t-SVDM/blob/main/PCA_propiedades.ipynb\" target=\"_parent\"><img src=\"https://colab.research.google.com/assets/colab-badge.svg\" alt=\"Open In Colab\"/></a>"
      ]
    },
    {
      "cell_type": "markdown",
      "source": [
        "Limpiamos área de trabajo"
      ],
      "metadata": {
        "id": "kD_XEkBo_Sqq"
      }
    },
    {
      "cell_type": "code",
      "source": [
        "rm(list=ls())"
      ],
      "metadata": {
        "id": "TEH0knpS_TsE"
      },
      "execution_count": 1,
      "outputs": []
    },
    {
      "cell_type": "markdown",
      "source": [
        "Definimos una normal multivariada de dimensión $p$\n"
      ],
      "metadata": {
        "id": "E3tn-mwH_b_Y"
      }
    },
    {
      "cell_type": "code",
      "source": [
        "library(MASS)\n",
        "set.seed(1)\n",
        "p <- 5\n",
        "(mu <- rnorm(p)) #Vector de medias\n",
        "(Sigma <- rWishart(1,p,diag(p))[,,1]) #Cov(X)\n",
        "(corMat <- cov2cor(Sigma)) #Cor(X)"
      ],
      "metadata": {
        "colab": {
          "base_uri": "https://localhost:8080/",
          "height": 382
        },
        "id": "YPLCpuv9_cLE",
        "outputId": "247fed90-4ce9-474a-be9d-1f9632cb9f27"
      },
      "execution_count": 3,
      "outputs": [
        {
          "output_type": "display_data",
          "data": {
            "text/html": [
              "<style>\n",
              ".list-inline {list-style: none; margin:0; padding: 0}\n",
              ".list-inline>li {display: inline-block}\n",
              ".list-inline>li:not(:last-child)::after {content: \"\\00b7\"; padding: 0 .5ex}\n",
              "</style>\n",
              "<ol class=list-inline><li>-0.626453810742332</li><li>0.183643324222082</li><li>-0.835628612410047</li><li>1.59528080213779</li><li>0.329507771815361</li></ol>\n"
            ],
            "text/markdown": "1. -0.626453810742332\n2. 0.183643324222082\n3. -0.835628612410047\n4. 1.59528080213779\n5. 0.329507771815361\n\n\n",
            "text/latex": "\\begin{enumerate*}\n\\item -0.626453810742332\n\\item 0.183643324222082\n\\item -0.835628612410047\n\\item 1.59528080213779\n\\item 0.329507771815361\n\\end{enumerate*}\n",
            "text/plain": [
              "[1] -0.6264538  0.1836433 -0.8356286  1.5952808  0.3295078"
            ]
          },
          "metadata": {}
        },
        {
          "output_type": "display_data",
          "data": {
            "text/html": [
              "<table class=\"dataframe\">\n",
              "<caption>A matrix: 5 × 5 of type dbl</caption>\n",
              "<tbody>\n",
              "\t<tr><td> 2.0159492</td><td> 0.8175181</td><td>-1.1344663</td><td> 1.5972233</td><td> 1.3048020</td></tr>\n",
              "\t<tr><td> 0.8175181</td><td> 2.6530395</td><td>-2.2086845</td><td> 0.5792511</td><td> 1.7208336</td></tr>\n",
              "\t<tr><td>-1.1344663</td><td>-2.2086845</td><td> 3.3913867</td><td>-0.8666622</td><td>-1.5425465</td></tr>\n",
              "\t<tr><td> 1.5972233</td><td> 0.5792511</td><td>-0.8666622</td><td> 1.9002842</td><td>-0.5847361</td></tr>\n",
              "\t<tr><td> 1.3048020</td><td> 1.7208336</td><td>-1.5425465</td><td>-0.5847361</td><td> 7.1877857</td></tr>\n",
              "</tbody>\n",
              "</table>\n"
            ],
            "text/markdown": "\nA matrix: 5 × 5 of type dbl\n\n|  2.0159492 |  0.8175181 | -1.1344663 |  1.5972233 |  1.3048020 |\n|  0.8175181 |  2.6530395 | -2.2086845 |  0.5792511 |  1.7208336 |\n| -1.1344663 | -2.2086845 |  3.3913867 | -0.8666622 | -1.5425465 |\n|  1.5972233 |  0.5792511 | -0.8666622 |  1.9002842 | -0.5847361 |\n|  1.3048020 |  1.7208336 | -1.5425465 | -0.5847361 |  7.1877857 |\n\n",
            "text/latex": "A matrix: 5 × 5 of type dbl\n\\begin{tabular}{lllll}\n\t  2.0159492 &  0.8175181 & -1.1344663 &  1.5972233 &  1.3048020\\\\\n\t  0.8175181 &  2.6530395 & -2.2086845 &  0.5792511 &  1.7208336\\\\\n\t -1.1344663 & -2.2086845 &  3.3913867 & -0.8666622 & -1.5425465\\\\\n\t  1.5972233 &  0.5792511 & -0.8666622 &  1.9002842 & -0.5847361\\\\\n\t  1.3048020 &  1.7208336 & -1.5425465 & -0.5847361 &  7.1877857\\\\\n\\end{tabular}\n",
            "text/plain": [
              "     [,1]       [,2]       [,3]       [,4]       [,5]      \n",
              "[1,]  2.0159492  0.8175181 -1.1344663  1.5972233  1.3048020\n",
              "[2,]  0.8175181  2.6530395 -2.2086845  0.5792511  1.7208336\n",
              "[3,] -1.1344663 -2.2086845  3.3913867 -0.8666622 -1.5425465\n",
              "[4,]  1.5972233  0.5792511 -0.8666622  1.9002842 -0.5847361\n",
              "[5,]  1.3048020  1.7208336 -1.5425465 -0.5847361  7.1877857"
            ]
          },
          "metadata": {}
        },
        {
          "output_type": "display_data",
          "data": {
            "text/html": [
              "<table class=\"dataframe\">\n",
              "<caption>A matrix: 5 × 5 of type dbl</caption>\n",
              "<tbody>\n",
              "\t<tr><td> 1.0000000</td><td> 0.3534970</td><td>-0.4338735</td><td> 0.8160496</td><td> 0.3427735</td></tr>\n",
              "\t<tr><td> 0.3534970</td><td> 1.0000000</td><td>-0.7363311</td><td> 0.2579798</td><td> 0.3940664</td></tr>\n",
              "\t<tr><td>-0.4338735</td><td>-0.7363311</td><td> 1.0000000</td><td>-0.3413909</td><td>-0.3124295</td></tr>\n",
              "\t<tr><td> 0.8160496</td><td> 0.2579798</td><td>-0.3413909</td><td> 1.0000000</td><td>-0.1582170</td></tr>\n",
              "\t<tr><td> 0.3427735</td><td> 0.3940664</td><td>-0.3124295</td><td>-0.1582170</td><td> 1.0000000</td></tr>\n",
              "</tbody>\n",
              "</table>\n"
            ],
            "text/markdown": "\nA matrix: 5 × 5 of type dbl\n\n|  1.0000000 |  0.3534970 | -0.4338735 |  0.8160496 |  0.3427735 |\n|  0.3534970 |  1.0000000 | -0.7363311 |  0.2579798 |  0.3940664 |\n| -0.4338735 | -0.7363311 |  1.0000000 | -0.3413909 | -0.3124295 |\n|  0.8160496 |  0.2579798 | -0.3413909 |  1.0000000 | -0.1582170 |\n|  0.3427735 |  0.3940664 | -0.3124295 | -0.1582170 |  1.0000000 |\n\n",
            "text/latex": "A matrix: 5 × 5 of type dbl\n\\begin{tabular}{lllll}\n\t  1.0000000 &  0.3534970 & -0.4338735 &  0.8160496 &  0.3427735\\\\\n\t  0.3534970 &  1.0000000 & -0.7363311 &  0.2579798 &  0.3940664\\\\\n\t -0.4338735 & -0.7363311 &  1.0000000 & -0.3413909 & -0.3124295\\\\\n\t  0.8160496 &  0.2579798 & -0.3413909 &  1.0000000 & -0.1582170\\\\\n\t  0.3427735 &  0.3940664 & -0.3124295 & -0.1582170 &  1.0000000\\\\\n\\end{tabular}\n",
            "text/plain": [
              "     [,1]       [,2]       [,3]       [,4]       [,5]      \n",
              "[1,]  1.0000000  0.3534970 -0.4338735  0.8160496  0.3427735\n",
              "[2,]  0.3534970  1.0000000 -0.7363311  0.2579798  0.3940664\n",
              "[3,] -0.4338735 -0.7363311  1.0000000 -0.3413909 -0.3124295\n",
              "[4,]  0.8160496  0.2579798 -0.3413909  1.0000000 -0.1582170\n",
              "[5,]  0.3427735  0.3940664 -0.3124295 -0.1582170  1.0000000"
            ]
          },
          "metadata": {}
        }
      ]
    },
    {
      "cell_type": "code",
      "execution_count": null,
      "metadata": {
        "id": "ad4SXGJP-5Zk"
      },
      "outputs": [],
      "source": [
        "library(MASS)\n",
        "#set.seed(1)\n",
        "p <- 5\n",
        "(mu <- rnorm(p)) #Vector de medias\n",
        "(Sigma <- rWishart(1,p,diag(p))[,,1]) #Cov(X)\n",
        "(corMat <- cov2cor(Sigma)) #Cor(X)\n",
        "\n",
        "#Simulamos n observaciones\n",
        "n <- 100\n",
        "A <- mvrnorm(n = n, mu, Sigma)\n",
        "Ac <- scale(A, center = TRUE, scale = FALSE) #Matriz con datos centrados\n",
        "#Ac <- A\n",
        "\n",
        "#Estimaciones de mean(X'), cov(X') y cor(X')\n",
        "colMeans(A)\n",
        "cov(A)\n",
        "cor(A)\n",
        "\n",
        "#Estimaciones de mean(X), cov(X) y cor(X)\n",
        "colMeans(Ac)\n",
        "(Sigma_X_est <- cov(Ac))\n",
        "t(Ac)%*%Ac/(n-1)\n",
        "cor(Ac)\n",
        "\n",
        "#PCA sobre Ac (probabilista)\n",
        "L <- eigen(Sigma)$vectors\n",
        "L\n",
        "\n",
        "#PCA sobre Ac (estad?stico)\n",
        "(L_est <- prcomp(Ac)$rotation) #Usa SVD\n",
        "\n",
        "princomp(Ac)$loadings #Usa eigen (no funciona si p>n)\n",
        "round(eigen(cov(Ac))$vectors,3) #Equivalentemente\n",
        "\n",
        "#PROPIEDADES\n",
        "#1. Var[Y_i] = lambda_i\n",
        "#2. Cov(Y_i,Y_j)=0\n",
        "\n",
        "#Probabilista\n",
        "(Sigma_Y <- round(t(L) %*% Sigma %*% L,4))\n",
        "round(eigen(Sigma)$values,4)\n",
        "\n",
        "#Estimaci?n\n",
        "Y_est <- Ac %*% L_est\n",
        "#princomp(Ac)$scores #Equivalentemente\n",
        "(Sigma_Y_est <- round(cov(Y_est),4))\n",
        "\n",
        "#3. sum(Var[X])=sum(Var[Y])=sum(lambda)\n",
        "\n",
        "#Probabilista\n",
        "sum(diag(Sigma))\n",
        "sum(diag(Sigma_Y))\n",
        "\n",
        "#Estad?stico\n",
        "sum(diag(Sigma_X_est))\n",
        "sum(diag(Sigma_Y_est))\n",
        "\n",
        "#4. \\E[\\norm{X-L(L^TX)}^2]=\\sum_{i=p+1}^d\\lambda_i\n",
        "\n",
        "#Estad?stico\n",
        "d <- 2\n",
        "error_fun <- function(X,L) sum((X - L %*% t(L) %*% X)^2)\n",
        "mean(sapply(1:nrow(Ac), function(i) error_fun(Ac[i,],L[,1:d])))\n",
        "sum(diag(Sigma_Y_est)[(d+1):p])"
      ]
    }
  ]
}