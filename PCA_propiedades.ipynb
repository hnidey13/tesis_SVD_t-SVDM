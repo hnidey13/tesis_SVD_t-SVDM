{
  "nbformat": 4,
  "nbformat_minor": 0,
  "metadata": {
    "colab": {
      "provenance": [],
      "authorship_tag": "ABX9TyMaJp/Lo7D+Ec6nKB0i0vS6",
      "include_colab_link": true
    },
    "kernelspec": {
      "name": "ir",
      "display_name": "R"
    },
    "language_info": {
      "name": "R"
    }
  },
  "cells": [
    {
      "cell_type": "markdown",
      "metadata": {
        "id": "view-in-github",
        "colab_type": "text"
      },
      "source": [
        "<a href=\"https://colab.research.google.com/github/hnidey13/tesis_SVD_t-SVDM/blob/main/PCA_propiedades.ipynb\" target=\"_parent\"><img src=\"https://colab.research.google.com/assets/colab-badge.svg\" alt=\"Open In Colab\"/></a>"
      ]
    },
    {
      "cell_type": "markdown",
      "source": [
        "Limpiamos área de trabajo"
      ],
      "metadata": {
        "id": "kD_XEkBo_Sqq"
      }
    },
    {
      "cell_type": "code",
      "source": [
        "rm(list=ls())"
      ],
      "metadata": {
        "id": "TEH0knpS_TsE"
      },
      "execution_count": 1,
      "outputs": []
    },
    {
      "cell_type": "markdown",
      "source": [
        "Definimos una normal multivariada de dimensión $p$\n"
      ],
      "metadata": {
        "id": "E3tn-mwH_b_Y"
      }
    },
    {
      "cell_type": "code",
      "source": [
        "library(MASS)\n",
        "set.seed(1)\n",
        "p <- 5\n",
        "(mu <- rnorm(p)) #Vector de medias\n",
        "(Sigma <- rWishart(1,p,diag(p))[,,1]) #Cov(X)\n",
        "(corMat <- cov2cor(Sigma)) #Cor(X)"
      ],
      "metadata": {
        "colab": {
          "base_uri": "https://localhost:8080/",
          "height": 382
        },
        "id": "YPLCpuv9_cLE",
        "outputId": "a6ff9ab5-0c71-40c9-cc3d-c1da66f40cbb"
      },
      "execution_count": 2,
      "outputs": [
        {
          "output_type": "display_data",
          "data": {
            "text/html": [
              "<style>\n",
              ".list-inline {list-style: none; margin:0; padding: 0}\n",
              ".list-inline>li {display: inline-block}\n",
              ".list-inline>li:not(:last-child)::after {content: \"\\00b7\"; padding: 0 .5ex}\n",
              "</style>\n",
              "<ol class=list-inline><li>-0.626453810742332</li><li>0.183643324222082</li><li>-0.835628612410047</li><li>1.59528080213779</li><li>0.329507771815361</li></ol>\n"
            ],
            "text/markdown": "1. -0.626453810742332\n2. 0.183643324222082\n3. -0.835628612410047\n4. 1.59528080213779\n5. 0.329507771815361\n\n\n",
            "text/latex": "\\begin{enumerate*}\n\\item -0.626453810742332\n\\item 0.183643324222082\n\\item -0.835628612410047\n\\item 1.59528080213779\n\\item 0.329507771815361\n\\end{enumerate*}\n",
            "text/plain": [
              "[1] -0.6264538  0.1836433 -0.8356286  1.5952808  0.3295078"
            ]
          },
          "metadata": {}
        },
        {
          "output_type": "display_data",
          "data": {
            "text/html": [
              "<table class=\"dataframe\">\n",
              "<caption>A matrix: 5 × 5 of type dbl</caption>\n",
              "<tbody>\n",
              "\t<tr><td> 2.0159492</td><td> 0.8175181</td><td>-1.1344663</td><td> 1.5972233</td><td> 1.3048020</td></tr>\n",
              "\t<tr><td> 0.8175181</td><td> 2.6530395</td><td>-2.2086845</td><td> 0.5792511</td><td> 1.7208336</td></tr>\n",
              "\t<tr><td>-1.1344663</td><td>-2.2086845</td><td> 3.3913867</td><td>-0.8666622</td><td>-1.5425465</td></tr>\n",
              "\t<tr><td> 1.5972233</td><td> 0.5792511</td><td>-0.8666622</td><td> 1.9002842</td><td>-0.5847361</td></tr>\n",
              "\t<tr><td> 1.3048020</td><td> 1.7208336</td><td>-1.5425465</td><td>-0.5847361</td><td> 7.1877857</td></tr>\n",
              "</tbody>\n",
              "</table>\n"
            ],
            "text/markdown": "\nA matrix: 5 × 5 of type dbl\n\n|  2.0159492 |  0.8175181 | -1.1344663 |  1.5972233 |  1.3048020 |\n|  0.8175181 |  2.6530395 | -2.2086845 |  0.5792511 |  1.7208336 |\n| -1.1344663 | -2.2086845 |  3.3913867 | -0.8666622 | -1.5425465 |\n|  1.5972233 |  0.5792511 | -0.8666622 |  1.9002842 | -0.5847361 |\n|  1.3048020 |  1.7208336 | -1.5425465 | -0.5847361 |  7.1877857 |\n\n",
            "text/latex": "A matrix: 5 × 5 of type dbl\n\\begin{tabular}{lllll}\n\t  2.0159492 &  0.8175181 & -1.1344663 &  1.5972233 &  1.3048020\\\\\n\t  0.8175181 &  2.6530395 & -2.2086845 &  0.5792511 &  1.7208336\\\\\n\t -1.1344663 & -2.2086845 &  3.3913867 & -0.8666622 & -1.5425465\\\\\n\t  1.5972233 &  0.5792511 & -0.8666622 &  1.9002842 & -0.5847361\\\\\n\t  1.3048020 &  1.7208336 & -1.5425465 & -0.5847361 &  7.1877857\\\\\n\\end{tabular}\n",
            "text/plain": [
              "     [,1]       [,2]       [,3]       [,4]       [,5]      \n",
              "[1,]  2.0159492  0.8175181 -1.1344663  1.5972233  1.3048020\n",
              "[2,]  0.8175181  2.6530395 -2.2086845  0.5792511  1.7208336\n",
              "[3,] -1.1344663 -2.2086845  3.3913867 -0.8666622 -1.5425465\n",
              "[4,]  1.5972233  0.5792511 -0.8666622  1.9002842 -0.5847361\n",
              "[5,]  1.3048020  1.7208336 -1.5425465 -0.5847361  7.1877857"
            ]
          },
          "metadata": {}
        },
        {
          "output_type": "display_data",
          "data": {
            "text/html": [
              "<table class=\"dataframe\">\n",
              "<caption>A matrix: 5 × 5 of type dbl</caption>\n",
              "<tbody>\n",
              "\t<tr><td> 1.0000000</td><td> 0.3534970</td><td>-0.4338735</td><td> 0.8160496</td><td> 0.3427735</td></tr>\n",
              "\t<tr><td> 0.3534970</td><td> 1.0000000</td><td>-0.7363311</td><td> 0.2579798</td><td> 0.3940664</td></tr>\n",
              "\t<tr><td>-0.4338735</td><td>-0.7363311</td><td> 1.0000000</td><td>-0.3413909</td><td>-0.3124295</td></tr>\n",
              "\t<tr><td> 0.8160496</td><td> 0.2579798</td><td>-0.3413909</td><td> 1.0000000</td><td>-0.1582170</td></tr>\n",
              "\t<tr><td> 0.3427735</td><td> 0.3940664</td><td>-0.3124295</td><td>-0.1582170</td><td> 1.0000000</td></tr>\n",
              "</tbody>\n",
              "</table>\n"
            ],
            "text/markdown": "\nA matrix: 5 × 5 of type dbl\n\n|  1.0000000 |  0.3534970 | -0.4338735 |  0.8160496 |  0.3427735 |\n|  0.3534970 |  1.0000000 | -0.7363311 |  0.2579798 |  0.3940664 |\n| -0.4338735 | -0.7363311 |  1.0000000 | -0.3413909 | -0.3124295 |\n|  0.8160496 |  0.2579798 | -0.3413909 |  1.0000000 | -0.1582170 |\n|  0.3427735 |  0.3940664 | -0.3124295 | -0.1582170 |  1.0000000 |\n\n",
            "text/latex": "A matrix: 5 × 5 of type dbl\n\\begin{tabular}{lllll}\n\t  1.0000000 &  0.3534970 & -0.4338735 &  0.8160496 &  0.3427735\\\\\n\t  0.3534970 &  1.0000000 & -0.7363311 &  0.2579798 &  0.3940664\\\\\n\t -0.4338735 & -0.7363311 &  1.0000000 & -0.3413909 & -0.3124295\\\\\n\t  0.8160496 &  0.2579798 & -0.3413909 &  1.0000000 & -0.1582170\\\\\n\t  0.3427735 &  0.3940664 & -0.3124295 & -0.1582170 &  1.0000000\\\\\n\\end{tabular}\n",
            "text/plain": [
              "     [,1]       [,2]       [,3]       [,4]       [,5]      \n",
              "[1,]  1.0000000  0.3534970 -0.4338735  0.8160496  0.3427735\n",
              "[2,]  0.3534970  1.0000000 -0.7363311  0.2579798  0.3940664\n",
              "[3,] -0.4338735 -0.7363311  1.0000000 -0.3413909 -0.3124295\n",
              "[4,]  0.8160496  0.2579798 -0.3413909  1.0000000 -0.1582170\n",
              "[5,]  0.3427735  0.3940664 -0.3124295 -0.1582170  1.0000000"
            ]
          },
          "metadata": {}
        }
      ]
    },
    {
      "cell_type": "markdown",
      "source": [
        "Simulamos n observaciones"
      ],
      "metadata": {
        "id": "O3H8aFD3A21f"
      }
    },
    {
      "cell_type": "code",
      "source": [
        "n <- 100\n",
        "A <- mvrnorm(n = n, mu, Sigma)\n",
        "Ac <- scale(A, center = TRUE, scale = FALSE) #Matriz con datos centrados"
      ],
      "metadata": {
        "id": "_eexiJULA29O"
      },
      "execution_count": 3,
      "outputs": []
    },
    {
      "cell_type": "markdown",
      "source": [
        "Estimaciones de mean(X'), cov(X') y cor(X')"
      ],
      "metadata": {
        "id": "BrTXRDyRA7K7"
      }
    },
    {
      "cell_type": "code",
      "source": [
        "colMeans(A)\n",
        "cov(A)\n",
        "cor(A)"
      ],
      "metadata": {
        "colab": {
          "base_uri": "https://localhost:8080/",
          "height": 382
        },
        "id": "shCD0iaeA7SP",
        "outputId": "eda5b1fe-8285-4a22-d892-1d5ed8e164b6"
      },
      "execution_count": 4,
      "outputs": [
        {
          "output_type": "display_data",
          "data": {
            "text/html": [
              "<style>\n",
              ".list-inline {list-style: none; margin:0; padding: 0}\n",
              ".list-inline>li {display: inline-block}\n",
              ".list-inline>li:not(:last-child)::after {content: \"\\00b7\"; padding: 0 .5ex}\n",
              "</style>\n",
              "<ol class=list-inline><li>-0.645767292289232</li><li>0.0428325937551997</li><li>-0.714598667675478</li><li>1.6862844980594</li><li>0.0701686216396591</li></ol>\n"
            ],
            "text/markdown": "1. -0.645767292289232\n2. 0.0428325937551997\n3. -0.714598667675478\n4. 1.6862844980594\n5. 0.0701686216396591\n\n\n",
            "text/latex": "\\begin{enumerate*}\n\\item -0.645767292289232\n\\item 0.0428325937551997\n\\item -0.714598667675478\n\\item 1.6862844980594\n\\item 0.0701686216396591\n\\end{enumerate*}\n",
            "text/plain": [
              "[1] -0.64576729  0.04283259 -0.71459867  1.68628450  0.07016862"
            ]
          },
          "metadata": {}
        },
        {
          "output_type": "display_data",
          "data": {
            "text/html": [
              "<table class=\"dataframe\">\n",
              "<caption>A matrix: 5 × 5 of type dbl</caption>\n",
              "<tbody>\n",
              "\t<tr><td> 2.0003007</td><td> 0.4674296</td><td>-1.096025</td><td> 1.7877000</td><td> 0.6528109</td></tr>\n",
              "\t<tr><td> 0.4674296</td><td> 2.2381348</td><td>-1.926503</td><td> 0.5419785</td><td> 0.9465673</td></tr>\n",
              "\t<tr><td>-1.0960252</td><td>-1.9265031</td><td> 3.254768</td><td>-1.0910756</td><td>-1.0352595</td></tr>\n",
              "\t<tr><td> 1.7877000</td><td> 0.5419785</td><td>-1.091076</td><td> 2.2422848</td><td>-0.7237453</td></tr>\n",
              "\t<tr><td> 0.6528109</td><td> 0.9465673</td><td>-1.035260</td><td>-0.7237453</td><td> 5.3540710</td></tr>\n",
              "</tbody>\n",
              "</table>\n"
            ],
            "text/markdown": "\nA matrix: 5 × 5 of type dbl\n\n|  2.0003007 |  0.4674296 | -1.096025 |  1.7877000 |  0.6528109 |\n|  0.4674296 |  2.2381348 | -1.926503 |  0.5419785 |  0.9465673 |\n| -1.0960252 | -1.9265031 |  3.254768 | -1.0910756 | -1.0352595 |\n|  1.7877000 |  0.5419785 | -1.091076 |  2.2422848 | -0.7237453 |\n|  0.6528109 |  0.9465673 | -1.035260 | -0.7237453 |  5.3540710 |\n\n",
            "text/latex": "A matrix: 5 × 5 of type dbl\n\\begin{tabular}{lllll}\n\t  2.0003007 &  0.4674296 & -1.096025 &  1.7877000 &  0.6528109\\\\\n\t  0.4674296 &  2.2381348 & -1.926503 &  0.5419785 &  0.9465673\\\\\n\t -1.0960252 & -1.9265031 &  3.254768 & -1.0910756 & -1.0352595\\\\\n\t  1.7877000 &  0.5419785 & -1.091076 &  2.2422848 & -0.7237453\\\\\n\t  0.6528109 &  0.9465673 & -1.035260 & -0.7237453 &  5.3540710\\\\\n\\end{tabular}\n",
            "text/plain": [
              "     [,1]       [,2]       [,3]      [,4]       [,5]      \n",
              "[1,]  2.0003007  0.4674296 -1.096025  1.7877000  0.6528109\n",
              "[2,]  0.4674296  2.2381348 -1.926503  0.5419785  0.9465673\n",
              "[3,] -1.0960252 -1.9265031  3.254768 -1.0910756 -1.0352595\n",
              "[4,]  1.7877000  0.5419785 -1.091076  2.2422848 -0.7237453\n",
              "[5,]  0.6528109  0.9465673 -1.035260 -0.7237453  5.3540710"
            ]
          },
          "metadata": {}
        },
        {
          "output_type": "display_data",
          "data": {
            "text/html": [
              "<table class=\"dataframe\">\n",
              "<caption>A matrix: 5 × 5 of type dbl</caption>\n",
              "<tbody>\n",
              "\t<tr><td> 1.0000000</td><td> 0.2209151</td><td>-0.4295492</td><td> 0.8441150</td><td> 0.1994792</td></tr>\n",
              "\t<tr><td> 0.2209151</td><td> 1.0000000</td><td>-0.7137837</td><td> 0.2419321</td><td> 0.2734427</td></tr>\n",
              "\t<tr><td>-0.4295492</td><td>-0.7137837</td><td> 1.0000000</td><td>-0.4038773</td><td>-0.2479974</td></tr>\n",
              "\t<tr><td> 0.8441150</td><td> 0.2419321</td><td>-0.4038773</td><td> 1.0000000</td><td>-0.2088807</td></tr>\n",
              "\t<tr><td> 0.1994792</td><td> 0.2734427</td><td>-0.2479974</td><td>-0.2088807</td><td> 1.0000000</td></tr>\n",
              "</tbody>\n",
              "</table>\n"
            ],
            "text/markdown": "\nA matrix: 5 × 5 of type dbl\n\n|  1.0000000 |  0.2209151 | -0.4295492 |  0.8441150 |  0.1994792 |\n|  0.2209151 |  1.0000000 | -0.7137837 |  0.2419321 |  0.2734427 |\n| -0.4295492 | -0.7137837 |  1.0000000 | -0.4038773 | -0.2479974 |\n|  0.8441150 |  0.2419321 | -0.4038773 |  1.0000000 | -0.2088807 |\n|  0.1994792 |  0.2734427 | -0.2479974 | -0.2088807 |  1.0000000 |\n\n",
            "text/latex": "A matrix: 5 × 5 of type dbl\n\\begin{tabular}{lllll}\n\t  1.0000000 &  0.2209151 & -0.4295492 &  0.8441150 &  0.1994792\\\\\n\t  0.2209151 &  1.0000000 & -0.7137837 &  0.2419321 &  0.2734427\\\\\n\t -0.4295492 & -0.7137837 &  1.0000000 & -0.4038773 & -0.2479974\\\\\n\t  0.8441150 &  0.2419321 & -0.4038773 &  1.0000000 & -0.2088807\\\\\n\t  0.1994792 &  0.2734427 & -0.2479974 & -0.2088807 &  1.0000000\\\\\n\\end{tabular}\n",
            "text/plain": [
              "     [,1]       [,2]       [,3]       [,4]       [,5]      \n",
              "[1,]  1.0000000  0.2209151 -0.4295492  0.8441150  0.1994792\n",
              "[2,]  0.2209151  1.0000000 -0.7137837  0.2419321  0.2734427\n",
              "[3,] -0.4295492 -0.7137837  1.0000000 -0.4038773 -0.2479974\n",
              "[4,]  0.8441150  0.2419321 -0.4038773  1.0000000 -0.2088807\n",
              "[5,]  0.1994792  0.2734427 -0.2479974 -0.2088807  1.0000000"
            ]
          },
          "metadata": {}
        }
      ]
    },
    {
      "cell_type": "markdown",
      "source": [
        "Estimaciones de mean(X), cov(X) y cor(X)"
      ],
      "metadata": {
        "id": "wGcQh8TABUzg"
      }
    },
    {
      "cell_type": "code",
      "source": [
        "colMeans(Ac)\n",
        "(Sigma_X_est <- cov(Ac))\n",
        "t(Ac)%*%Ac/(n-1)\n",
        "cor(Ac)"
      ],
      "metadata": {
        "id": "V4h9wu7XBU-O",
        "outputId": "74f84c38-875b-44d3-b42c-62a747878224",
        "colab": {
          "base_uri": "https://localhost:8080/",
          "height": 556
        }
      },
      "execution_count": 5,
      "outputs": [
        {
          "output_type": "display_data",
          "data": {
            "text/html": [
              "<style>\n",
              ".list-inline {list-style: none; margin:0; padding: 0}\n",
              ".list-inline>li {display: inline-block}\n",
              ".list-inline>li:not(:last-child)::after {content: \"\\00b7\"; padding: 0 .5ex}\n",
              "</style>\n",
              "<ol class=list-inline><li>9.27036225562006e-17</li><li>-2.27595720048157e-17</li><li>9.43689570931383e-18</li><li>-1.02140518265514e-16</li><li>5.55111512312578e-18</li></ol>\n"
            ],
            "text/markdown": "1. 9.27036225562006e-17\n2. -2.27595720048157e-17\n3. 9.43689570931383e-18\n4. -1.02140518265514e-16\n5. 5.55111512312578e-18\n\n\n",
            "text/latex": "\\begin{enumerate*}\n\\item 9.27036225562006e-17\n\\item -2.27595720048157e-17\n\\item 9.43689570931383e-18\n\\item -1.02140518265514e-16\n\\item 5.55111512312578e-18\n\\end{enumerate*}\n",
            "text/plain": [
              "[1]  9.270362e-17 -2.275957e-17  9.436896e-18 -1.021405e-16  5.551115e-18"
            ]
          },
          "metadata": {}
        },
        {
          "output_type": "display_data",
          "data": {
            "text/html": [
              "<table class=\"dataframe\">\n",
              "<caption>A matrix: 5 × 5 of type dbl</caption>\n",
              "<tbody>\n",
              "\t<tr><td> 2.0003007</td><td> 0.4674296</td><td>-1.096025</td><td> 1.7877000</td><td> 0.6528109</td></tr>\n",
              "\t<tr><td> 0.4674296</td><td> 2.2381348</td><td>-1.926503</td><td> 0.5419785</td><td> 0.9465673</td></tr>\n",
              "\t<tr><td>-1.0960252</td><td>-1.9265031</td><td> 3.254768</td><td>-1.0910756</td><td>-1.0352595</td></tr>\n",
              "\t<tr><td> 1.7877000</td><td> 0.5419785</td><td>-1.091076</td><td> 2.2422848</td><td>-0.7237453</td></tr>\n",
              "\t<tr><td> 0.6528109</td><td> 0.9465673</td><td>-1.035260</td><td>-0.7237453</td><td> 5.3540710</td></tr>\n",
              "</tbody>\n",
              "</table>\n"
            ],
            "text/markdown": "\nA matrix: 5 × 5 of type dbl\n\n|  2.0003007 |  0.4674296 | -1.096025 |  1.7877000 |  0.6528109 |\n|  0.4674296 |  2.2381348 | -1.926503 |  0.5419785 |  0.9465673 |\n| -1.0960252 | -1.9265031 |  3.254768 | -1.0910756 | -1.0352595 |\n|  1.7877000 |  0.5419785 | -1.091076 |  2.2422848 | -0.7237453 |\n|  0.6528109 |  0.9465673 | -1.035260 | -0.7237453 |  5.3540710 |\n\n",
            "text/latex": "A matrix: 5 × 5 of type dbl\n\\begin{tabular}{lllll}\n\t  2.0003007 &  0.4674296 & -1.096025 &  1.7877000 &  0.6528109\\\\\n\t  0.4674296 &  2.2381348 & -1.926503 &  0.5419785 &  0.9465673\\\\\n\t -1.0960252 & -1.9265031 &  3.254768 & -1.0910756 & -1.0352595\\\\\n\t  1.7877000 &  0.5419785 & -1.091076 &  2.2422848 & -0.7237453\\\\\n\t  0.6528109 &  0.9465673 & -1.035260 & -0.7237453 &  5.3540710\\\\\n\\end{tabular}\n",
            "text/plain": [
              "     [,1]       [,2]       [,3]      [,4]       [,5]      \n",
              "[1,]  2.0003007  0.4674296 -1.096025  1.7877000  0.6528109\n",
              "[2,]  0.4674296  2.2381348 -1.926503  0.5419785  0.9465673\n",
              "[3,] -1.0960252 -1.9265031  3.254768 -1.0910756 -1.0352595\n",
              "[4,]  1.7877000  0.5419785 -1.091076  2.2422848 -0.7237453\n",
              "[5,]  0.6528109  0.9465673 -1.035260 -0.7237453  5.3540710"
            ]
          },
          "metadata": {}
        },
        {
          "output_type": "display_data",
          "data": {
            "text/html": [
              "<table class=\"dataframe\">\n",
              "<caption>A matrix: 5 × 5 of type dbl</caption>\n",
              "<tbody>\n",
              "\t<tr><td> 2.0003007</td><td> 0.4674296</td><td>-1.096025</td><td> 1.7877000</td><td> 0.6528109</td></tr>\n",
              "\t<tr><td> 0.4674296</td><td> 2.2381348</td><td>-1.926503</td><td> 0.5419785</td><td> 0.9465673</td></tr>\n",
              "\t<tr><td>-1.0960252</td><td>-1.9265031</td><td> 3.254768</td><td>-1.0910756</td><td>-1.0352595</td></tr>\n",
              "\t<tr><td> 1.7877000</td><td> 0.5419785</td><td>-1.091076</td><td> 2.2422848</td><td>-0.7237453</td></tr>\n",
              "\t<tr><td> 0.6528109</td><td> 0.9465673</td><td>-1.035260</td><td>-0.7237453</td><td> 5.3540710</td></tr>\n",
              "</tbody>\n",
              "</table>\n"
            ],
            "text/markdown": "\nA matrix: 5 × 5 of type dbl\n\n|  2.0003007 |  0.4674296 | -1.096025 |  1.7877000 |  0.6528109 |\n|  0.4674296 |  2.2381348 | -1.926503 |  0.5419785 |  0.9465673 |\n| -1.0960252 | -1.9265031 |  3.254768 | -1.0910756 | -1.0352595 |\n|  1.7877000 |  0.5419785 | -1.091076 |  2.2422848 | -0.7237453 |\n|  0.6528109 |  0.9465673 | -1.035260 | -0.7237453 |  5.3540710 |\n\n",
            "text/latex": "A matrix: 5 × 5 of type dbl\n\\begin{tabular}{lllll}\n\t  2.0003007 &  0.4674296 & -1.096025 &  1.7877000 &  0.6528109\\\\\n\t  0.4674296 &  2.2381348 & -1.926503 &  0.5419785 &  0.9465673\\\\\n\t -1.0960252 & -1.9265031 &  3.254768 & -1.0910756 & -1.0352595\\\\\n\t  1.7877000 &  0.5419785 & -1.091076 &  2.2422848 & -0.7237453\\\\\n\t  0.6528109 &  0.9465673 & -1.035260 & -0.7237453 &  5.3540710\\\\\n\\end{tabular}\n",
            "text/plain": [
              "     [,1]       [,2]       [,3]      [,4]       [,5]      \n",
              "[1,]  2.0003007  0.4674296 -1.096025  1.7877000  0.6528109\n",
              "[2,]  0.4674296  2.2381348 -1.926503  0.5419785  0.9465673\n",
              "[3,] -1.0960252 -1.9265031  3.254768 -1.0910756 -1.0352595\n",
              "[4,]  1.7877000  0.5419785 -1.091076  2.2422848 -0.7237453\n",
              "[5,]  0.6528109  0.9465673 -1.035260 -0.7237453  5.3540710"
            ]
          },
          "metadata": {}
        },
        {
          "output_type": "display_data",
          "data": {
            "text/html": [
              "<table class=\"dataframe\">\n",
              "<caption>A matrix: 5 × 5 of type dbl</caption>\n",
              "<tbody>\n",
              "\t<tr><td> 1.0000000</td><td> 0.2209151</td><td>-0.4295492</td><td> 0.8441150</td><td> 0.1994792</td></tr>\n",
              "\t<tr><td> 0.2209151</td><td> 1.0000000</td><td>-0.7137837</td><td> 0.2419321</td><td> 0.2734427</td></tr>\n",
              "\t<tr><td>-0.4295492</td><td>-0.7137837</td><td> 1.0000000</td><td>-0.4038773</td><td>-0.2479974</td></tr>\n",
              "\t<tr><td> 0.8441150</td><td> 0.2419321</td><td>-0.4038773</td><td> 1.0000000</td><td>-0.2088807</td></tr>\n",
              "\t<tr><td> 0.1994792</td><td> 0.2734427</td><td>-0.2479974</td><td>-0.2088807</td><td> 1.0000000</td></tr>\n",
              "</tbody>\n",
              "</table>\n"
            ],
            "text/markdown": "\nA matrix: 5 × 5 of type dbl\n\n|  1.0000000 |  0.2209151 | -0.4295492 |  0.8441150 |  0.1994792 |\n|  0.2209151 |  1.0000000 | -0.7137837 |  0.2419321 |  0.2734427 |\n| -0.4295492 | -0.7137837 |  1.0000000 | -0.4038773 | -0.2479974 |\n|  0.8441150 |  0.2419321 | -0.4038773 |  1.0000000 | -0.2088807 |\n|  0.1994792 |  0.2734427 | -0.2479974 | -0.2088807 |  1.0000000 |\n\n",
            "text/latex": "A matrix: 5 × 5 of type dbl\n\\begin{tabular}{lllll}\n\t  1.0000000 &  0.2209151 & -0.4295492 &  0.8441150 &  0.1994792\\\\\n\t  0.2209151 &  1.0000000 & -0.7137837 &  0.2419321 &  0.2734427\\\\\n\t -0.4295492 & -0.7137837 &  1.0000000 & -0.4038773 & -0.2479974\\\\\n\t  0.8441150 &  0.2419321 & -0.4038773 &  1.0000000 & -0.2088807\\\\\n\t  0.1994792 &  0.2734427 & -0.2479974 & -0.2088807 &  1.0000000\\\\\n\\end{tabular}\n",
            "text/plain": [
              "     [,1]       [,2]       [,3]       [,4]       [,5]      \n",
              "[1,]  1.0000000  0.2209151 -0.4295492  0.8441150  0.1994792\n",
              "[2,]  0.2209151  1.0000000 -0.7137837  0.2419321  0.2734427\n",
              "[3,] -0.4295492 -0.7137837  1.0000000 -0.4038773 -0.2479974\n",
              "[4,]  0.8441150  0.2419321 -0.4038773  1.0000000 -0.2088807\n",
              "[5,]  0.1994792  0.2734427 -0.2479974 -0.2088807  1.0000000"
            ]
          },
          "metadata": {}
        }
      ]
    },
    {
      "cell_type": "markdown",
      "source": [
        "PCA sobre Ac (probabilista)\n"
      ],
      "metadata": {
        "id": "35e3Drv4Bark"
      }
    },
    {
      "cell_type": "code",
      "source": [
        "L <- eigen(Sigma)$vectors\n",
        "L"
      ],
      "metadata": {
        "id": "bO0WehPPBay8",
        "outputId": "351821f3-2d5a-4a58-e8b9-dec4667d3397",
        "colab": {
          "base_uri": "https://localhost:8080/",
          "height": 191
        }
      },
      "execution_count": 6,
      "outputs": [
        {
          "output_type": "display_data",
          "data": {
            "text/html": [
              "<table class=\"dataframe\">\n",
              "<caption>A matrix: 5 × 5 of type dbl</caption>\n",
              "<tbody>\n",
              "\t<tr><td>-0.26549194</td><td>-0.3231776</td><td> 0.5943204</td><td> 0.01696472</td><td> 0.68670642</td></tr>\n",
              "\t<tr><td>-0.38183122</td><td>-0.3101252</td><td>-0.4225222</td><td>-0.75581860</td><td> 0.09077714</td></tr>\n",
              "\t<tr><td> 0.41269061</td><td> 0.4737353</td><td> 0.4359356</td><td>-0.64403043</td><td> 0.02112549</td></tr>\n",
              "\t<tr><td>-0.07457246</td><td>-0.5096392</td><td> 0.4927581</td><td>-0.11183558</td><td>-0.69237928</td></tr>\n",
              "\t<tr><td>-0.77964374</td><td> 0.5614458</td><td> 0.1881696</td><td> 0.03417675</td><td>-0.20089412</td></tr>\n",
              "</tbody>\n",
              "</table>\n"
            ],
            "text/markdown": "\nA matrix: 5 × 5 of type dbl\n\n| -0.26549194 | -0.3231776 |  0.5943204 |  0.01696472 |  0.68670642 |\n| -0.38183122 | -0.3101252 | -0.4225222 | -0.75581860 |  0.09077714 |\n|  0.41269061 |  0.4737353 |  0.4359356 | -0.64403043 |  0.02112549 |\n| -0.07457246 | -0.5096392 |  0.4927581 | -0.11183558 | -0.69237928 |\n| -0.77964374 |  0.5614458 |  0.1881696 |  0.03417675 | -0.20089412 |\n\n",
            "text/latex": "A matrix: 5 × 5 of type dbl\n\\begin{tabular}{lllll}\n\t -0.26549194 & -0.3231776 &  0.5943204 &  0.01696472 &  0.68670642\\\\\n\t -0.38183122 & -0.3101252 & -0.4225222 & -0.75581860 &  0.09077714\\\\\n\t  0.41269061 &  0.4737353 &  0.4359356 & -0.64403043 &  0.02112549\\\\\n\t -0.07457246 & -0.5096392 &  0.4927581 & -0.11183558 & -0.69237928\\\\\n\t -0.77964374 &  0.5614458 &  0.1881696 &  0.03417675 & -0.20089412\\\\\n\\end{tabular}\n",
            "text/plain": [
              "     [,1]        [,2]       [,3]       [,4]        [,5]       \n",
              "[1,] -0.26549194 -0.3231776  0.5943204  0.01696472  0.68670642\n",
              "[2,] -0.38183122 -0.3101252 -0.4225222 -0.75581860  0.09077714\n",
              "[3,]  0.41269061  0.4737353  0.4359356 -0.64403043  0.02112549\n",
              "[4,] -0.07457246 -0.5096392  0.4927581 -0.11183558 -0.69237928\n",
              "[5,] -0.77964374  0.5614458  0.1881696  0.03417675 -0.20089412"
            ]
          },
          "metadata": {}
        }
      ]
    },
    {
      "cell_type": "markdown",
      "source": [
        "PCA sobre Ac (estadístico)"
      ],
      "metadata": {
        "id": "b9jGaTywBeZJ"
      }
    },
    {
      "cell_type": "code",
      "source": [
        "(L_est <- prcomp(Ac)$rotation) #Usa SVD\n",
        "princomp(Ac)$loadings #Usa eigen (no funciona si p>n)\n",
        "round(eigen(cov(Ac))$vectors,3) #Equivalentemente"
      ],
      "metadata": {
        "id": "GFtDJaRlBegw",
        "outputId": "734f4a13-538d-492a-ddb6-2554ea594674",
        "colab": {
          "base_uri": "https://localhost:8080/",
          "height": 631
        }
      },
      "execution_count": 7,
      "outputs": [
        {
          "output_type": "display_data",
          "data": {
            "text/html": [
              "<table class=\"dataframe\">\n",
              "<caption>A matrix: 5 × 5 of type dbl</caption>\n",
              "<thead>\n",
              "\t<tr><th scope=col>PC1</th><th scope=col>PC2</th><th scope=col>PC3</th><th scope=col>PC4</th><th scope=col>PC5</th></tr>\n",
              "</thead>\n",
              "<tbody>\n",
              "\t<tr><td> 0.3132899</td><td> 0.3224097</td><td>-0.5598007</td><td>0.02843828</td><td> 0.69549685</td></tr>\n",
              "\t<tr><td> 0.4044488</td><td> 0.1487637</td><td> 0.5074999</td><td>0.73521146</td><td> 0.12727324</td></tr>\n",
              "\t<tr><td>-0.5419837</td><td>-0.3132763</td><td>-0.4264810</td><td>0.65257094</td><td> 0.01940902</td></tr>\n",
              "\t<tr><td> 0.1937018</td><td> 0.5519721</td><td>-0.4069681</td><td>0.18005589</td><td>-0.67805842</td></tr>\n",
              "\t<tr><td> 0.6379686</td><td>-0.6863717</td><td>-0.2855833</td><td>0.01965752</td><td>-0.19986427</td></tr>\n",
              "</tbody>\n",
              "</table>\n"
            ],
            "text/markdown": "\nA matrix: 5 × 5 of type dbl\n\n| PC1 | PC2 | PC3 | PC4 | PC5 |\n|---|---|---|---|---|\n|  0.3132899 |  0.3224097 | -0.5598007 | 0.02843828 |  0.69549685 |\n|  0.4044488 |  0.1487637 |  0.5074999 | 0.73521146 |  0.12727324 |\n| -0.5419837 | -0.3132763 | -0.4264810 | 0.65257094 |  0.01940902 |\n|  0.1937018 |  0.5519721 | -0.4069681 | 0.18005589 | -0.67805842 |\n|  0.6379686 | -0.6863717 | -0.2855833 | 0.01965752 | -0.19986427 |\n\n",
            "text/latex": "A matrix: 5 × 5 of type dbl\n\\begin{tabular}{lllll}\n PC1 & PC2 & PC3 & PC4 & PC5\\\\\n\\hline\n\t  0.3132899 &  0.3224097 & -0.5598007 & 0.02843828 &  0.69549685\\\\\n\t  0.4044488 &  0.1487637 &  0.5074999 & 0.73521146 &  0.12727324\\\\\n\t -0.5419837 & -0.3132763 & -0.4264810 & 0.65257094 &  0.01940902\\\\\n\t  0.1937018 &  0.5519721 & -0.4069681 & 0.18005589 & -0.67805842\\\\\n\t  0.6379686 & -0.6863717 & -0.2855833 & 0.01965752 & -0.19986427\\\\\n\\end{tabular}\n",
            "text/plain": [
              "     PC1        PC2        PC3        PC4        PC5        \n",
              "[1,]  0.3132899  0.3224097 -0.5598007 0.02843828  0.69549685\n",
              "[2,]  0.4044488  0.1487637  0.5074999 0.73521146  0.12727324\n",
              "[3,] -0.5419837 -0.3132763 -0.4264810 0.65257094  0.01940902\n",
              "[4,]  0.1937018  0.5519721 -0.4069681 0.18005589 -0.67805842\n",
              "[5,]  0.6379686 -0.6863717 -0.2855833 0.01965752 -0.19986427"
            ]
          },
          "metadata": {}
        },
        {
          "output_type": "display_data",
          "data": {
            "text/plain": [
              "\n",
              "Loadings:\n",
              "     Comp.1 Comp.2 Comp.3 Comp.4 Comp.5\n",
              "[1,]  0.313  0.322  0.560         0.695\n",
              "[2,]  0.404  0.149 -0.507  0.735  0.127\n",
              "[3,] -0.542 -0.313  0.426  0.653       \n",
              "[4,]  0.194  0.552  0.407  0.180 -0.678\n",
              "[5,]  0.638 -0.686  0.286        -0.200\n",
              "\n",
              "               Comp.1 Comp.2 Comp.3 Comp.4 Comp.5\n",
              "SS loadings       1.0    1.0    1.0    1.0    1.0\n",
              "Proportion Var    0.2    0.2    0.2    0.2    0.2\n",
              "Cumulative Var    0.2    0.4    0.6    0.8    1.0"
            ]
          },
          "metadata": {}
        },
        {
          "output_type": "display_data",
          "data": {
            "text/html": [
              "<table class=\"dataframe\">\n",
              "<caption>A matrix: 5 × 5 of type dbl</caption>\n",
              "<tbody>\n",
              "\t<tr><td>-0.313</td><td>-0.322</td><td>-0.560</td><td>-0.028</td><td> 0.695</td></tr>\n",
              "\t<tr><td>-0.404</td><td>-0.149</td><td> 0.507</td><td>-0.735</td><td> 0.127</td></tr>\n",
              "\t<tr><td> 0.542</td><td> 0.313</td><td>-0.426</td><td>-0.653</td><td> 0.019</td></tr>\n",
              "\t<tr><td>-0.194</td><td>-0.552</td><td>-0.407</td><td>-0.180</td><td>-0.678</td></tr>\n",
              "\t<tr><td>-0.638</td><td> 0.686</td><td>-0.286</td><td>-0.020</td><td>-0.200</td></tr>\n",
              "</tbody>\n",
              "</table>\n"
            ],
            "text/markdown": "\nA matrix: 5 × 5 of type dbl\n\n| -0.313 | -0.322 | -0.560 | -0.028 |  0.695 |\n| -0.404 | -0.149 |  0.507 | -0.735 |  0.127 |\n|  0.542 |  0.313 | -0.426 | -0.653 |  0.019 |\n| -0.194 | -0.552 | -0.407 | -0.180 | -0.678 |\n| -0.638 |  0.686 | -0.286 | -0.020 | -0.200 |\n\n",
            "text/latex": "A matrix: 5 × 5 of type dbl\n\\begin{tabular}{lllll}\n\t -0.313 & -0.322 & -0.560 & -0.028 &  0.695\\\\\n\t -0.404 & -0.149 &  0.507 & -0.735 &  0.127\\\\\n\t  0.542 &  0.313 & -0.426 & -0.653 &  0.019\\\\\n\t -0.194 & -0.552 & -0.407 & -0.180 & -0.678\\\\\n\t -0.638 &  0.686 & -0.286 & -0.020 & -0.200\\\\\n\\end{tabular}\n",
            "text/plain": [
              "     [,1]   [,2]   [,3]   [,4]   [,5]  \n",
              "[1,] -0.313 -0.322 -0.560 -0.028  0.695\n",
              "[2,] -0.404 -0.149  0.507 -0.735  0.127\n",
              "[3,]  0.542  0.313 -0.426 -0.653  0.019\n",
              "[4,] -0.194 -0.552 -0.407 -0.180 -0.678\n",
              "[5,] -0.638  0.686 -0.286 -0.020 -0.200"
            ]
          },
          "metadata": {}
        }
      ]
    },
    {
      "cell_type": "markdown",
      "source": [
        "### Propiedades\n",
        "1. $\\operatorname{Var}[Y_i] = \\gamma_i$\n",
        "2. $\\operatorname{Cov}(Y_i,Y_j)=0$\n"
      ],
      "metadata": {
        "id": "669E0K1-Br8V"
      }
    },
    {
      "cell_type": "markdown",
      "source": [
        "Probabilista"
      ],
      "metadata": {
        "id": "yUZjPM4BCUnR"
      }
    },
    {
      "cell_type": "code",
      "source": [
        "(Sigma_Y <- round(t(L) %*% Sigma %*% L,4))\n",
        "round(eigen(Sigma)$values,4)"
      ],
      "metadata": {
        "id": "Xvc6pYo3BsFa",
        "outputId": "ab470879-d80a-4ab8-85d5-215ccba2aabd",
        "colab": {
          "base_uri": "https://localhost:8080/",
          "height": 208
        }
      },
      "execution_count": 8,
      "outputs": [
        {
          "output_type": "display_data",
          "data": {
            "text/html": [
              "<table class=\"dataframe\">\n",
              "<caption>A matrix: 5 × 5 of type dbl</caption>\n",
              "<tbody>\n",
              "\t<tr><td>9.2355</td><td>0.0000</td><td>0.00</td><td>0.0000</td><td>0.000</td></tr>\n",
              "\t<tr><td>0.0000</td><td>4.7154</td><td>0.00</td><td>0.0000</td><td>0.000</td></tr>\n",
              "\t<tr><td>0.0000</td><td>0.0000</td><td>2.34</td><td>0.0000</td><td>0.000</td></tr>\n",
              "\t<tr><td>0.0000</td><td>0.0000</td><td>0.00</td><td>0.7606</td><td>0.000</td></tr>\n",
              "\t<tr><td>0.0000</td><td>0.0000</td><td>0.00</td><td>0.0000</td><td>0.097</td></tr>\n",
              "</tbody>\n",
              "</table>\n"
            ],
            "text/markdown": "\nA matrix: 5 × 5 of type dbl\n\n| 9.2355 | 0.0000 | 0.00 | 0.0000 | 0.000 |\n| 0.0000 | 4.7154 | 0.00 | 0.0000 | 0.000 |\n| 0.0000 | 0.0000 | 2.34 | 0.0000 | 0.000 |\n| 0.0000 | 0.0000 | 0.00 | 0.7606 | 0.000 |\n| 0.0000 | 0.0000 | 0.00 | 0.0000 | 0.097 |\n\n",
            "text/latex": "A matrix: 5 × 5 of type dbl\n\\begin{tabular}{lllll}\n\t 9.2355 & 0.0000 & 0.00 & 0.0000 & 0.000\\\\\n\t 0.0000 & 4.7154 & 0.00 & 0.0000 & 0.000\\\\\n\t 0.0000 & 0.0000 & 2.34 & 0.0000 & 0.000\\\\\n\t 0.0000 & 0.0000 & 0.00 & 0.7606 & 0.000\\\\\n\t 0.0000 & 0.0000 & 0.00 & 0.0000 & 0.097\\\\\n\\end{tabular}\n",
            "text/plain": [
              "     [,1]   [,2]   [,3] [,4]   [,5] \n",
              "[1,] 9.2355 0.0000 0.00 0.0000 0.000\n",
              "[2,] 0.0000 4.7154 0.00 0.0000 0.000\n",
              "[3,] 0.0000 0.0000 2.34 0.0000 0.000\n",
              "[4,] 0.0000 0.0000 0.00 0.7606 0.000\n",
              "[5,] 0.0000 0.0000 0.00 0.0000 0.097"
            ]
          },
          "metadata": {}
        },
        {
          "output_type": "display_data",
          "data": {
            "text/html": [
              "<style>\n",
              ".list-inline {list-style: none; margin:0; padding: 0}\n",
              ".list-inline>li {display: inline-block}\n",
              ".list-inline>li:not(:last-child)::after {content: \"\\00b7\"; padding: 0 .5ex}\n",
              "</style>\n",
              "<ol class=list-inline><li>9.2355</li><li>4.7154</li><li>2.34</li><li>0.7606</li><li>0.097</li></ol>\n"
            ],
            "text/markdown": "1. 9.2355\n2. 4.7154\n3. 2.34\n4. 0.7606\n5. 0.097\n\n\n",
            "text/latex": "\\begin{enumerate*}\n\\item 9.2355\n\\item 4.7154\n\\item 2.34\n\\item 0.7606\n\\item 0.097\n\\end{enumerate*}\n",
            "text/plain": [
              "[1] 9.2355 4.7154 2.3400 0.7606 0.0970"
            ]
          },
          "metadata": {}
        }
      ]
    },
    {
      "cell_type": "markdown",
      "source": [
        "Estimación"
      ],
      "metadata": {
        "id": "i4WzfCTBChWA"
      }
    },
    {
      "cell_type": "code",
      "source": [
        "Y_est <- Ac %*% L_est\n",
        "#princomp(Ac)$scores #Equivalentemente\n",
        "(Sigma_Y_est <- round(cov(Y_est),4))"
      ],
      "metadata": {
        "id": "s7CUYte6Chek",
        "outputId": "7c28b81a-28bb-4b17-8ef3-cb210e36d83b",
        "colab": {
          "base_uri": "https://localhost:8080/",
          "height": 223
        }
      },
      "execution_count": 9,
      "outputs": [
        {
          "output_type": "display_data",
          "data": {
            "text/html": [
              "<table class=\"dataframe\">\n",
              "<caption>A matrix: 5 × 5 of type dbl</caption>\n",
              "<thead>\n",
              "\t<tr><th></th><th scope=col>PC1</th><th scope=col>PC2</th><th scope=col>PC3</th><th scope=col>PC4</th><th scope=col>PC5</th></tr>\n",
              "</thead>\n",
              "<tbody>\n",
              "\t<tr><th scope=row>PC1</th><td>6.9345</td><td>0.0000</td><td>0.0000</td><td>0.0000</td><td>0.0000</td></tr>\n",
              "\t<tr><th scope=row>PC2</th><td>0.0000</td><td>4.9518</td><td>0.0000</td><td>0.0000</td><td>0.0000</td></tr>\n",
              "\t<tr><th scope=row>PC3</th><td>0.0000</td><td>0.0000</td><td>2.3742</td><td>0.0000</td><td>0.0000</td></tr>\n",
              "\t<tr><th scope=row>PC4</th><td>0.0000</td><td>0.0000</td><td>0.0000</td><td>0.7043</td><td>0.0000</td></tr>\n",
              "\t<tr><th scope=row>PC5</th><td>0.0000</td><td>0.0000</td><td>0.0000</td><td>0.0000</td><td>0.1248</td></tr>\n",
              "</tbody>\n",
              "</table>\n"
            ],
            "text/markdown": "\nA matrix: 5 × 5 of type dbl\n\n| <!--/--> | PC1 | PC2 | PC3 | PC4 | PC5 |\n|---|---|---|---|---|---|\n| PC1 | 6.9345 | 0.0000 | 0.0000 | 0.0000 | 0.0000 |\n| PC2 | 0.0000 | 4.9518 | 0.0000 | 0.0000 | 0.0000 |\n| PC3 | 0.0000 | 0.0000 | 2.3742 | 0.0000 | 0.0000 |\n| PC4 | 0.0000 | 0.0000 | 0.0000 | 0.7043 | 0.0000 |\n| PC5 | 0.0000 | 0.0000 | 0.0000 | 0.0000 | 0.1248 |\n\n",
            "text/latex": "A matrix: 5 × 5 of type dbl\n\\begin{tabular}{r|lllll}\n  & PC1 & PC2 & PC3 & PC4 & PC5\\\\\n\\hline\n\tPC1 & 6.9345 & 0.0000 & 0.0000 & 0.0000 & 0.0000\\\\\n\tPC2 & 0.0000 & 4.9518 & 0.0000 & 0.0000 & 0.0000\\\\\n\tPC3 & 0.0000 & 0.0000 & 2.3742 & 0.0000 & 0.0000\\\\\n\tPC4 & 0.0000 & 0.0000 & 0.0000 & 0.7043 & 0.0000\\\\\n\tPC5 & 0.0000 & 0.0000 & 0.0000 & 0.0000 & 0.1248\\\\\n\\end{tabular}\n",
            "text/plain": [
              "    PC1    PC2    PC3    PC4    PC5   \n",
              "PC1 6.9345 0.0000 0.0000 0.0000 0.0000\n",
              "PC2 0.0000 4.9518 0.0000 0.0000 0.0000\n",
              "PC3 0.0000 0.0000 2.3742 0.0000 0.0000\n",
              "PC4 0.0000 0.0000 0.0000 0.7043 0.0000\n",
              "PC5 0.0000 0.0000 0.0000 0.0000 0.1248"
            ]
          },
          "metadata": {}
        }
      ]
    },
    {
      "cell_type": "markdown",
      "source": [
        "3. $\\sum\\operatorname{Var}[X_i]=\\sum\\operatorname{Var}[Y_i]=\\sum\\gamma_i$"
      ],
      "metadata": {
        "id": "p8f9btYFDJBI"
      }
    },
    {
      "cell_type": "markdown",
      "source": [
        "Probabilista"
      ],
      "metadata": {
        "id": "QqoKeipZD4O1"
      }
    },
    {
      "cell_type": "code",
      "source": [
        "sum(diag(Sigma))\n",
        "sum(diag(Sigma_Y))"
      ],
      "metadata": {
        "id": "qxzkpGMfDJKc",
        "outputId": "8e24e69c-cc16-49a6-edb5-590c1c920af2",
        "colab": {
          "base_uri": "https://localhost:8080/",
          "height": 52
        }
      },
      "execution_count": 10,
      "outputs": [
        {
          "output_type": "display_data",
          "data": {
            "text/html": [
              "17.1484452651621"
            ],
            "text/markdown": "17.1484452651621",
            "text/latex": "17.1484452651621",
            "text/plain": [
              "[1] 17.14845"
            ]
          },
          "metadata": {}
        },
        {
          "output_type": "display_data",
          "data": {
            "text/html": [
              "17.1485"
            ],
            "text/markdown": "17.1485",
            "text/latex": "17.1485",
            "text/plain": [
              "[1] 17.1485"
            ]
          },
          "metadata": {}
        }
      ]
    },
    {
      "cell_type": "markdown",
      "source": [
        "Estadístico"
      ],
      "metadata": {
        "id": "Lk-or07ZD7GJ"
      }
    },
    {
      "cell_type": "code",
      "source": [
        "sum(diag(Sigma_X_est))\n",
        "sum(diag(Sigma_Y_est))"
      ],
      "metadata": {
        "id": "YNAOCXl5D7U3",
        "outputId": "15b7ce18-2115-4492-aa64-c1db313846b2",
        "colab": {
          "base_uri": "https://localhost:8080/",
          "height": 52
        }
      },
      "execution_count": 11,
      "outputs": [
        {
          "output_type": "display_data",
          "data": {
            "text/html": [
              "15.0895589391649"
            ],
            "text/markdown": "15.0895589391649",
            "text/latex": "15.0895589391649",
            "text/plain": [
              "[1] 15.08956"
            ]
          },
          "metadata": {}
        },
        {
          "output_type": "display_data",
          "data": {
            "text/html": [
              "15.0896"
            ],
            "text/markdown": "15.0896",
            "text/latex": "15.0896",
            "text/plain": [
              "[1] 15.0896"
            ]
          },
          "metadata": {}
        }
      ]
    },
    {
      "cell_type": "markdown",
      "source": [
        "4. $\\mathbb{E}[\\Vert X-L(L^TX)\\Vert^2]=\\sum\\gamma_i$"
      ],
      "metadata": {
        "id": "0j2Vv6uEEBQV"
      }
    },
    {
      "cell_type": "markdown",
      "source": [
        "Estadístico"
      ],
      "metadata": {
        "id": "GGbHssv7Ep6n"
      }
    },
    {
      "cell_type": "code",
      "execution_count": 12,
      "metadata": {
        "id": "ad4SXGJP-5Zk",
        "colab": {
          "base_uri": "https://localhost:8080/",
          "height": 52
        },
        "outputId": "bad318d0-abe6-4ead-fc58-34510e8b7044"
      },
      "outputs": [
        {
          "output_type": "display_data",
          "data": {
            "text/html": [
              "3.23745297969429"
            ],
            "text/markdown": "3.23745297969429",
            "text/latex": "3.23745297969429",
            "text/plain": [
              "[1] 3.237453"
            ]
          },
          "metadata": {}
        },
        {
          "output_type": "display_data",
          "data": {
            "text/html": [
              "3.2033"
            ],
            "text/markdown": "3.2033",
            "text/latex": "3.2033",
            "text/plain": [
              "[1] 3.2033"
            ]
          },
          "metadata": {}
        }
      ],
      "source": [
        "d <- 2\n",
        "error_fun <- function(X,L) sum((X - L %*% t(L) %*% X)^2)\n",
        "mean(sapply(1:nrow(Ac), function(i) error_fun(Ac[i,],L[,1:d])))\n",
        "sum(diag(Sigma_Y_est)[(d+1):p])"
      ]
    }
  ]
}