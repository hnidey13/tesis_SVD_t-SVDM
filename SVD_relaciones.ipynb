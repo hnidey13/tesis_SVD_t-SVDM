{
  "nbformat": 4,
  "nbformat_minor": 0,
  "metadata": {
    "colab": {
      "provenance": [],
      "authorship_tag": "ABX9TyM9ipZef1xYM3FUiT4QQtaK",
      "include_colab_link": true
    },
    "kernelspec": {
      "name": "ir",
      "display_name": "R"
    },
    "language_info": {
      "name": "R"
    }
  },
  "cells": [
    {
      "cell_type": "markdown",
      "metadata": {
        "id": "view-in-github",
        "colab_type": "text"
      },
      "source": [
        "<a href=\"https://colab.research.google.com/github/hnidey13/tesis_SVD_t-SVDM/blob/main/SVD_relaciones.ipynb\" target=\"_parent\"><img src=\"https://colab.research.google.com/assets/colab-badge.svg\" alt=\"Open In Colab\"/></a>"
      ]
    },
    {
      "cell_type": "markdown",
      "source": [
        "Limpiamos área de trabajo"
      ],
      "metadata": {
        "id": "nF3YzrgdlmfZ"
      }
    },
    {
      "cell_type": "code",
      "execution_count": 5,
      "metadata": {
        "id": "KTSVj0qOlL2g"
      },
      "outputs": [],
      "source": [
        "rm(list=ls())"
      ]
    },
    {
      "cell_type": "markdown",
      "source": [
        "##SVD\n"
      ],
      "metadata": {
        "id": "rfYu96mRlq6-"
      }
    },
    {
      "cell_type": "markdown",
      "source": [
        "Matriz $A$"
      ],
      "metadata": {
        "id": "oJn8dShnlvzj"
      }
    },
    {
      "cell_type": "code",
      "source": [
        "A <- matrix(c(3,1,1,\n",
        "              -1,3,1),2,3,byrow=TRUE)\n",
        "A <- matrix(c(4,7,-1,8,-5,-2,4,2,-1,3,-3,6),4,3)\n",
        "n <- nrow(A)\n",
        "p <- ncol(A)\n",
        "A"
      ],
      "metadata": {
        "id": "leOKOHALlwDb",
        "outputId": "e2bdbdd7-a7b4-477a-a1a6-944485e93f9b",
        "colab": {
          "base_uri": "https://localhost:8080/",
          "height": 177
        }
      },
      "execution_count": 6,
      "outputs": [
        {
          "output_type": "display_data",
          "data": {
            "text/html": [
              "<table class=\"dataframe\">\n",
              "<caption>A matrix: 4 × 3 of type dbl</caption>\n",
              "<tbody>\n",
              "\t<tr><td> 4</td><td>-5</td><td>-1</td></tr>\n",
              "\t<tr><td> 7</td><td>-2</td><td> 3</td></tr>\n",
              "\t<tr><td>-1</td><td> 4</td><td>-3</td></tr>\n",
              "\t<tr><td> 8</td><td> 2</td><td> 6</td></tr>\n",
              "</tbody>\n",
              "</table>\n"
            ],
            "text/markdown": "\nA matrix: 4 × 3 of type dbl\n\n|  4 | -5 | -1 |\n|  7 | -2 |  3 |\n| -1 |  4 | -3 |\n|  8 |  2 |  6 |\n\n",
            "text/latex": "A matrix: 4 × 3 of type dbl\n\\begin{tabular}{lll}\n\t  4 & -5 & -1\\\\\n\t  7 & -2 &  3\\\\\n\t -1 &  4 & -3\\\\\n\t  8 &  2 &  6\\\\\n\\end{tabular}\n",
            "text/plain": [
              "     [,1] [,2] [,3]\n",
              "[1,]  4   -5   -1  \n",
              "[2,]  7   -2    3  \n",
              "[3,] -1    4   -3  \n",
              "[4,]  8    2    6  "
            ]
          },
          "metadata": {}
        }
      ]
    },
    {
      "cell_type": "markdown",
      "source": [
        "Rango de $A$"
      ],
      "metadata": {
        "id": "4gwYg_i0l1rL"
      }
    },
    {
      "cell_type": "code",
      "source": [
        "library(Matrix)\n",
        "(ranA <- rankMatrix(A))"
      ],
      "metadata": {
        "id": "5Wr5EKbXl5Vh",
        "outputId": "8b075595-50aa-4aae-f7ef-728a84c4d312",
        "colab": {
          "base_uri": "https://localhost:8080/",
          "height": 34
        }
      },
      "execution_count": 7,
      "outputs": [
        {
          "output_type": "display_data",
          "data": {
            "text/html": [
              "3"
            ],
            "text/markdown": "3",
            "text/latex": "3",
            "text/plain": [
              "[1] 3\n",
              "attr(,\"method\")\n",
              "[1] \"tolNorm2\"\n",
              "attr(,\"useGrad\")\n",
              "[1] FALSE\n",
              "attr(,\"tol\")\n",
              "[1] 8.881784e-16"
            ]
          },
          "metadata": {}
        }
      ]
    },
    {
      "cell_type": "markdown",
      "source": [
        "Matriz $AA^T$"
      ],
      "metadata": {
        "id": "vwKus04VmAd4"
      }
    },
    {
      "cell_type": "code",
      "source": [
        "A%*%t(A)"
      ],
      "metadata": {
        "id": "NdD1umhFmAlQ",
        "outputId": "f2fe468f-7538-47c2-cfd6-0e7eb7edddb8",
        "colab": {
          "base_uri": "https://localhost:8080/",
          "height": 177
        }
      },
      "execution_count": 8,
      "outputs": [
        {
          "output_type": "display_data",
          "data": {
            "text/html": [
              "<table class=\"dataframe\">\n",
              "<caption>A matrix: 4 × 4 of type dbl</caption>\n",
              "<tbody>\n",
              "\t<tr><td> 42</td><td> 35</td><td>-21</td><td> 16</td></tr>\n",
              "\t<tr><td> 35</td><td> 62</td><td>-24</td><td> 70</td></tr>\n",
              "\t<tr><td>-21</td><td>-24</td><td> 26</td><td>-18</td></tr>\n",
              "\t<tr><td> 16</td><td> 70</td><td>-18</td><td>104</td></tr>\n",
              "</tbody>\n",
              "</table>\n"
            ],
            "text/markdown": "\nA matrix: 4 × 4 of type dbl\n\n|  42 |  35 | -21 |  16 |\n|  35 |  62 | -24 |  70 |\n| -21 | -24 |  26 | -18 |\n|  16 |  70 | -18 | 104 |\n\n",
            "text/latex": "A matrix: 4 × 4 of type dbl\n\\begin{tabular}{llll}\n\t  42 &  35 & -21 &  16\\\\\n\t  35 &  62 & -24 &  70\\\\\n\t -21 & -24 &  26 & -18\\\\\n\t  16 &  70 & -18 & 104\\\\\n\\end{tabular}\n",
            "text/plain": [
              "     [,1] [,2] [,3] [,4]\n",
              "[1,]  42   35  -21   16 \n",
              "[2,]  35   62  -24   70 \n",
              "[3,] -21  -24   26  -18 \n",
              "[4,]  16   70  -18  104 "
            ]
          },
          "metadata": {}
        }
      ]
    },
    {
      "cell_type": "markdown",
      "source": [
        "Matriz $A^TA$"
      ],
      "metadata": {
        "id": "-jaCdbrBmKD1"
      }
    },
    {
      "cell_type": "code",
      "source": [
        "t(A)%*%A"
      ],
      "metadata": {
        "id": "bTWHIo_9mKK_",
        "outputId": "49564a25-7b84-4bb7-a0be-01b7d9b9e2d1",
        "colab": {
          "base_uri": "https://localhost:8080/",
          "height": 146
        }
      },
      "execution_count": 9,
      "outputs": [
        {
          "output_type": "display_data",
          "data": {
            "text/html": [
              "<table class=\"dataframe\">\n",
              "<caption>A matrix: 3 × 3 of type dbl</caption>\n",
              "<tbody>\n",
              "\t<tr><td>130</td><td>-22</td><td>68</td></tr>\n",
              "\t<tr><td>-22</td><td> 49</td><td>-1</td></tr>\n",
              "\t<tr><td> 68</td><td> -1</td><td>55</td></tr>\n",
              "</tbody>\n",
              "</table>\n"
            ],
            "text/markdown": "\nA matrix: 3 × 3 of type dbl\n\n| 130 | -22 | 68 |\n| -22 |  49 | -1 |\n|  68 |  -1 | 55 |\n\n",
            "text/latex": "A matrix: 3 × 3 of type dbl\n\\begin{tabular}{lll}\n\t 130 & -22 & 68\\\\\n\t -22 &  49 & -1\\\\\n\t  68 &  -1 & 55\\\\\n\\end{tabular}\n",
            "text/plain": [
              "     [,1] [,2] [,3]\n",
              "[1,] 130  -22  68  \n",
              "[2,] -22   49  -1  \n",
              "[3,]  68   -1  55  "
            ]
          },
          "metadata": {}
        }
      ]
    },
    {
      "cell_type": "markdown",
      "source": [
        "Eigenvalores de $AA^T$ y $A^TA$"
      ],
      "metadata": {
        "id": "yNyrU5lAmOxy"
      }
    },
    {
      "cell_type": "code",
      "source": [
        "(lambda2 <- eigen(A%*%t(A))$values)\n",
        "(lambda2 <- eigen(t(A)%*%A)$values)\n",
        "lambda <- sqrt(lambda2)"
      ],
      "metadata": {
        "id": "OGny2FGhmO4F",
        "outputId": "15497e38-872c-4e71-8a04-08dc7aec541b",
        "colab": {
          "base_uri": "https://localhost:8080/",
          "height": 52
        }
      },
      "execution_count": 10,
      "outputs": [
        {
          "output_type": "display_data",
          "data": {
            "text/html": [
              "<style>\n",
              ".list-inline {list-style: none; margin:0; padding: 0}\n",
              ".list-inline>li {display: inline-block}\n",
              ".list-inline>li:not(:last-child)::after {content: \"\\00b7\"; padding: 0 .5ex}\n",
              "</style>\n",
              "<ol class=list-inline><li>173.217447635515</li><li>48.9984857885614</li><li>11.7840665759236</li><li>5.13011727888673e-15</li></ol>\n"
            ],
            "text/markdown": "1. 173.217447635515\n2. 48.9984857885614\n3. 11.7840665759236\n4. 5.13011727888673e-15\n\n\n",
            "text/latex": "\\begin{enumerate*}\n\\item 173.217447635515\n\\item 48.9984857885614\n\\item 11.7840665759236\n\\item 5.13011727888673e-15\n\\end{enumerate*}\n",
            "text/plain": [
              "[1] 1.732174e+02 4.899849e+01 1.178407e+01 5.130117e-15"
            ]
          },
          "metadata": {}
        },
        {
          "output_type": "display_data",
          "data": {
            "text/html": [
              "<style>\n",
              ".list-inline {list-style: none; margin:0; padding: 0}\n",
              ".list-inline>li {display: inline-block}\n",
              ".list-inline>li:not(:last-child)::after {content: \"\\00b7\"; padding: 0 .5ex}\n",
              "</style>\n",
              "<ol class=list-inline><li>173.217447635515</li><li>48.9984857885614</li><li>11.7840665759237</li></ol>\n"
            ],
            "text/markdown": "1. 173.217447635515\n2. 48.9984857885614\n3. 11.7840665759237\n\n\n",
            "text/latex": "\\begin{enumerate*}\n\\item 173.217447635515\n\\item 48.9984857885614\n\\item 11.7840665759237\n\\end{enumerate*}\n",
            "text/plain": [
              "[1] 173.21745  48.99849  11.78407"
            ]
          },
          "metadata": {}
        }
      ]
    },
    {
      "cell_type": "markdown",
      "source": [
        "Eigenvectores de $AA^T$ y $A^TA$"
      ],
      "metadata": {
        "id": "fzV3b4gemZGf"
      }
    },
    {
      "cell_type": "code",
      "source": [
        "#(Es necesario ajustar signos manualmente)\n",
        "U <- eigen(A%*%t(A))$vectors\n",
        "V <- eigen(t(A)%*%A)$vectors\n",
        "V[,1] <- -V[,1]\n",
        "V[,2] <- -V[,2]"
      ],
      "metadata": {
        "id": "PlGqDdtUmZRF"
      },
      "execution_count": 11,
      "outputs": []
    },
    {
      "cell_type": "markdown",
      "source": [
        "Sigue siendo descomposición espectral"
      ],
      "metadata": {
        "id": "dUGl_tS5mjHl"
      }
    },
    {
      "cell_type": "code",
      "source": [
        "t(A)%*%A\n",
        "V %*% diag(eigen(t(A)%*%A)$values) %*% t(V)"
      ],
      "metadata": {
        "id": "Lc8shQ4kmjPh",
        "outputId": "4db855ea-d547-4a48-d0f6-15cf28184099",
        "colab": {
          "base_uri": "https://localhost:8080/",
          "height": 274
        }
      },
      "execution_count": 12,
      "outputs": [
        {
          "output_type": "display_data",
          "data": {
            "text/html": [
              "<table class=\"dataframe\">\n",
              "<caption>A matrix: 3 × 3 of type dbl</caption>\n",
              "<tbody>\n",
              "\t<tr><td>130</td><td>-22</td><td>68</td></tr>\n",
              "\t<tr><td>-22</td><td> 49</td><td>-1</td></tr>\n",
              "\t<tr><td> 68</td><td> -1</td><td>55</td></tr>\n",
              "</tbody>\n",
              "</table>\n"
            ],
            "text/markdown": "\nA matrix: 3 × 3 of type dbl\n\n| 130 | -22 | 68 |\n| -22 |  49 | -1 |\n|  68 |  -1 | 55 |\n\n",
            "text/latex": "A matrix: 3 × 3 of type dbl\n\\begin{tabular}{lll}\n\t 130 & -22 & 68\\\\\n\t -22 &  49 & -1\\\\\n\t  68 &  -1 & 55\\\\\n\\end{tabular}\n",
            "text/plain": [
              "     [,1] [,2] [,3]\n",
              "[1,] 130  -22  68  \n",
              "[2,] -22   49  -1  \n",
              "[3,]  68   -1  55  "
            ]
          },
          "metadata": {}
        },
        {
          "output_type": "display_data",
          "data": {
            "text/html": [
              "<table class=\"dataframe\">\n",
              "<caption>A matrix: 3 × 3 of type dbl</caption>\n",
              "<tbody>\n",
              "\t<tr><td>130</td><td>-22</td><td>68</td></tr>\n",
              "\t<tr><td>-22</td><td> 49</td><td>-1</td></tr>\n",
              "\t<tr><td> 68</td><td> -1</td><td>55</td></tr>\n",
              "</tbody>\n",
              "</table>\n"
            ],
            "text/markdown": "\nA matrix: 3 × 3 of type dbl\n\n| 130 | -22 | 68 |\n| -22 |  49 | -1 |\n|  68 |  -1 | 55 |\n\n",
            "text/latex": "A matrix: 3 × 3 of type dbl\n\\begin{tabular}{lll}\n\t 130 & -22 & 68\\\\\n\t -22 &  49 & -1\\\\\n\t  68 &  -1 & 55\\\\\n\\end{tabular}\n",
            "text/plain": [
              "     [,1] [,2] [,3]\n",
              "[1,] 130  -22  68  \n",
              "[2,] -22   49  -1  \n",
              "[3,]  68   -1  55  "
            ]
          },
          "metadata": {}
        }
      ]
    },
    {
      "cell_type": "markdown",
      "source": [
        "Formamos matriz $\\Lambda$"
      ],
      "metadata": {
        "id": "Ca819e_hmmAr"
      }
    },
    {
      "cell_type": "code",
      "source": [
        "Lambda <- matrix(0, nrow = n, ncol = p)\n",
        "diag(Lambda) <- lambda[1:ranA]"
      ],
      "metadata": {
        "id": "HGqY7bEfmmHb"
      },
      "execution_count": 13,
      "outputs": []
    },
    {
      "cell_type": "markdown",
      "source": [
        "Comprobación"
      ],
      "metadata": {
        "id": "JUbfUCPLmyIS"
      }
    },
    {
      "cell_type": "code",
      "source": [
        "U%*%Lambda%*%t(V)\n",
        "A"
      ],
      "metadata": {
        "id": "nvhRkAp7myR8",
        "outputId": "75b8498f-8c23-45f9-e19f-d2977f0166d6",
        "colab": {
          "base_uri": "https://localhost:8080/",
          "height": 337
        }
      },
      "execution_count": 14,
      "outputs": [
        {
          "output_type": "display_data",
          "data": {
            "text/html": [
              "<table class=\"dataframe\">\n",
              "<caption>A matrix: 4 × 3 of type dbl</caption>\n",
              "<tbody>\n",
              "\t<tr><td> 4</td><td>-5</td><td>-1</td></tr>\n",
              "\t<tr><td> 7</td><td>-2</td><td> 3</td></tr>\n",
              "\t<tr><td>-1</td><td> 4</td><td>-3</td></tr>\n",
              "\t<tr><td> 8</td><td> 2</td><td> 6</td></tr>\n",
              "</tbody>\n",
              "</table>\n"
            ],
            "text/markdown": "\nA matrix: 4 × 3 of type dbl\n\n|  4 | -5 | -1 |\n|  7 | -2 |  3 |\n| -1 |  4 | -3 |\n|  8 |  2 |  6 |\n\n",
            "text/latex": "A matrix: 4 × 3 of type dbl\n\\begin{tabular}{lll}\n\t  4 & -5 & -1\\\\\n\t  7 & -2 &  3\\\\\n\t -1 &  4 & -3\\\\\n\t  8 &  2 &  6\\\\\n\\end{tabular}\n",
            "text/plain": [
              "     [,1] [,2] [,3]\n",
              "[1,]  4   -5   -1  \n",
              "[2,]  7   -2    3  \n",
              "[3,] -1    4   -3  \n",
              "[4,]  8    2    6  "
            ]
          },
          "metadata": {}
        },
        {
          "output_type": "display_data",
          "data": {
            "text/html": [
              "<table class=\"dataframe\">\n",
              "<caption>A matrix: 4 × 3 of type dbl</caption>\n",
              "<tbody>\n",
              "\t<tr><td> 4</td><td>-5</td><td>-1</td></tr>\n",
              "\t<tr><td> 7</td><td>-2</td><td> 3</td></tr>\n",
              "\t<tr><td>-1</td><td> 4</td><td>-3</td></tr>\n",
              "\t<tr><td> 8</td><td> 2</td><td> 6</td></tr>\n",
              "</tbody>\n",
              "</table>\n"
            ],
            "text/markdown": "\nA matrix: 4 × 3 of type dbl\n\n|  4 | -5 | -1 |\n|  7 | -2 |  3 |\n| -1 |  4 | -3 |\n|  8 |  2 |  6 |\n\n",
            "text/latex": "A matrix: 4 × 3 of type dbl\n\\begin{tabular}{lll}\n\t  4 & -5 & -1\\\\\n\t  7 & -2 &  3\\\\\n\t -1 &  4 & -3\\\\\n\t  8 &  2 &  6\\\\\n\\end{tabular}\n",
            "text/plain": [
              "     [,1] [,2] [,3]\n",
              "[1,]  4   -5   -1  \n",
              "[2,]  7   -2    3  \n",
              "[3,] -1    4   -3  \n",
              "[4,]  8    2    6  "
            ]
          },
          "metadata": {}
        }
      ]
    },
    {
      "cell_type": "markdown",
      "source": [
        "SVD (reducida)"
      ],
      "metadata": {
        "id": "8y0PEmt8m-DC"
      }
    },
    {
      "cell_type": "code",
      "source": [
        "thinSVD_A <- svd(A)\n",
        "thinSVD_A$u %*% diag(thinSVD_A$d) %*% t(thinSVD_A$v)"
      ],
      "metadata": {
        "id": "oMZWALJDm-Ms",
        "outputId": "8b4618e5-a738-4338-fff4-fa6afaaa9dda",
        "colab": {
          "base_uri": "https://localhost:8080/",
          "height": 177
        }
      },
      "execution_count": 15,
      "outputs": [
        {
          "output_type": "display_data",
          "data": {
            "text/html": [
              "<table class=\"dataframe\">\n",
              "<caption>A matrix: 4 × 3 of type dbl</caption>\n",
              "<tbody>\n",
              "\t<tr><td> 4</td><td>-5</td><td>-1</td></tr>\n",
              "\t<tr><td> 7</td><td>-2</td><td> 3</td></tr>\n",
              "\t<tr><td>-1</td><td> 4</td><td>-3</td></tr>\n",
              "\t<tr><td> 8</td><td> 2</td><td> 6</td></tr>\n",
              "</tbody>\n",
              "</table>\n"
            ],
            "text/markdown": "\nA matrix: 4 × 3 of type dbl\n\n|  4 | -5 | -1 |\n|  7 | -2 |  3 |\n| -1 |  4 | -3 |\n|  8 |  2 |  6 |\n\n",
            "text/latex": "A matrix: 4 × 3 of type dbl\n\\begin{tabular}{lll}\n\t  4 & -5 & -1\\\\\n\t  7 & -2 &  3\\\\\n\t -1 &  4 & -3\\\\\n\t  8 &  2 &  6\\\\\n\\end{tabular}\n",
            "text/plain": [
              "     [,1] [,2] [,3]\n",
              "[1,]  4   -5   -1  \n",
              "[2,]  7   -2    3  \n",
              "[3,] -1    4   -3  \n",
              "[4,]  8    2    6  "
            ]
          },
          "metadata": {}
        }
      ]
    },
    {
      "cell_type": "markdown",
      "source": [
        "Comprobación SVD (suma de matrices de rango 1)"
      ],
      "metadata": {
        "id": "_th_2WLmnCJQ"
      }
    },
    {
      "cell_type": "code",
      "source": [
        "MatRan1 <- function(i) (lambda[i] * U[,i] %*% t(V[,i]))\n",
        "(listMatRan1 <- lapply(1:ranA, MatRan1))\n",
        "Reduce(\"+\", listMatRan1)\n"
      ],
      "metadata": {
        "id": "iKiZpKNunCQ7",
        "outputId": "1df5839f-8f3d-4e8f-9ce3-2a462d651c2e",
        "colab": {
          "base_uri": "https://localhost:8080/",
          "height": 633
        }
      },
      "execution_count": 16,
      "outputs": [
        {
          "output_type": "display_data",
          "data": {
            "text/html": [
              "<ol>\n",
              "\t<li><table class=\"dataframe\">\n",
              "<caption>A matrix: 4 × 3 of type dbl</caption>\n",
              "<tbody>\n",
              "\t<tr><td> 3.172071</td><td>-0.5765297</td><td> 1.829487</td></tr>\n",
              "\t<tr><td> 6.658806</td><td>-1.2102502</td><td> 3.840457</td></tr>\n",
              "\t<tr><td>-2.531539</td><td> 0.4601118</td><td>-1.460061</td></tr>\n",
              "\t<tr><td> 8.125657</td><td>-1.4768531</td><td> 4.686462</td></tr>\n",
              "</tbody>\n",
              "</table>\n",
              "</li>\n",
              "\t<li><table class=\"dataframe\">\n",
              "<caption>A matrix: 4 × 3 of type dbl</caption>\n",
              "<tbody>\n",
              "\t<tr><td> 0.07485334</td><td>-4.837064</td><td>-1.6540977</td></tr>\n",
              "\t<tr><td> 0.01499370</td><td>-0.968901</td><td>-0.3313285</td></tr>\n",
              "\t<tr><td>-0.04141120</td><td> 2.676015</td><td> 0.9150984</td></tr>\n",
              "\t<tr><td>-0.05440966</td><td> 3.515983</td><td> 1.2023365</td></tr>\n",
              "</tbody>\n",
              "</table>\n",
              "</li>\n",
              "\t<li><table class=\"dataframe\">\n",
              "<caption>A matrix: 4 × 3 of type dbl</caption>\n",
              "<tbody>\n",
              "\t<tr><td> 0.75307589</td><td> 0.4135938</td><td>-1.1753898</td></tr>\n",
              "\t<tr><td> 0.32620039</td><td> 0.1791512</td><td>-0.5091288</td></tr>\n",
              "\t<tr><td> 1.57294983</td><td> 0.8638735</td><td>-2.4550370</td></tr>\n",
              "\t<tr><td>-0.07124739</td><td>-0.0391295</td><td> 0.1112019</td></tr>\n",
              "</tbody>\n",
              "</table>\n",
              "</li>\n",
              "</ol>\n"
            ],
            "text/markdown": "1. \nA matrix: 4 × 3 of type dbl\n\n|  3.172071 | -0.5765297 |  1.829487 |\n|  6.658806 | -1.2102502 |  3.840457 |\n| -2.531539 |  0.4601118 | -1.460061 |\n|  8.125657 | -1.4768531 |  4.686462 |\n\n\n2. \nA matrix: 4 × 3 of type dbl\n\n|  0.07485334 | -4.837064 | -1.6540977 |\n|  0.01499370 | -0.968901 | -0.3313285 |\n| -0.04141120 |  2.676015 |  0.9150984 |\n| -0.05440966 |  3.515983 |  1.2023365 |\n\n\n3. \nA matrix: 4 × 3 of type dbl\n\n|  0.75307589 |  0.4135938 | -1.1753898 |\n|  0.32620039 |  0.1791512 | -0.5091288 |\n|  1.57294983 |  0.8638735 | -2.4550370 |\n| -0.07124739 | -0.0391295 |  0.1112019 |\n\n\n\n\n",
            "text/latex": "\\begin{enumerate}\n\\item A matrix: 4 × 3 of type dbl\n\\begin{tabular}{lll}\n\t  3.172071 & -0.5765297 &  1.829487\\\\\n\t  6.658806 & -1.2102502 &  3.840457\\\\\n\t -2.531539 &  0.4601118 & -1.460061\\\\\n\t  8.125657 & -1.4768531 &  4.686462\\\\\n\\end{tabular}\n\n\\item A matrix: 4 × 3 of type dbl\n\\begin{tabular}{lll}\n\t  0.07485334 & -4.837064 & -1.6540977\\\\\n\t  0.01499370 & -0.968901 & -0.3313285\\\\\n\t -0.04141120 &  2.676015 &  0.9150984\\\\\n\t -0.05440966 &  3.515983 &  1.2023365\\\\\n\\end{tabular}\n\n\\item A matrix: 4 × 3 of type dbl\n\\begin{tabular}{lll}\n\t  0.75307589 &  0.4135938 & -1.1753898\\\\\n\t  0.32620039 &  0.1791512 & -0.5091288\\\\\n\t  1.57294983 &  0.8638735 & -2.4550370\\\\\n\t -0.07124739 & -0.0391295 &  0.1112019\\\\\n\\end{tabular}\n\n\\end{enumerate}\n",
            "text/plain": [
              "[[1]]\n",
              "          [,1]       [,2]      [,3]\n",
              "[1,]  3.172071 -0.5765297  1.829487\n",
              "[2,]  6.658806 -1.2102502  3.840457\n",
              "[3,] -2.531539  0.4601118 -1.460061\n",
              "[4,]  8.125657 -1.4768531  4.686462\n",
              "\n",
              "[[2]]\n",
              "            [,1]      [,2]       [,3]\n",
              "[1,]  0.07485334 -4.837064 -1.6540977\n",
              "[2,]  0.01499370 -0.968901 -0.3313285\n",
              "[3,] -0.04141120  2.676015  0.9150984\n",
              "[4,] -0.05440966  3.515983  1.2023365\n",
              "\n",
              "[[3]]\n",
              "            [,1]       [,2]       [,3]\n",
              "[1,]  0.75307589  0.4135938 -1.1753898\n",
              "[2,]  0.32620039  0.1791512 -0.5091288\n",
              "[3,]  1.57294983  0.8638735 -2.4550370\n",
              "[4,] -0.07124739 -0.0391295  0.1112019\n"
            ]
          },
          "metadata": {}
        },
        {
          "output_type": "display_data",
          "data": {
            "text/html": [
              "<table class=\"dataframe\">\n",
              "<caption>A matrix: 4 × 3 of type dbl</caption>\n",
              "<tbody>\n",
              "\t<tr><td> 4</td><td>-5</td><td>-1</td></tr>\n",
              "\t<tr><td> 7</td><td>-2</td><td> 3</td></tr>\n",
              "\t<tr><td>-1</td><td> 4</td><td>-3</td></tr>\n",
              "\t<tr><td> 8</td><td> 2</td><td> 6</td></tr>\n",
              "</tbody>\n",
              "</table>\n"
            ],
            "text/markdown": "\nA matrix: 4 × 3 of type dbl\n\n|  4 | -5 | -1 |\n|  7 | -2 |  3 |\n| -1 |  4 | -3 |\n|  8 |  2 |  6 |\n\n",
            "text/latex": "A matrix: 4 × 3 of type dbl\n\\begin{tabular}{lll}\n\t  4 & -5 & -1\\\\\n\t  7 & -2 &  3\\\\\n\t -1 &  4 & -3\\\\\n\t  8 &  2 &  6\\\\\n\\end{tabular}\n",
            "text/plain": [
              "     [,1] [,2] [,3]\n",
              "[1,]  4   -5   -1  \n",
              "[2,]  7   -2    3  \n",
              "[3,] -1    4   -3  \n",
              "[4,]  8    2    6  "
            ]
          },
          "metadata": {}
        }
      ]
    },
    {
      "cell_type": "markdown",
      "source": [
        "SVD (completa)"
      ],
      "metadata": {
        "id": "tN2fJK_ynLGA"
      }
    },
    {
      "cell_type": "code",
      "source": [
        "svd_A = svd(A, nu = nrow(A), nv = ncol(A))\n",
        "svd_A$u\n",
        "svd_A$d\n",
        "svd_A$v"
      ],
      "metadata": {
        "id": "DS0EdGICnLN5",
        "outputId": "3c5f2031-a795-4b00-e5ed-fc533a709007",
        "colab": {
          "base_uri": "https://localhost:8080/",
          "height": 288
        }
      },
      "execution_count": 17,
      "outputs": [
        {
          "output_type": "display_data",
          "data": {
            "text/html": [
              "<table class=\"dataframe\">\n",
              "<caption>A matrix: 4 × 4 of type dbl</caption>\n",
              "<tbody>\n",
              "\t<tr><td>-0.2816569</td><td> 0.7303849</td><td>-0.42412326</td><td> 0.4553316</td></tr>\n",
              "\t<tr><td>-0.5912537</td><td> 0.1463017</td><td>-0.18371213</td><td>-0.7715340</td></tr>\n",
              "\t<tr><td> 0.2247823</td><td>-0.4040717</td><td>-0.88586638</td><td>-0.0379443</td></tr>\n",
              "\t<tr><td>-0.7214994</td><td>-0.5309048</td><td> 0.04012567</td><td> 0.4426835</td></tr>\n",
              "</tbody>\n",
              "</table>\n"
            ],
            "text/markdown": "\nA matrix: 4 × 4 of type dbl\n\n| -0.2816569 |  0.7303849 | -0.42412326 |  0.4553316 |\n| -0.5912537 |  0.1463017 | -0.18371213 | -0.7715340 |\n|  0.2247823 | -0.4040717 | -0.88586638 | -0.0379443 |\n| -0.7214994 | -0.5309048 |  0.04012567 |  0.4426835 |\n\n",
            "text/latex": "A matrix: 4 × 4 of type dbl\n\\begin{tabular}{llll}\n\t -0.2816569 &  0.7303849 & -0.42412326 &  0.4553316\\\\\n\t -0.5912537 &  0.1463017 & -0.18371213 & -0.7715340\\\\\n\t  0.2247823 & -0.4040717 & -0.88586638 & -0.0379443\\\\\n\t -0.7214994 & -0.5309048 &  0.04012567 &  0.4426835\\\\\n\\end{tabular}\n",
            "text/plain": [
              "     [,1]       [,2]       [,3]        [,4]      \n",
              "[1,] -0.2816569  0.7303849 -0.42412326  0.4553316\n",
              "[2,] -0.5912537  0.1463017 -0.18371213 -0.7715340\n",
              "[3,]  0.2247823 -0.4040717 -0.88586638 -0.0379443\n",
              "[4,] -0.7214994 -0.5309048  0.04012567  0.4426835"
            ]
          },
          "metadata": {}
        },
        {
          "output_type": "display_data",
          "data": {
            "text/html": [
              "<style>\n",
              ".list-inline {list-style: none; margin:0; padding: 0}\n",
              ".list-inline>li {display: inline-block}\n",
              ".list-inline>li:not(:last-child)::after {content: \"\\00b7\"; padding: 0 .5ex}\n",
              "</style>\n",
              "<ol class=list-inline><li>13.1612099609236</li><li>6.99989184120451</li><li>3.43279282449781</li></ol>\n"
            ],
            "text/markdown": "1. 13.1612099609236\n2. 6.99989184120451\n3. 3.43279282449781\n\n\n",
            "text/latex": "\\begin{enumerate*}\n\\item 13.1612099609236\n\\item 6.99989184120451\n\\item 3.43279282449781\n\\end{enumerate*}\n",
            "text/plain": [
              "[1] 13.161210  6.999892  3.432793"
            ]
          },
          "metadata": {}
        },
        {
          "output_type": "display_data",
          "data": {
            "text/html": [
              "<table class=\"dataframe\">\n",
              "<caption>A matrix: 3 × 3 of type dbl</caption>\n",
              "<tbody>\n",
              "\t<tr><td>-0.8557101</td><td> 0.01464091</td><td>-0.5172483</td></tr>\n",
              "\t<tr><td> 0.1555269</td><td>-0.94610374</td><td>-0.2840759</td></tr>\n",
              "\t<tr><td>-0.4935297</td><td>-0.32353262</td><td> 0.8073135</td></tr>\n",
              "</tbody>\n",
              "</table>\n"
            ],
            "text/markdown": "\nA matrix: 3 × 3 of type dbl\n\n| -0.8557101 |  0.01464091 | -0.5172483 |\n|  0.1555269 | -0.94610374 | -0.2840759 |\n| -0.4935297 | -0.32353262 |  0.8073135 |\n\n",
            "text/latex": "A matrix: 3 × 3 of type dbl\n\\begin{tabular}{lll}\n\t -0.8557101 &  0.01464091 & -0.5172483\\\\\n\t  0.1555269 & -0.94610374 & -0.2840759\\\\\n\t -0.4935297 & -0.32353262 &  0.8073135\\\\\n\\end{tabular}\n",
            "text/plain": [
              "     [,1]       [,2]        [,3]      \n",
              "[1,] -0.8557101  0.01464091 -0.5172483\n",
              "[2,]  0.1555269 -0.94610374 -0.2840759\n",
              "[3,] -0.4935297 -0.32353262  0.8073135"
            ]
          },
          "metadata": {}
        }
      ]
    },
    {
      "cell_type": "markdown",
      "source": [
        "Relación entre $u_i$ y $v_i$"
      ],
      "metadata": {
        "id": "7gHTkBfenP69"
      }
    },
    {
      "cell_type": "code",
      "source": [
        "thinSVD_A$u\n",
        "ui_fun <- function(i) A %*% svd_A$v[,i] / svd_A$d[i]\n",
        "sapply(1:ranA, ui_fun)"
      ],
      "metadata": {
        "id": "pqPl9SqgnQBW",
        "outputId": "4c4759c1-0054-4c45-9348-a40b8a97ff34",
        "colab": {
          "base_uri": "https://localhost:8080/",
          "height": 302
        }
      },
      "execution_count": 18,
      "outputs": [
        {
          "output_type": "display_data",
          "data": {
            "text/html": [
              "<table class=\"dataframe\">\n",
              "<caption>A matrix: 4 × 3 of type dbl</caption>\n",
              "<tbody>\n",
              "\t<tr><td>-0.2816569</td><td> 0.7303849</td><td>-0.42412326</td></tr>\n",
              "\t<tr><td>-0.5912537</td><td> 0.1463017</td><td>-0.18371213</td></tr>\n",
              "\t<tr><td> 0.2247823</td><td>-0.4040717</td><td>-0.88586638</td></tr>\n",
              "\t<tr><td>-0.7214994</td><td>-0.5309048</td><td> 0.04012567</td></tr>\n",
              "</tbody>\n",
              "</table>\n"
            ],
            "text/markdown": "\nA matrix: 4 × 3 of type dbl\n\n| -0.2816569 |  0.7303849 | -0.42412326 |\n| -0.5912537 |  0.1463017 | -0.18371213 |\n|  0.2247823 | -0.4040717 | -0.88586638 |\n| -0.7214994 | -0.5309048 |  0.04012567 |\n\n",
            "text/latex": "A matrix: 4 × 3 of type dbl\n\\begin{tabular}{lll}\n\t -0.2816569 &  0.7303849 & -0.42412326\\\\\n\t -0.5912537 &  0.1463017 & -0.18371213\\\\\n\t  0.2247823 & -0.4040717 & -0.88586638\\\\\n\t -0.7214994 & -0.5309048 &  0.04012567\\\\\n\\end{tabular}\n",
            "text/plain": [
              "     [,1]       [,2]       [,3]       \n",
              "[1,] -0.2816569  0.7303849 -0.42412326\n",
              "[2,] -0.5912537  0.1463017 -0.18371213\n",
              "[3,]  0.2247823 -0.4040717 -0.88586638\n",
              "[4,] -0.7214994 -0.5309048  0.04012567"
            ]
          },
          "metadata": {}
        },
        {
          "output_type": "display_data",
          "data": {
            "text/html": [
              "<table class=\"dataframe\">\n",
              "<caption>A matrix: 4 × 3 of type dbl</caption>\n",
              "<tbody>\n",
              "\t<tr><td>-0.2816569</td><td> 0.7303849</td><td>-0.42412326</td></tr>\n",
              "\t<tr><td>-0.5912537</td><td> 0.1463017</td><td>-0.18371213</td></tr>\n",
              "\t<tr><td> 0.2247823</td><td>-0.4040717</td><td>-0.88586638</td></tr>\n",
              "\t<tr><td>-0.7214994</td><td>-0.5309048</td><td> 0.04012567</td></tr>\n",
              "</tbody>\n",
              "</table>\n"
            ],
            "text/markdown": "\nA matrix: 4 × 3 of type dbl\n\n| -0.2816569 |  0.7303849 | -0.42412326 |\n| -0.5912537 |  0.1463017 | -0.18371213 |\n|  0.2247823 | -0.4040717 | -0.88586638 |\n| -0.7214994 | -0.5309048 |  0.04012567 |\n\n",
            "text/latex": "A matrix: 4 × 3 of type dbl\n\\begin{tabular}{lll}\n\t -0.2816569 &  0.7303849 & -0.42412326\\\\\n\t -0.5912537 &  0.1463017 & -0.18371213\\\\\n\t  0.2247823 & -0.4040717 & -0.88586638\\\\\n\t -0.7214994 & -0.5309048 &  0.04012567\\\\\n\\end{tabular}\n",
            "text/plain": [
              "     [,1]       [,2]       [,3]       \n",
              "[1,] -0.2816569  0.7303849 -0.42412326\n",
              "[2,] -0.5912537  0.1463017 -0.18371213\n",
              "[3,]  0.2247823 -0.4040717 -0.88586638\n",
              "[4,] -0.7214994 -0.5309048  0.04012567"
            ]
          },
          "metadata": {}
        }
      ]
    },
    {
      "cell_type": "code",
      "source": [
        "thinSVD_A$v\n",
        "vi_fun <- function(i) t(A) %*% svd_A$u[,i] / svd_A$d[i]\n",
        "sapply(1:ranA, vi_fun)"
      ],
      "metadata": {
        "id": "MGbkCNeqniW5",
        "outputId": "31458561-2741-4f23-b080-282f7d35a6ea",
        "colab": {
          "base_uri": "https://localhost:8080/",
          "height": 240
        }
      },
      "execution_count": 19,
      "outputs": [
        {
          "output_type": "display_data",
          "data": {
            "text/html": [
              "<table class=\"dataframe\">\n",
              "<caption>A matrix: 3 × 3 of type dbl</caption>\n",
              "<tbody>\n",
              "\t<tr><td>-0.8557101</td><td> 0.01464091</td><td>-0.5172483</td></tr>\n",
              "\t<tr><td> 0.1555269</td><td>-0.94610374</td><td>-0.2840759</td></tr>\n",
              "\t<tr><td>-0.4935297</td><td>-0.32353262</td><td> 0.8073135</td></tr>\n",
              "</tbody>\n",
              "</table>\n"
            ],
            "text/markdown": "\nA matrix: 3 × 3 of type dbl\n\n| -0.8557101 |  0.01464091 | -0.5172483 |\n|  0.1555269 | -0.94610374 | -0.2840759 |\n| -0.4935297 | -0.32353262 |  0.8073135 |\n\n",
            "text/latex": "A matrix: 3 × 3 of type dbl\n\\begin{tabular}{lll}\n\t -0.8557101 &  0.01464091 & -0.5172483\\\\\n\t  0.1555269 & -0.94610374 & -0.2840759\\\\\n\t -0.4935297 & -0.32353262 &  0.8073135\\\\\n\\end{tabular}\n",
            "text/plain": [
              "     [,1]       [,2]        [,3]      \n",
              "[1,] -0.8557101  0.01464091 -0.5172483\n",
              "[2,]  0.1555269 -0.94610374 -0.2840759\n",
              "[3,] -0.4935297 -0.32353262  0.8073135"
            ]
          },
          "metadata": {}
        },
        {
          "output_type": "display_data",
          "data": {
            "text/html": [
              "<table class=\"dataframe\">\n",
              "<caption>A matrix: 3 × 3 of type dbl</caption>\n",
              "<tbody>\n",
              "\t<tr><td>-0.8557101</td><td> 0.01464091</td><td>-0.5172483</td></tr>\n",
              "\t<tr><td> 0.1555269</td><td>-0.94610374</td><td>-0.2840759</td></tr>\n",
              "\t<tr><td>-0.4935297</td><td>-0.32353262</td><td> 0.8073135</td></tr>\n",
              "</tbody>\n",
              "</table>\n"
            ],
            "text/markdown": "\nA matrix: 3 × 3 of type dbl\n\n| -0.8557101 |  0.01464091 | -0.5172483 |\n|  0.1555269 | -0.94610374 | -0.2840759 |\n| -0.4935297 | -0.32353262 |  0.8073135 |\n\n",
            "text/latex": "A matrix: 3 × 3 of type dbl\n\\begin{tabular}{lll}\n\t -0.8557101 &  0.01464091 & -0.5172483\\\\\n\t  0.1555269 & -0.94610374 & -0.2840759\\\\\n\t -0.4935297 & -0.32353262 &  0.8073135\\\\\n\\end{tabular}\n",
            "text/plain": [
              "     [,1]       [,2]        [,3]      \n",
              "[1,] -0.8557101  0.01464091 -0.5172483\n",
              "[2,]  0.1555269 -0.94610374 -0.2840759\n",
              "[3,] -0.4935297 -0.32353262  0.8073135"
            ]
          },
          "metadata": {}
        }
      ]
    }
  ]
}