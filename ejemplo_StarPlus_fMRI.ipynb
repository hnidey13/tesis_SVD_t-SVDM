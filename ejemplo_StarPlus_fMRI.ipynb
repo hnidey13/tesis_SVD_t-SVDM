{
  "nbformat": 4,
  "nbformat_minor": 0,
  "metadata": {
    "colab": {
      "name": "ejemplo_StarPlus_fMRI.ipynb",
      "provenance": [],
      "collapsed_sections": [],
      "authorship_tag": "ABX9TyOCkT3PtwDhNfooUvhSl7WQ",
      "include_colab_link": true
    },
    "kernelspec": {
      "name": "python3",
      "display_name": "Python 3"
    },
    "language_info": {
      "name": "python"
    }
  },
  "cells": [
    {
      "cell_type": "markdown",
      "metadata": {
        "id": "view-in-github",
        "colab_type": "text"
      },
      "source": [
        "<a href=\"https://colab.research.google.com/github/hnidey13/tesis_SVD_t-SVDM/blob/main/ejemplo_StarPlus_fMRI.ipynb\" target=\"_parent\"><img src=\"https://colab.research.google.com/assets/colab-badge.svg\" alt=\"Open In Colab\"/></a>"
      ]
    },
    {
      "cell_type": "markdown",
      "source": [
        "### **Clasificación con t-SVDM (DFT)**"
      ],
      "metadata": {
        "id": "kcu7_cv3csWd"
      }
    },
    {
      "cell_type": "markdown",
      "source": [
        "Realizamos la conexión, cambiamos directorio de trabajo y cargamos librerías"
      ],
      "metadata": {
        "id": "kDS2y14jb9oZ"
      }
    },
    {
      "cell_type": "code",
      "execution_count": null,
      "metadata": {
        "colab": {
          "base_uri": "https://localhost:8080/"
        },
        "id": "3npK1QNHb0hL",
        "outputId": "71376a12-b695-4d9f-9ba2-95f86d375171"
      },
      "outputs": [
        {
          "output_type": "stream",
          "name": "stdout",
          "text": [
            "Mounted at /content/gdrive\n"
          ]
        }
      ],
      "source": [
        "from google.colab import drive\n",
        "drive.mount('/content/gdrive', force_remount=True)\n",
        "\n",
        "import os\n",
        "os.chdir('/content/gdrive/MyDrive/tensor-fmri')\n",
        "\n",
        "import numpy as np\n",
        "import tensor.tensor_product_wrapper as tp\n",
        "from utils.plotting_utils import montage_array, slice_subplots, classification_plots\n",
        "import matplotlib.pyplot as plt\n",
        "import similarity_metrics as sm\n",
        "import scipy.io\n",
        "import utils.starplus_utils as starp\n",
        "from numpy.linalg import norm\n",
        "from sklearn.model_selection import train_test_split\n",
        "import pickle"
      ]
    },
    {
      "cell_type": "markdown",
      "source": [
        "Parámetros iniciales"
      ],
      "metadata": {
        "id": "xHJuo65fcVQi"
      }
    },
    {
      "cell_type": "code",
      "source": [
        "save = True\n",
        "filename = 'local_tsvd'\n",
        "plot = True\n",
        "prod_type = 't'"
      ],
      "metadata": {
        "id": "xxTe_dJrcVV7"
      },
      "execution_count": null,
      "outputs": []
    },
    {
      "cell_type": "markdown",
      "source": [
        "Definimos proyección"
      ],
      "metadata": {
        "id": "ka_T6e89cqL2"
      }
    },
    {
      "cell_type": "code",
      "source": [
        "def projection(A, U, prod_type, M=None, dim_list=()):\n",
        "    training_coeff = tp.ten_prod(tp.ten_tran(U, prod_type=prod_type), A, prod_type=prod_type, M=M, dim_list=dim_list)\n",
        "    return tp.ten_prod(U, training_coeff, prod_type=prod_type, M=M, dim_list=dim_list)"
      ],
      "metadata": {
        "id": "hWWteF9mcqTl"
      },
      "execution_count": null,
      "outputs": []
    },
    {
      "cell_type": "markdown",
      "source": [
        "Leemos datos de un individuo y separamos en train y test"
      ],
      "metadata": {
        "id": "zgfZN-ywc6R6"
      }
    },
    {
      "cell_type": "code",
      "source": [
        "np.random.seed(20)\n",
        "\n",
        "#Lectura de datos\n",
        "star_plus_data = scipy.io.loadmat('/content/gdrive/MyDrive/Colab (datos)/StarPlus fMRI data/data-starplus-04799-v7.mat')\n",
        "tensor_PS, labels = starp.get_labels(star_plus_data)\n",
        "tensor_PS = tensor_PS / norm(tensor_PS)\n",
        "\n",
        "#Train y test\n",
        "training_data, test_data, training_labels, test_labels = train_test_split(np.moveaxis(tensor_PS, -1, 0), labels,\n",
        "                                                                          test_size=0.33, random_state=42)\n",
        "training_data = np.moveaxis(training_data, 0, 1)\n",
        "test_data = np.moveaxis(test_data, 0, 1)\n"
      ],
      "metadata": {
        "id": "7aIOdwG8c6Z7"
      },
      "execution_count": null,
      "outputs": []
    },
    {
      "cell_type": "markdown",
      "source": [
        "Estructura"
      ],
      "metadata": {
        "id": "j3VkRyfp_VIM"
      }
    },
    {
      "cell_type": "code",
      "source": [
        "print(tensor_PS.shape)\n",
        "print(labels.shape)\n",
        "print(np.count_nonzero(labels == 0))\n",
        "print(np.count_nonzero(labels == 1))\n",
        "print(np.moveaxis(tensor_PS, -1, 0).shape)\n",
        "print(training_data.shape)\n",
        "print(test_data.shape)"
      ],
      "metadata": {
        "colab": {
          "base_uri": "https://localhost:8080/"
        },
        "id": "SIXiInRo_U89",
        "outputId": "7ae7a67f-1736-4f00-dad0-7067e753ee4b"
      },
      "execution_count": null,
      "outputs": [
        {
          "output_type": "stream",
          "name": "stdout",
          "text": [
            "(64, 64, 8, 16, 80)\n",
            "(80,)\n",
            "40\n",
            "40\n",
            "(80, 64, 64, 8, 16)\n",
            "(64, 53, 64, 8, 16)\n",
            "(64, 27, 64, 8, 16)\n"
          ]
        }
      ]
    },
    {
      "cell_type": "markdown",
      "source": [
        "Calculamos t-SVDM de rango $k$"
      ],
      "metadata": {
        "id": "MUgPv5PQdHKv"
      }
    },
    {
      "cell_type": "code",
      "source": [
        "num_classes = len(np.unique(training_labels))\n",
        "range_k = range(2,16)\n",
        "\n",
        "U = []\n",
        "\n",
        "for i in range(num_classes):\n",
        "    u, _, _, _ = tp.ten_svd(training_data[:, training_labels == i], k=max(range_k), prod_type=prod_type)\n",
        "    U.append(u)"
      ],
      "metadata": {
        "id": "dcARHymBdHzr"
      },
      "execution_count": null,
      "outputs": []
    },
    {
      "cell_type": "markdown",
      "source": [
        "Clasificamos para entrenamiento y prueba"
      ],
      "metadata": {
        "id": "wZVXd_NddmAO"
      }
    },
    {
      "cell_type": "code",
      "source": [
        "training_error = np.zeros([num_classes, training_data.shape[1], len(range_k)])\n",
        "test_error = np.zeros([num_classes, test_data.shape[1], len(range_k)])\n",
        "for j, k in enumerate(range_k):\n",
        "    for i in range(num_classes):\n",
        "        training_projection = projection(training_data, U[i][:, :k], prod_type=prod_type)\n",
        "        training_error[i, :, j] = sm.frobenius_metric(training_data, training_projection, axis=1)\n",
        "\n",
        "        test_projection = projection(test_data, U[i][:, :k], prod_type=prod_type)\n",
        "        test_error[i, :, j] = sm.frobenius_metric(test_data, test_projection, axis=1)\n",
        "\n",
        "\n",
        "#Clasificación\n",
        "training_predicted_classes = np.argmin(training_error, axis=0).reshape(-1, len(range_k))\n",
        "test_predicted_classes = np.argmin(test_error, axis=0).reshape(-1, len(range_k))"
      ],
      "metadata": {
        "id": "LW8J33T0dmHm"
      },
      "execution_count": null,
      "outputs": []
    },
    {
      "cell_type": "markdown",
      "source": [
        "Resultados"
      ],
      "metadata": {
        "id": "RhYqh7oTeAdH"
      }
    },
    {
      "cell_type": "code",
      "source": [
        "training_num_correct = np.sum(training_predicted_classes == training_labels.reshape(-1, 1), axis=0)\n",
        "training_accuracy = training_num_correct / training_data.shape[1]\n",
        "\n",
        "test_num_correct = np.sum(test_predicted_classes == test_labels.reshape(-1, 1), axis=0)\n",
        "test_accuracy = test_num_correct / test_data.shape[1]\n",
        "test_acc_tSVDM = test_accuracy\n",
        "\n",
        "for j, k in enumerate(range_k):\n",
        "    print('k = %d: train accuracy = %0.2f\\ttest accuracy = %0.2f' %\n",
        "          (k, 100 * training_accuracy[j], 100 * test_accuracy[j]))\n",
        "\n",
        "if save:\n",
        "    if not os.path.exists('results/'):\n",
        "        os.makedirs('results/')\n",
        "    stored_results = {'training_error' : training_error,\n",
        "                      'test_error' : test_error,\n",
        "                      'training_accuracy' : training_accuracy,\n",
        "                      'test_accuracy' : test_accuracy}\n",
        "    pickle.dump(stored_results, open('results/' + filename + '-' + prod_type + '.py', 'wb'))\n",
        "\n",
        "#Gráfica\n",
        "if plot:\n",
        "    plt.figure()\n",
        "    classification_plots(training_error[:, :, 0], training_labels)\n",
        "    plt.show()"
      ],
      "metadata": {
        "colab": {
          "base_uri": "https://localhost:8080/",
          "height": 565
        },
        "id": "r4xL3UY_eAnV",
        "outputId": "8bddf259-5d2c-4a2e-f844-085a94c88253"
      },
      "execution_count": null,
      "outputs": [
        {
          "output_type": "stream",
          "name": "stdout",
          "text": [
            "k = 2: train accuracy = 100.00\ttest accuracy = 66.67\n",
            "k = 3: train accuracy = 100.00\ttest accuracy = 62.96\n",
            "k = 4: train accuracy = 100.00\ttest accuracy = 66.67\n",
            "k = 5: train accuracy = 100.00\ttest accuracy = 66.67\n",
            "k = 6: train accuracy = 100.00\ttest accuracy = 66.67\n",
            "k = 7: train accuracy = 100.00\ttest accuracy = 66.67\n",
            "k = 8: train accuracy = 100.00\ttest accuracy = 74.07\n",
            "k = 9: train accuracy = 100.00\ttest accuracy = 70.37\n",
            "k = 10: train accuracy = 100.00\ttest accuracy = 70.37\n",
            "k = 11: train accuracy = 100.00\ttest accuracy = 70.37\n",
            "k = 12: train accuracy = 100.00\ttest accuracy = 70.37\n",
            "k = 13: train accuracy = 100.00\ttest accuracy = 66.67\n",
            "k = 14: train accuracy = 100.00\ttest accuracy = 66.67\n",
            "k = 15: train accuracy = 100.00\ttest accuracy = 66.67\n"
          ]
        },
        {
          "output_type": "display_data",
          "data": {
            "text/plain": [
              "<Figure size 432x288 with 0 Axes>"
            ]
          },
          "metadata": {}
        },
        {
          "output_type": "display_data",
          "data": {
            "text/plain": [
              "<Figure size 432x288 with 2 Axes>"
            ],
            "image/png": "[encoded data removed]"
          },
          "metadata": {
            "needs_background": "light"
          }
        }
      ]
    },
    {
      "cell_type": "markdown",
      "source": [
        "### **Clasificación con SVD Matricial**"
      ],
      "metadata": {
        "id": "uOqfBPJYekXQ"
      }
    },
    {
      "cell_type": "markdown",
      "source": [
        "Librerías necesarias"
      ],
      "metadata": {
        "id": "fLtO55IAexbs"
      }
    },
    {
      "cell_type": "code",
      "source": [
        "from tensor.utils import reshape\n",
        "from numpy.linalg import svd"
      ],
      "metadata": {
        "id": "Di27RGUlexij"
      },
      "execution_count": null,
      "outputs": []
    },
    {
      "cell_type": "markdown",
      "source": [
        "Parámetros"
      ],
      "metadata": {
        "id": "V9OzL7NOkMF4"
      }
    },
    {
      "cell_type": "code",
      "source": [
        "filename = 'local_svd'"
      ],
      "metadata": {
        "id": "uJoPTYQckMl3"
      },
      "execution_count": null,
      "outputs": []
    },
    {
      "cell_type": "markdown",
      "source": [
        "Definimos proyección"
      ],
      "metadata": {
        "id": "1b3F1UWBkUgb"
      }
    },
    {
      "cell_type": "code",
      "source": [
        "def projection(A, U):\n",
        "    training_coeff = U.T @ A\n",
        "    return U @ training_coeff"
      ],
      "metadata": {
        "id": "j3ubR8gikUwy"
      },
      "execution_count": null,
      "outputs": []
    },
    {
      "cell_type": "markdown",
      "source": [
        "Vectorizamos y dividimos en train y test"
      ],
      "metadata": {
        "id": "6NLJa6zQkkP4"
      }
    },
    {
      "cell_type": "code",
      "source": [
        "# vectorize\n",
        "tensor_PS = np.moveaxis(tensor_PS, -1, 0)\n",
        "tensor_PS = reshape(tensor_PS, [tensor_PS.shape[0], -1])\n",
        "tensor_PS = tensor_PS.T\n",
        "\n",
        "# split\n",
        "training_data, test_data, training_labels, test_labels = train_test_split(np.moveaxis(tensor_PS, -1, 0), labels,\n",
        "                                                                          test_size=0.33, random_state=42)\n",
        "training_data = np.moveaxis(training_data, 0, 1)\n",
        "test_data = np.moveaxis(test_data, 0, 1)"
      ],
      "metadata": {
        "id": "zpRDf7ezkka_"
      },
      "execution_count": null,
      "outputs": []
    },
    {
      "cell_type": "markdown",
      "source": [
        "Calculamos SVD de rango $k$"
      ],
      "metadata": {
        "id": "ZFmfW8MnksOt"
      }
    },
    {
      "cell_type": "code",
      "source": [
        "num_classes = len(np.unique(training_labels))\n",
        "\n",
        "U = []\n",
        "for i in range(num_classes):\n",
        "    u, _, _ = svd(training_data[:, training_labels == i], full_matrices=False)\n",
        "    U.append(u[:, :max(range_k)])"
      ],
      "metadata": {
        "id": "0BIwK6cLksUU"
      },
      "execution_count": null,
      "outputs": []
    },
    {
      "cell_type": "markdown",
      "source": [
        "Clasificamos para entrenamiento y prueba"
      ],
      "metadata": {
        "id": "CGbKml1Nk7C6"
      }
    },
    {
      "cell_type": "code",
      "source": [
        "training_error = np.zeros([num_classes, training_data.shape[1], len(range_k)])\n",
        "test_error = np.zeros([num_classes, test_data.shape[1], len(range_k)])\n",
        "\n",
        "for j, k in enumerate(range_k):\n",
        "    for i in range(num_classes):\n",
        "        training_projection = projection(training_data, U[i][:, :k])\n",
        "        training_error[i, :, j] = sm.frobenius_metric(training_data, training_projection, axis=1)\n",
        "\n",
        "        test_projection = projection(test_data, U[i][:, :k])\n",
        "        test_error[i, :, j] = sm.frobenius_metric(test_data, test_projection, axis=1)\n",
        "\n",
        "training_predicted_classes = np.argmin(training_error, axis=0).reshape(-1, len(range_k))\n",
        "test_predicted_classes = np.argmin(test_error, axis=0).reshape(-1, len(range_k))"
      ],
      "metadata": {
        "id": "Qy8WpZk-k7I7"
      },
      "execution_count": null,
      "outputs": []
    },
    {
      "cell_type": "markdown",
      "source": [
        "Resultados"
      ],
      "metadata": {
        "id": "6t4zwV0qlFD9"
      }
    },
    {
      "cell_type": "code",
      "source": [
        "training_num_correct = np.sum(training_predicted_classes == training_labels.reshape(-1, 1), axis=0)\n",
        "training_accuracy = training_num_correct / training_data.shape[1]\n",
        "\n",
        "test_num_correct = np.sum(test_predicted_classes == test_labels.reshape(-1, 1), axis=0)\n",
        "test_accuracy = test_num_correct / test_data.shape[1]\n",
        "test_acc_SVD = test_accuracy\n",
        "\n",
        "for j, k in enumerate(range_k):\n",
        "    print('k = %d: train accuracy = %0.2f\\ttest accuracy = %0.2f' %\n",
        "          (k, 100 * training_accuracy[j], 100 * test_accuracy[j]))\n",
        "\n",
        "if save:\n",
        "    if not os.path.exists('results/'):\n",
        "        os.makedirs('results/')\n",
        "    stored_results = {'training_error' : training_error,\n",
        "                      'test_error' : test_error,\n",
        "                      'training_accuracy' : training_accuracy,\n",
        "                      'test_accuracy' : test_accuracy}\n",
        "    pickle.dump(stored_results, open('results/' + filename + '.py', 'wb'))\n",
        "\n",
        "if plot:\n",
        "    plt.figure()\n",
        "    classification_plots(training_error[:, :, 0], training_labels)\n",
        "    plt.show()"
      ],
      "metadata": {
        "colab": {
          "base_uri": "https://localhost:8080/",
          "height": 565
        },
        "id": "V06Xrd4ClFNx",
        "outputId": "b20b97c4-5b00-4fd7-be51-ff7219342a95"
      },
      "execution_count": null,
      "outputs": [
        {
          "output_type": "stream",
          "name": "stdout",
          "text": [
            "k = 2: train accuracy = 94.34\ttest accuracy = 59.26\n",
            "k = 3: train accuracy = 100.00\ttest accuracy = 62.96\n",
            "k = 4: train accuracy = 100.00\ttest accuracy = 62.96\n",
            "k = 5: train accuracy = 100.00\ttest accuracy = 55.56\n",
            "k = 6: train accuracy = 100.00\ttest accuracy = 55.56\n",
            "k = 7: train accuracy = 100.00\ttest accuracy = 55.56\n",
            "k = 8: train accuracy = 100.00\ttest accuracy = 59.26\n",
            "k = 9: train accuracy = 100.00\ttest accuracy = 62.96\n",
            "k = 10: train accuracy = 100.00\ttest accuracy = 59.26\n",
            "k = 11: train accuracy = 100.00\ttest accuracy = 59.26\n",
            "k = 12: train accuracy = 100.00\ttest accuracy = 55.56\n",
            "k = 13: train accuracy = 100.00\ttest accuracy = 59.26\n",
            "k = 14: train accuracy = 100.00\ttest accuracy = 59.26\n",
            "k = 15: train accuracy = 100.00\ttest accuracy = 59.26\n"
          ]
        },
        {
          "output_type": "display_data",
          "data": {
            "text/plain": [
              "<Figure size 432x288 with 0 Axes>"
            ]
          },
          "metadata": {}
        },
        {
          "output_type": "display_data",
          "data": {
            "text/plain": [
              "<Figure size 432x288 with 2 Axes>"
            ],
            "image/png": "[encoded data removed]"
          },
          "metadata": {
            "needs_background": "light"
          }
        }
      ]
    },
    {
      "cell_type": "markdown",
      "source": [
        "Comparación de resultados"
      ],
      "metadata": {
        "id": "Pfhkw9xul1v9"
      }
    },
    {
      "cell_type": "code",
      "source": [
        "plt.figure()\n",
        "plt.plot(range_k, test_acc_tSVDM, label='t-SVDM', color = 'red')\n",
        "plt.plot(range_k, test_acc_SVD, label='SVD', color = 'blue')\n",
        "plt.title('Resultados (prueba)')\n",
        "plt.xlabel('Rango')\n",
        "plt.ylabel('Precisión (%)')\n",
        "plt.legend()\n",
        "plt.show()"
      ],
      "metadata": {
        "colab": {
          "base_uri": "https://localhost:8080/"
        },
        "id": "HKOtcnRil11o",
        "outputId": "6e8319cc-b64a-472c-b1e3-7344f0845ad0"
      },
      "execution_count": null,
      "outputs": [
        {
          "output_type": "display_data",
          "data": {
            "text/plain": [
              "<Figure size 432x288 with 1 Axes>"
            ],
            "image/png": "[encoded data removed]"
          },
          "metadata": {
            "needs_background": "light"
          }
        }
      ]
    }
  ]
}