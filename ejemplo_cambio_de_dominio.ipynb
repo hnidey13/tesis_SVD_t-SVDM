{
  "nbformat": 4,
  "nbformat_minor": 0,
  "metadata": {
    "colab": {
      "provenance": [],
      "authorship_tag": "ABX9TyPWns//RG/vijy6sKYxTPK+",
      "include_colab_link": true
    },
    "kernelspec": {
      "name": "ir",
      "display_name": "R"
    },
    "language_info": {
      "name": "R"
    }
  },
  "cells": [
    {
      "cell_type": "markdown",
      "metadata": {
        "id": "view-in-github",
        "colab_type": "text"
      },
      "source": [
        "<a href=\"https://colab.research.google.com/github/hnidey13/tesis_SVD_t-SVDM/blob/main/ejemplo_cambio_de_dominio.ipynb\" target=\"_parent\"><img src=\"https://colab.research.google.com/assets/colab-badge.svg\" alt=\"Open In Colab\"/></a>"
      ]
    },
    {
      "cell_type": "markdown",
      "source": [
        "Limpiamos área de trabajo"
      ],
      "metadata": {
        "id": "chT-Jl61pmXw"
      }
    },
    {
      "cell_type": "code",
      "execution_count": 1,
      "metadata": {
        "id": "QMM2fU7yoMXF"
      },
      "outputs": [],
      "source": [
        "rm(list=ls())"
      ]
    },
    {
      "cell_type": "markdown",
      "source": [
        "Obtener $\\widehat{\\boldsymbol{\\mathcal{A}}}$ a partir de $\\boldsymbol{\\mathcal{A}}$"
      ],
      "metadata": {
        "id": "MKqvPwl7pqZS"
      }
    },
    {
      "cell_type": "markdown",
      "source": [
        "Tensor $\\boldsymbol{\\mathcal{A}}\\in\\mathbb{R}^{2\\times2\\times2}$\n"
      ],
      "metadata": {
        "id": "BH5hsMQepzxo"
      }
    },
    {
      "cell_type": "code",
      "source": [
        "A <- array(c(1,0,2,-1,\n",
        "             -1,1,1,1),\n",
        "           c(2,2,2))\n",
        "print(A)"
      ],
      "metadata": {
        "id": "-G8JlQ-xpqfO",
        "outputId": "600da0e2-49bc-4aff-f297-fe6d611e58a4",
        "colab": {
          "base_uri": "https://localhost:8080/"
        }
      },
      "execution_count": 3,
      "outputs": [
        {
          "output_type": "stream",
          "name": "stdout",
          "text": [
            ", , 1\n",
            "\n",
            "     [,1] [,2]\n",
            "[1,]    1    2\n",
            "[2,]    0   -1\n",
            "\n",
            ", , 2\n",
            "\n",
            "     [,1] [,2]\n",
            "[1,]   -1    1\n",
            "[2,]    1    1\n",
            "\n"
          ]
        }
      ]
    },
    {
      "cell_type": "markdown",
      "source": [
        "Matriz $M\\in\\mathbb{R}^{2\\times2}$"
      ],
      "metadata": {
        "id": "m3qTrBRsqK_t"
      }
    },
    {
      "cell_type": "code",
      "source": [
        "M <- matrix(c(3,1,2,1),2,2)\n",
        "M"
      ],
      "metadata": {
        "id": "qXsIRwgoqNWm",
        "outputId": "19e8e0a5-05e2-4b73-bd30-2c2e5b33da3d",
        "colab": {
          "base_uri": "https://localhost:8080/",
          "height": 166
        }
      },
      "execution_count": 9,
      "outputs": [
        {
          "output_type": "display_data",
          "data": {
            "text/html": [
              "<table class=\"dataframe\">\n",
              "<caption>A matrix: 2 × 2 of type dbl</caption>\n",
              "<tbody>\n",
              "\t<tr><td>3</td><td>2</td></tr>\n",
              "\t<tr><td>1</td><td>1</td></tr>\n",
              "</tbody>\n",
              "</table>\n"
            ],
            "text/markdown": "\nA matrix: 2 × 2 of type dbl\n\n| 3 | 2 |\n| 1 | 1 |\n\n",
            "text/latex": "A matrix: 2 × 2 of type dbl\n\\begin{tabular}{ll}\n\t 3 & 2\\\\\n\t 1 & 1\\\\\n\\end{tabular}\n",
            "text/plain": [
              "     [,1] [,2]\n",
              "[1,] 3    2   \n",
              "[2,] 1    1   "
            ]
          },
          "metadata": {}
        }
      ]
    },
    {
      "cell_type": "markdown",
      "source": [
        "Desdoble de forma $3$ de $\\boldsymbol{\\mathcal{A}}$"
      ],
      "metadata": {
        "id": "korrrrd2qW4q"
      }
    },
    {
      "cell_type": "code",
      "source": [
        "A3 <- cbind(A[1,1,],A[1,2,],A[2,1,],A[2,2,])\n",
        "A3"
      ],
      "metadata": {
        "id": "j1kl0q0NqW-x",
        "outputId": "ee406e7c-962a-4d72-acef-b217db1310f0",
        "colab": {
          "base_uri": "https://localhost:8080/",
          "height": 114
        }
      },
      "execution_count": 10,
      "outputs": [
        {
          "output_type": "display_data",
          "data": {
            "text/html": [
              "<table class=\"dataframe\">\n",
              "<caption>A matrix: 2 × 4 of type dbl</caption>\n",
              "<tbody>\n",
              "\t<tr><td> 1</td><td>2</td><td>0</td><td>-1</td></tr>\n",
              "\t<tr><td>-1</td><td>1</td><td>1</td><td> 1</td></tr>\n",
              "</tbody>\n",
              "</table>\n"
            ],
            "text/markdown": "\nA matrix: 2 × 4 of type dbl\n\n|  1 | 2 | 0 | -1 |\n| -1 | 1 | 1 |  1 |\n\n",
            "text/latex": "A matrix: 2 × 4 of type dbl\n\\begin{tabular}{llll}\n\t  1 & 2 & 0 & -1\\\\\n\t -1 & 1 & 1 &  1\\\\\n\\end{tabular}\n",
            "text/plain": [
              "     [,1] [,2] [,3] [,4]\n",
              "[1,]  1   2    0    -1  \n",
              "[2,] -1   1    1     1  "
            ]
          },
          "metadata": {}
        }
      ]
    },
    {
      "cell_type": "markdown",
      "source": [
        "Producto $\\boldsymbol{M}\\boldsymbol{\\mathcal{A}}_{(3)}$"
      ],
      "metadata": {
        "id": "Y6vun2BhqknB"
      }
    },
    {
      "cell_type": "code",
      "source": [
        "M_x_A3 <- M %*% A3\n",
        "M_x_A3"
      ],
      "metadata": {
        "id": "CQd41hAzqkuK",
        "outputId": "5c43483f-18b2-4db2-e8e3-9a55e3dd8e87",
        "colab": {
          "base_uri": "https://localhost:8080/",
          "height": 114
        }
      },
      "execution_count": 11,
      "outputs": [
        {
          "output_type": "display_data",
          "data": {
            "text/html": [
              "<table class=\"dataframe\">\n",
              "<caption>A matrix: 2 × 4 of type dbl</caption>\n",
              "<tbody>\n",
              "\t<tr><td>1</td><td>8</td><td>2</td><td>-1</td></tr>\n",
              "\t<tr><td>0</td><td>3</td><td>1</td><td> 0</td></tr>\n",
              "</tbody>\n",
              "</table>\n"
            ],
            "text/markdown": "\nA matrix: 2 × 4 of type dbl\n\n| 1 | 8 | 2 | -1 |\n| 0 | 3 | 1 |  0 |\n\n",
            "text/latex": "A matrix: 2 × 4 of type dbl\n\\begin{tabular}{llll}\n\t 1 & 8 & 2 & -1\\\\\n\t 0 & 3 & 1 &  0\\\\\n\\end{tabular}\n",
            "text/plain": [
              "     [,1] [,2] [,3] [,4]\n",
              "[1,] 1    8    2    -1  \n",
              "[2,] 0    3    1     0  "
            ]
          },
          "metadata": {}
        }
      ]
    },
    {
      "cell_type": "markdown",
      "source": [
        "Doblez de forma $3$"
      ],
      "metadata": {
        "id": "L1KPKLhjqxcI"
      }
    },
    {
      "cell_type": "code",
      "source": [
        "A_hat <- array(dim = c(2,2,2))\n",
        "A_hat[1,1,] <- M_x_A3[,1]\n",
        "A_hat[1,2,] <- M_x_A3[,2]\n",
        "A_hat[2,1,] <- M_x_A3[,3]\n",
        "A_hat[2,2,] <- M_x_A3[,4]\n",
        "print(A_hat)"
      ],
      "metadata": {
        "id": "CF8_B_OSqhj8",
        "outputId": "1afd5ac5-0d4d-4e06-9583-b297c58eb0d8",
        "colab": {
          "base_uri": "https://localhost:8080/"
        }
      },
      "execution_count": 13,
      "outputs": [
        {
          "output_type": "stream",
          "name": "stdout",
          "text": [
            ", , 1\n",
            "\n",
            "     [,1] [,2]\n",
            "[1,]    1    8\n",
            "[2,]    2   -1\n",
            "\n",
            ", , 2\n",
            "\n",
            "     [,1] [,2]\n",
            "[1,]    0    3\n",
            "[2,]    1    0\n",
            "\n"
          ]
        }
      ]
    },
    {
      "cell_type": "markdown",
      "source": [
        "###Proceso inverso (obtener $\\boldsymbol{\\mathcal{A}}$ a partir de $\\widehat{\\boldsymbol{\\mathcal{A}}}$)"
      ],
      "metadata": {
        "id": "mVCZaAWxqbTD"
      }
    },
    {
      "cell_type": "code",
      "source": [
        "print(A_hat)"
      ],
      "metadata": {
        "id": "-PHOEP0WqbaX",
        "outputId": "92337986-a614-4244-90b0-a46ae9fd13fd",
        "colab": {
          "base_uri": "https://localhost:8080/"
        }
      },
      "execution_count": 15,
      "outputs": [
        {
          "output_type": "stream",
          "name": "stdout",
          "text": [
            ", , 1\n",
            "\n",
            "     [,1] [,2]\n",
            "[1,]    1    8\n",
            "[2,]    2   -1\n",
            "\n",
            ", , 2\n",
            "\n",
            "     [,1] [,2]\n",
            "[1,]    0    3\n",
            "[2,]    1    0\n",
            "\n"
          ]
        }
      ]
    },
    {
      "cell_type": "markdown",
      "source": [
        "Desdoble de forma $3$"
      ],
      "metadata": {
        "id": "qZk4J1Omrm0c"
      }
    },
    {
      "cell_type": "code",
      "source": [
        "M_x_A3 <- cbind(A_hat[1,1,],A_hat[1,2,],A_hat[2,1,],A_hat[2,2,])\n",
        "M_x_A3"
      ],
      "metadata": {
        "id": "qsvrSxhBrnFf",
        "outputId": "c13d4870-69e6-42a0-b198-5f20671314ad",
        "colab": {
          "base_uri": "https://localhost:8080/",
          "height": 114
        }
      },
      "execution_count": 16,
      "outputs": [
        {
          "output_type": "display_data",
          "data": {
            "text/html": [
              "<table class=\"dataframe\">\n",
              "<caption>A matrix: 2 × 4 of type dbl</caption>\n",
              "<tbody>\n",
              "\t<tr><td>1</td><td>8</td><td>2</td><td>-1</td></tr>\n",
              "\t<tr><td>0</td><td>3</td><td>1</td><td> 0</td></tr>\n",
              "</tbody>\n",
              "</table>\n"
            ],
            "text/markdown": "\nA matrix: 2 × 4 of type dbl\n\n| 1 | 8 | 2 | -1 |\n| 0 | 3 | 1 |  0 |\n\n",
            "text/latex": "A matrix: 2 × 4 of type dbl\n\\begin{tabular}{llll}\n\t 1 & 8 & 2 & -1\\\\\n\t 0 & 3 & 1 &  0\\\\\n\\end{tabular}\n",
            "text/plain": [
              "     [,1] [,2] [,3] [,4]\n",
              "[1,] 1    8    2    -1  \n",
              "[2,] 0    3    1     0  "
            ]
          },
          "metadata": {}
        }
      ]
    },
    {
      "cell_type": "markdown",
      "source": [
        "Multiplicación matricial inversa"
      ],
      "metadata": {
        "id": "Nqk5QFEcrwfO"
      }
    },
    {
      "cell_type": "code",
      "source": [
        "A3 <- solve(M) %*% M_x_A3\n",
        "A3"
      ],
      "metadata": {
        "id": "1JSvcZv9rw0U",
        "outputId": "980a0256-9ee5-4a02-b3a2-f9e326e76aed",
        "colab": {
          "base_uri": "https://localhost:8080/",
          "height": 114
        }
      },
      "execution_count": 18,
      "outputs": [
        {
          "output_type": "display_data",
          "data": {
            "text/html": [
              "<table class=\"dataframe\">\n",
              "<caption>A matrix: 2 × 4 of type dbl</caption>\n",
              "<tbody>\n",
              "\t<tr><td> 1</td><td>2</td><td>0</td><td>-1</td></tr>\n",
              "\t<tr><td>-1</td><td>1</td><td>1</td><td> 1</td></tr>\n",
              "</tbody>\n",
              "</table>\n"
            ],
            "text/markdown": "\nA matrix: 2 × 4 of type dbl\n\n|  1 | 2 | 0 | -1 |\n| -1 | 1 | 1 |  1 |\n\n",
            "text/latex": "A matrix: 2 × 4 of type dbl\n\\begin{tabular}{llll}\n\t  1 & 2 & 0 & -1\\\\\n\t -1 & 1 & 1 &  1\\\\\n\\end{tabular}\n",
            "text/plain": [
              "     [,1] [,2] [,3] [,4]\n",
              "[1,]  1   2    0    -1  \n",
              "[2,] -1   1    1     1  "
            ]
          },
          "metadata": {}
        }
      ]
    },
    {
      "cell_type": "markdown",
      "source": [
        "Doblez de forma $3$ de $\\boldsymbol{\\mathcal{A}}_{(3)}$"
      ],
      "metadata": {
        "id": "b53V1Bwdr3J0"
      }
    },
    {
      "cell_type": "code",
      "source": [
        "A <- array(dim = c(2,2,2))\n",
        "A[1,1,] <- A3[,1]\n",
        "A[1,2,] <- A3[,2]\n",
        "A[2,1,] <- A3[,3]\n",
        "A[2,2,] <- A3[,4]\n",
        "print(A)"
      ],
      "metadata": {
        "id": "oKVpGAXar3TL",
        "outputId": "6263cf3b-88e0-430b-8f26-bc303577611b",
        "colab": {
          "base_uri": "https://localhost:8080/"
        }
      },
      "execution_count": 20,
      "outputs": [
        {
          "output_type": "stream",
          "name": "stdout",
          "text": [
            ", , 1\n",
            "\n",
            "     [,1] [,2]\n",
            "[1,]    1    2\n",
            "[2,]    0   -1\n",
            "\n",
            ", , 2\n",
            "\n",
            "     [,1] [,2]\n",
            "[1,]   -1    1\n",
            "[2,]    1    1\n",
            "\n"
          ]
        }
      ]
    }
  ]
}