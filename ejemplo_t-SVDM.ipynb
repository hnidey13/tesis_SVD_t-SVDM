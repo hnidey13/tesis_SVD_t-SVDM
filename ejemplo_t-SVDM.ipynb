{
  "nbformat": 4,
  "nbformat_minor": 0,
  "metadata": {
    "colab": {
      "provenance": [],
      "authorship_tag": "ABX9TyPEIh8bYW9pPq7JPYn6jFx/",
      "include_colab_link": true
    },
    "kernelspec": {
      "name": "ir",
      "display_name": "R"
    },
    "language_info": {
      "name": "R"
    }
  },
  "cells": [
    {
      "cell_type": "markdown",
      "metadata": {
        "id": "view-in-github",
        "colab_type": "text"
      },
      "source": [
        "<a href=\"https://colab.research.google.com/github/hnidey13/tesis_SVD_t-SVDM/blob/main/ejemplo_t-SVDM.ipynb\" target=\"_parent\"><img src=\"https://colab.research.google.com/assets/colab-badge.svg\" alt=\"Open In Colab\"/></a>"
      ]
    },
    {
      "cell_type": "markdown",
      "source": [
        "Limpiamos área de trabajo"
      ],
      "metadata": {
        "id": "g8-F_v3g7FAm"
      }
    },
    {
      "cell_type": "code",
      "execution_count": 109,
      "metadata": {
        "id": "QMM2fU7yoMXF"
      },
      "outputs": [],
      "source": [
        "rm(list=ls())"
      ]
    },
    {
      "cell_type": "markdown",
      "source": [
        "Tensor $\\boldsymbol{\\mathcal{A}}\\in\\mathbb{R}^{2\\times2\\times2}$"
      ],
      "metadata": {
        "id": "EAAwhdg97Lih"
      }
    },
    {
      "cell_type": "code",
      "source": [
        "A <- array(c(1,0,2,-1,\n",
        "             -1,1,1,1),\n",
        "           c(2,2,2))\n",
        "print(A)"
      ],
      "metadata": {
        "id": "0TRo0m1B7LsE",
        "outputId": "8dd99c89-99cf-42d6-d38b-a992978ff3cd",
        "colab": {
          "base_uri": "https://localhost:8080/"
        }
      },
      "execution_count": 110,
      "outputs": [
        {
          "output_type": "stream",
          "name": "stdout",
          "text": [
            ", , 1\n",
            "\n",
            "     [,1] [,2]\n",
            "[1,]    1    2\n",
            "[2,]    0   -1\n",
            "\n",
            ", , 2\n",
            "\n",
            "     [,1] [,2]\n",
            "[1,]   -1    1\n",
            "[2,]    1    1\n",
            "\n"
          ]
        }
      ]
    },
    {
      "cell_type": "markdown",
      "source": [
        "Matriz $\\boldsymbol{M}\\in\\mathbb{R}^{2\\times2}$"
      ],
      "metadata": {
        "id": "oXRZdMr97ztO"
      }
    },
    {
      "cell_type": "code",
      "source": [
        "M <- matrix(c(3,1,2,1),2,2)\n",
        "M"
      ],
      "metadata": {
        "id": "YxsDBh7c7z1c",
        "outputId": "4fda3633-5779-4562-c68d-bf5abcb3911f",
        "colab": {
          "base_uri": "https://localhost:8080/",
          "height": 166
        }
      },
      "execution_count": 111,
      "outputs": [
        {
          "output_type": "display_data",
          "data": {
            "text/html": [
              "<table class=\"dataframe\">\n",
              "<caption>A matrix: 2 × 2 of type dbl</caption>\n",
              "<tbody>\n",
              "\t<tr><td>3</td><td>2</td></tr>\n",
              "\t<tr><td>1</td><td>1</td></tr>\n",
              "</tbody>\n",
              "</table>\n"
            ],
            "text/markdown": "\nA matrix: 2 × 2 of type dbl\n\n| 3 | 2 |\n| 1 | 1 |\n\n",
            "text/latex": "A matrix: 2 × 2 of type dbl\n\\begin{tabular}{ll}\n\t 3 & 2\\\\\n\t 1 & 1\\\\\n\\end{tabular}\n",
            "text/plain": [
              "     [,1] [,2]\n",
              "[1,] 3    2   \n",
              "[2,] 1    1   "
            ]
          },
          "metadata": {}
        }
      ]
    },
    {
      "cell_type": "markdown",
      "source": [
        "Desdoble de forma $3$ de $\\boldsymbol{\\mathcal{A}}$"
      ],
      "metadata": {
        "id": "GQrT_Km_7-eT"
      }
    },
    {
      "cell_type": "code",
      "source": [
        "A3 <- cbind(A[1,1,],A[1,2,],A[2,1,],A[2,2,])"
      ],
      "metadata": {
        "id": "6eFQawkt7-mF"
      },
      "execution_count": 112,
      "outputs": []
    },
    {
      "cell_type": "markdown",
      "source": [
        "Producto $\\boldsymbol{M}\\boldsymbol{\\mathcal{A}}_{(3)}$"
      ],
      "metadata": {
        "id": "PSdjiYCo8GcR"
      }
    },
    {
      "cell_type": "code",
      "source": [
        "M_x_A3 <- M %*% A3"
      ],
      "metadata": {
        "id": "LKJJmHvm8Glt"
      },
      "execution_count": 113,
      "outputs": []
    },
    {
      "cell_type": "markdown",
      "source": [
        "Doblez de forma $3$"
      ],
      "metadata": {
        "id": "gzFGbhRa8Pb_"
      }
    },
    {
      "cell_type": "code",
      "source": [
        "A_hat <- array(dim = c(2,2,2))\n",
        "A_hat[1,1,] <- M_x_A3[,1]\n",
        "A_hat[1,2,] <- M_x_A3[,2]\n",
        "A_hat[2,1,] <- M_x_A3[,3]\n",
        "A_hat[2,2,] <- M_x_A3[,4]\n",
        "print(A_hat)"
      ],
      "metadata": {
        "id": "1EtgBfw78Pgz",
        "outputId": "a8fe61f9-97ed-41e8-820b-73f4047dcf1b",
        "colab": {
          "base_uri": "https://localhost:8080/"
        }
      },
      "execution_count": 114,
      "outputs": [
        {
          "output_type": "stream",
          "name": "stdout",
          "text": [
            ", , 1\n",
            "\n",
            "     [,1] [,2]\n",
            "[1,]    1    8\n",
            "[2,]    2   -1\n",
            "\n",
            ", , 2\n",
            "\n",
            "     [,1] [,2]\n",
            "[1,]    0    3\n",
            "[2,]    1    0\n",
            "\n"
          ]
        }
      ]
    },
    {
      "cell_type": "markdown",
      "source": [
        "SVD para cada cara"
      ],
      "metadata": {
        "id": "vneG0o_t8Vbp"
      }
    },
    {
      "cell_type": "code",
      "source": [
        "svd1 <- svd(A_hat[,,1])\n",
        "svd2 <- svd(A_hat[,,2])"
      ],
      "metadata": {
        "id": "qr6eSCdW8Vg3"
      },
      "execution_count": 115,
      "outputs": []
    },
    {
      "cell_type": "markdown",
      "source": [
        "Reshape para tensor de orden $p=3$"
      ],
      "metadata": {
        "id": "QAJpt9vR8XeC"
      }
    },
    {
      "cell_type": "code",
      "source": [
        "U_hat <- array(cbind(svd1$u,svd2$u),c(2,2,2))\n",
        "S_hat <- array(cbind(diag(svd1$d),diag(svd2$d)),c(2,2,2))\n",
        "V_T_hat <- array(cbind(t(svd1$v),t(svd2$v)),c(2,2,2))"
      ],
      "metadata": {
        "id": "OpF9vxiH8Xkw"
      },
      "execution_count": 116,
      "outputs": []
    },
    {
      "cell_type": "markdown",
      "source": [
        "Regresamos el tensor $\\widehat{\\boldsymbol{\\mathcal{U}}}$ al dominio original"
      ],
      "metadata": {
        "id": "ZwweD5X98hsL"
      }
    },
    {
      "cell_type": "code",
      "source": [
        "M_x_U3 <- cbind(U_hat[1,1,],U_hat[1,2,],U_hat[2,1,],U_hat[2,2,])\n",
        "U3 <- solve(M) %*% M_x_U3\n",
        "U <- array(dim = c(2,2,2))\n",
        "U[1,1,] <- U3[,1]\n",
        "U[1,2,] <- U3[,2]\n",
        "U[2,1,] <- U3[,3]\n",
        "U[2,2,] <- U3[,4]\n",
        "print(U)"
      ],
      "metadata": {
        "id": "mlOwG-PX8hy2",
        "outputId": "28101c95-1d07-48bb-ee64-69adc4298279",
        "colab": {
          "base_uri": "https://localhost:8080/"
        }
      },
      "execution_count": 117,
      "outputs": [
        {
          "output_type": "stream",
          "name": "stdout",
          "text": [
            ", , 1\n",
            "\n",
            "           [,1]       [,2]\n",
            "[1,] 1.00486667 0.09853762\n",
            "[2,] 0.09853762 2.99513333\n",
            "\n",
            ", , 2\n",
            "\n",
            "            [,1]        [,2]\n",
            "[1,] -2.00486667 -0.09853762\n",
            "[2,] -0.09853762 -3.99513333\n",
            "\n"
          ]
        }
      ]
    },
    {
      "cell_type": "markdown",
      "source": [
        "Regresamos el tensor $\\widehat{\\boldsymbol{\\mathcal{S}}}$ al dominio original"
      ],
      "metadata": {
        "id": "O9vmJRqK8tIw"
      }
    },
    {
      "cell_type": "code",
      "source": [
        "M_x_S3 <- cbind(S_hat[1,1,],S_hat[1,2,],S_hat[2,1,],S_hat[2,2,])\n",
        "S3 <- solve(M) %*% M_x_S3\n",
        "S <- array(dim = c(2,2,2))\n",
        "S[1,1,] <- S3[,1]\n",
        "S[1,2,] <- S3[,2]\n",
        "S[2,1,] <- S3[,3]\n",
        "S[2,2,] <- S3[,4]\n",
        "print(S)"
      ],
      "metadata": {
        "id": "JpTpk9MA8tQb",
        "outputId": "5cc0eca4-830a-44cb-e54e-03adda13ea4e",
        "colab": {
          "base_uri": "https://localhost:8080/"
        }
      },
      "execution_count": 118,
      "outputs": [
        {
          "output_type": "stream",
          "name": "stdout",
          "text": [
            ", , 1\n",
            "\n",
            "        [,1]       [,2]\n",
            "[1,] 2.09902 0.00000000\n",
            "[2,] 0.00000 0.09901951\n",
            "\n",
            ", , 2\n",
            "\n",
            "          [,1]      [,2]\n",
            "[1,] 0.9009805 0.0000000\n",
            "[2,] 0.0000000 0.9009805\n",
            "\n"
          ]
        }
      ]
    },
    {
      "cell_type": "markdown",
      "source": [
        "Regresamos el tensor $\\widehat{\\boldsymbol{\\mathcal{V}}^T}$ al dominio original"
      ],
      "metadata": {
        "id": "urgirREU80Os"
      }
    },
    {
      "cell_type": "code",
      "source": [
        "V_T3 <- cbind(V_T_hat[1,1,],V_T_hat[1,2,],V_T_hat[2,1,],V_T_hat[2,2,])\n",
        "M_x_V_T3 <- solve(M) %*% V_T3\n",
        "V_T <- array(dim = c(2,2,2))\n",
        "V_T[1,1,] <- M_x_V_T3[,1]\n",
        "V_T[1,2,] <- M_x_V_T3[,2]\n",
        "V_T[2,1,] <- M_x_V_T3[,3]\n",
        "V_T[2,2,] <- M_x_V_T3[,4]\n",
        "print(V_T)"
      ],
      "metadata": {
        "id": "1EQqzVoR80V3",
        "outputId": "e3f6dd6d-ee44-4c82-e561-b9f345c75d93",
        "colab": {
          "base_uri": "https://localhost:8080/"
        }
      },
      "execution_count": 119,
      "outputs": [
        {
          "output_type": "stream",
          "name": "stdout",
          "text": [
            ", , 1\n",
            "\n",
            "            [,1]        [,2]\n",
            "[1,] -0.09853762  1.00486667\n",
            "[2,]  2.99513333 -0.09853762\n",
            "\n",
            ", , 2\n",
            "\n",
            "            [,1]        [,2]\n",
            "[1,]  0.09853762 -2.00486667\n",
            "[2,] -3.99513333  0.09853762\n",
            "\n"
          ]
        }
      ]
    },
    {
      "cell_type": "markdown",
      "source": [
        "###Calculamos el producto $\\boldsymbol{\\mathcal{U}}\\star_M\\boldsymbol{\\mathcal{S}}\\star_M\\boldsymbol{\\mathcal{V}}^T$"
      ],
      "metadata": {
        "id": "z-nbkeJY9Dbf"
      }
    },
    {
      "cell_type": "markdown",
      "source": [
        "Primero calculemos $\\boldsymbol{\\mathcal{U}}\\star_M\\boldsymbol{\\mathcal{S}}$"
      ],
      "metadata": {
        "id": "0R9-10YK_Gg8"
      }
    },
    {
      "cell_type": "code",
      "source": [
        "face_prod <- array(\n",
        "    c(U_hat[,,1] %*% S_hat[,,1],\n",
        "      U_hat[,,2] %*% S_hat[,,2]), c(2,2,2)\n",
        ")\n",
        "print(face_prod)\n",
        "temp3 <- solve(M) %*% cbind(face_prod[1,1,],face_prod[1,2,],face_prod[2,1,],face_prod[2,2,]) #desdoblando\n",
        "U_starM_S <- array(dim = c(2,2,2))\n",
        "U_starM_S[1,1,] <- temp3[,1]\n",
        "U_starM_S[1,2,] <- temp3[,2]\n",
        "U_starM_S[2,1,] <- temp3[,3]\n",
        "U_starM_S[2,2,] <- temp3[,4]\n",
        "print(U_starM_S)"
      ],
      "metadata": {
        "id": "SxNcKg_Z_GpD",
        "outputId": "f485c2f6-f905-458d-f619-f03e98034573",
        "colab": {
          "base_uri": "https://localhost:8080/"
        }
      },
      "execution_count": 120,
      "outputs": [
        {
          "output_type": "stream",
          "name": "stdout",
          "text": [
            ", , 1\n",
            "\n",
            "           [,1]      [,2]\n",
            "[1,] -8.0596042 0.2068324\n",
            "[2,]  0.7980581 2.0888043\n",
            "\n",
            ", , 2\n",
            "\n",
            "     [,1] [,2]\n",
            "[1,]   -3    0\n",
            "[2,]    0   -1\n",
            "\n",
            ", , 1\n",
            "\n",
            "           [,1]      [,2]\n",
            "[1,] -2.0596042 0.2068324\n",
            "[2,]  0.7980581 4.0888043\n",
            "\n",
            ", , 2\n",
            "\n",
            "           [,1]       [,2]\n",
            "[1,] -0.9403958 -0.2068324\n",
            "[2,] -0.7980581 -5.0888043\n",
            "\n"
          ]
        }
      ]
    },
    {
      "cell_type": "markdown",
      "source": [
        "Ahora calculamos $\\boldsymbol{\\mathcal{A}}=\\boldsymbol{\\mathcal{C}}\\star_M\\boldsymbol{\\mathcal{V}}^T$, donde $\\boldsymbol{\\mathcal{C}} = \\boldsymbol{\\mathcal{U}}\\star_M\\boldsymbol{\\mathcal{S}}$"
      ],
      "metadata": {
        "id": "UZ___J4M_RLw"
      }
    },
    {
      "cell_type": "code",
      "source": [
        "C <- U_starM_S"
      ],
      "metadata": {
        "id": "xTH5Nh0V_RUS"
      },
      "execution_count": 121,
      "outputs": []
    },
    {
      "cell_type": "markdown",
      "source": [
        "Primero calculemos $\\widehat{\\boldsymbol{\\mathcal{C}}}$"
      ],
      "metadata": {
        "id": "WRBIRY4y_rci"
      }
    },
    {
      "cell_type": "markdown",
      "source": [
        "Desdoble de forma $3$ de $\\widehat{\\boldsymbol{\\mathcal{C}}}$"
      ],
      "metadata": {
        "id": "BbLg7dK6_3hq"
      }
    },
    {
      "cell_type": "code",
      "source": [
        "C3 <- cbind(C[1,1,],C[1,2,],C[2,1,],C[2,2,])"
      ],
      "metadata": {
        "id": "YXRJXY04_rlA"
      },
      "execution_count": 122,
      "outputs": []
    },
    {
      "cell_type": "markdown",
      "source": [
        "Multiplicamos"
      ],
      "metadata": {
        "id": "QJ7fLaRL__f4"
      }
    },
    {
      "cell_type": "code",
      "source": [
        "M_x_C3 <- M %*% C3"
      ],
      "metadata": {
        "id": "2gnd_ASP__l8"
      },
      "execution_count": 123,
      "outputs": []
    },
    {
      "cell_type": "markdown",
      "source": [
        "Doblez"
      ],
      "metadata": {
        "id": "HB8mdw_9AF6k"
      }
    },
    {
      "cell_type": "code",
      "source": [
        "C_hat <- array(dim = c(2,2,2))\n",
        "C_hat[1,1,] <- M_x_C3[,1]\n",
        "C_hat[1,2,] <- M_x_C3[,2]\n",
        "C_hat[2,1,] <- M_x_C3[,3]\n",
        "C_hat[2,2,] <- M_x_C3[,4]\n",
        "print(C_hat)"
      ],
      "metadata": {
        "id": "WwQRvVDFAGAA",
        "outputId": "cfce3234-9a2e-4a41-88ce-bda6f6cb2159",
        "colab": {
          "base_uri": "https://localhost:8080/"
        }
      },
      "execution_count": 124,
      "outputs": [
        {
          "output_type": "stream",
          "name": "stdout",
          "text": [
            ", , 1\n",
            "\n",
            "           [,1]      [,2]\n",
            "[1,] -8.0596042 0.2068324\n",
            "[2,]  0.7980581 2.0888043\n",
            "\n",
            ", , 2\n",
            "\n",
            "     [,1] [,2]\n",
            "[1,]   -3    0\n",
            "[2,]    0   -1\n",
            "\n"
          ]
        }
      ]
    },
    {
      "cell_type": "markdown",
      "source": [
        "Producto en términos de cara"
      ],
      "metadata": {
        "id": "MGisolY_AOh6"
      }
    },
    {
      "cell_type": "code",
      "source": [
        "face_prod <- array(\n",
        "    c(C_hat[,,1] %*% V_T_hat[,,1],\n",
        "      C_hat[,,2] %*% V_T_hat[,,2]), c(2,2,2)\n",
        ")\n",
        "print(face_prod)"
      ],
      "metadata": {
        "id": "A5vKgY5rAOny",
        "outputId": "aebb52d3-e2b2-4897-8ef0-c84193ad8837",
        "colab": {
          "base_uri": "https://localhost:8080/"
        }
      },
      "execution_count": 125,
      "outputs": [
        {
          "output_type": "stream",
          "name": "stdout",
          "text": [
            ", , 1\n",
            "\n",
            "     [,1] [,2]\n",
            "[1,]    1    8\n",
            "[2,]    2   -1\n",
            "\n",
            ", , 2\n",
            "\n",
            "     [,1] [,2]\n",
            "[1,]    0    3\n",
            "[2,]    1    0\n",
            "\n"
          ]
        }
      ]
    },
    {
      "cell_type": "markdown",
      "source": [
        "Regresamos al domino original y doblamos"
      ],
      "metadata": {
        "id": "5t8HfC6cAaFw"
      }
    },
    {
      "cell_type": "code",
      "source": [
        "temp3 <- solve(M) %*% cbind(face_prod[1,1,],face_prod[1,2,],face_prod[2,1,],face_prod[2,2,]) #desdoblando\n",
        "A_SVD <- array(dim = c(2,2,2))\n",
        "A_SVD[1,1,] <- temp3[,1]\n",
        "A_SVD[1,2,] <- temp3[,2]\n",
        "A_SVD[2,1,] <- temp3[,3]\n",
        "A_SVD[2,2,] <- temp3[,4]\n",
        "print(round(A_SVD,4))\n",
        "print(A)"
      ],
      "metadata": {
        "id": "BlIaZqm9AaW1",
        "outputId": "02cb3326-4553-46c8-ec9a-846b1be51b66",
        "colab": {
          "base_uri": "https://localhost:8080/"
        }
      },
      "execution_count": 126,
      "outputs": [
        {
          "output_type": "stream",
          "name": "stdout",
          "text": [
            ", , 1\n",
            "\n",
            "     [,1] [,2]\n",
            "[1,]    1    2\n",
            "[2,]    0   -1\n",
            "\n",
            ", , 2\n",
            "\n",
            "     [,1] [,2]\n",
            "[1,]   -1    1\n",
            "[2,]    1    1\n",
            "\n",
            ", , 1\n",
            "\n",
            "     [,1] [,2]\n",
            "[1,]    1    2\n",
            "[2,]    0   -1\n",
            "\n",
            ", , 2\n",
            "\n",
            "     [,1] [,2]\n",
            "[1,]   -1    1\n",
            "[2,]    1    1\n",
            "\n"
          ]
        }
      ]
    }
  ]
}