{
  "nbformat": 4,
  "nbformat_minor": 0,
  "metadata": {
    "colab": {
      "provenance": [],
      "authorship_tag": "ABX9TyPyhW4hu6RQhYorFuLEMNQw",
      "include_colab_link": true
    },
    "kernelspec": {
      "name": "ir",
      "display_name": "R"
    },
    "language_info": {
      "name": "R"
    }
  },
  "cells": [
    {
      "cell_type": "markdown",
      "metadata": {
        "id": "view-in-github",
        "colab_type": "text"
      },
      "source": [
        "<a href=\"https://colab.research.google.com/github/hnidey13/tesis_SVD_t-SVDM/blob/main/marco_star_M.ipynb\" target=\"_parent\"><img src=\"https://colab.research.google.com/assets/colab-badge.svg\" alt=\"Open In Colab\"/></a>"
      ]
    },
    {
      "cell_type": "markdown",
      "source": [
        "Limpiamos área de trabajo"
      ],
      "metadata": {
        "id": "YhJ1aRIO5z1R"
      }
    },
    {
      "cell_type": "code",
      "execution_count": 157,
      "metadata": {
        "id": "jI5UEtyZ5Z_7"
      },
      "outputs": [],
      "source": [
        "rm(list=ls())"
      ]
    },
    {
      "cell_type": "markdown",
      "source": [
        "Para mostrar ejemplos, definimos:\n",
        "\n",
        "\n",
        "*   Tensor $\\boldsymbol{\\mathcal{A}}\\in\\mathbb{R}^{4\\times5\\times3\\times6\\times2}$\n",
        "*   Tensor $\\boldsymbol{\\mathcal{B}}\\in\\mathbb{R}^{5\\times2\\times3\\times6\\times2}$\n",
        "*   Matrices de transformación $\\boldsymbol{M}_1,\\boldsymbol{M}_2,\\boldsymbol{M}_3$\n",
        "\n"
      ],
      "metadata": {
        "id": "au_edma56_gY"
      }
    },
    {
      "cell_type": "code",
      "source": [
        "set.seed(123)\n",
        "n <- c(4,5,3,6,2)\n",
        "n2 <- c(5,2,3,6,2)\n",
        "A <- array(runif(prod(n)),n)\n",
        "B <- array(rnorm(prod(n2)),n2)\n",
        "dim_A <- dim(A)\n",
        "len_dim_A <- length(dim_A)\n",
        "M_l <- lapply(3:len_dim_A, function(i) matrix(runif(n[i]*n[i]),n[i],n[i]))"
      ],
      "metadata": {
        "id": "b_Vcf8KR7BMc"
      },
      "execution_count": 158,
      "outputs": []
    },
    {
      "cell_type": "markdown",
      "source": [
        "**Funciones:** desdoble y doblez"
      ],
      "metadata": {
        "id": "QksAmmYR52pp"
      }
    },
    {
      "cell_type": "code",
      "source": [
        "unfold <- function(A,d) t(matrix(unlist(apply(A, d, c, simplify = FALSE)),prod(dim(A)[-d])))\n",
        "fold <- function(A_d, d, dim_A){\n",
        "    pos <- append(2:length(dim_A), 1, d-1)\n",
        "    aperm(array(A_d, dim_A[order(pos)]),pos)\n",
        "}"
      ],
      "metadata": {
        "id": "FcYl2J7q526u"
      },
      "execution_count": 159,
      "outputs": []
    },
    {
      "cell_type": "markdown",
      "source": [
        "**Ejemplo:** desdoble de forma 2"
      ],
      "metadata": {
        "id": "9yAS2al28WiQ"
      }
    },
    {
      "cell_type": "code",
      "source": [
        "str(unfold(A,2))"
      ],
      "metadata": {
        "colab": {
          "base_uri": "https://localhost:8080/"
        },
        "id": "9mNnnBBW8Wqa",
        "outputId": "4252cca0-2ecf-476b-e544-c524b801be01"
      },
      "execution_count": 160,
      "outputs": [
        {
          "output_type": "stream",
          "name": "stdout",
          "text": [
            " num [1:5, 1:144] 0.288 0.94 0.551 0.678 0.246 ...\n"
          ]
        }
      ]
    },
    {
      "cell_type": "markdown",
      "source": [
        "**Ejemplo:** doblez de forma 2, para obtener el tensor original"
      ],
      "metadata": {
        "id": "rGYFBA9s8rhc"
      }
    },
    {
      "cell_type": "code",
      "source": [
        "fold2_A2 <- fold(unfold(A,2),2,dim_A)\n",
        "str(fold2_A2)\n",
        "paste(\"Error numérico\", sum(abs(fold2_A2-A)))"
      ],
      "metadata": {
        "colab": {
          "base_uri": "https://localhost:8080/",
          "height": 52
        },
        "id": "CmNzCwWc8xL9",
        "outputId": "b95e36e3-d775-40c3-977d-50c1a6823844"
      },
      "execution_count": 161,
      "outputs": [
        {
          "output_type": "stream",
          "name": "stdout",
          "text": [
            " num [1:4, 1:5, 1:3, 1:6, 1:2] 0.288 0.788 0.409 0.883 0.94 ...\n"
          ]
        },
        {
          "output_type": "display_data",
          "data": {
            "text/html": [
              "'Error numérico 0'"
            ],
            "text/markdown": "'Error numérico 0'",
            "text/latex": "'Error numérico 0'",
            "text/plain": [
              "[1] \"Error numérico 0\""
            ]
          },
          "metadata": {}
        }
      ]
    },
    {
      "cell_type": "markdown",
      "source": [
        "**Función:** producto en términos de cara"
      ],
      "metadata": {
        "id": "LzWyYiJT57kT"
      }
    },
    {
      "cell_type": "code",
      "source": [
        "f_face_prod <- function(A,B){\n",
        "    #Verificamos dimensión de los tensores\n",
        "    if (!identical(dim(A)[-1],dim(B)[-2])){\n",
        "        stop(\"Verificar dimensiones\")\n",
        "    } else{\n",
        "        \n",
        "        A_faces <- apply(A, 3:length(dim(A)), c, simplify = FALSE)\n",
        "        A_faces <- lapply(A_faces, matrix, dim(A)[1:2])\n",
        "        \n",
        "        B_faces <- apply(B, 3:length(dim(B)), c, simplify = FALSE)\n",
        "        B_faces <- lapply(B_faces, matrix, dim(B)[1:2])\n",
        "        \n",
        "        face_prod <- sapply(1:length(A_faces), function(i) A_faces[[i]] %*% B_faces[[i]],\n",
        "                            simplify = FALSE)\n",
        "        \n",
        "        face_prod <- array(unlist(face_prod), c(dim(face_prod[[1]]), dim(A)[-(1:2)]))\n",
        "        face_prod\n",
        "    }\n",
        "}"
      ],
      "metadata": {
        "id": "dXdnHWBG57tE"
      },
      "execution_count": 162,
      "outputs": []
    },
    {
      "cell_type": "markdown",
      "source": [
        "**Ejemplo:** producto en términos de cara"
      ],
      "metadata": {
        "id": "-f6cY8xf9V73"
      }
    },
    {
      "cell_type": "code",
      "source": [
        "str(f_face_prod(A,B))"
      ],
      "metadata": {
        "colab": {
          "base_uri": "https://localhost:8080/"
        },
        "id": "-Cdk_dH59WNF",
        "outputId": "3624f95e-0715-4dc4-c90a-b2a6d783a73e"
      },
      "execution_count": 163,
      "outputs": [
        {
          "output_type": "stream",
          "name": "stdout",
          "text": [
            " num [1:4, 1:2, 1:3, 1:6, 1:2] 1.6 0.614 0.895 2.226 0.241 ...\n"
          ]
        }
      ]
    },
    {
      "cell_type": "markdown",
      "source": [
        "**Función:** producto de forma $k$"
      ],
      "metadata": {
        "id": "eT7gTvxE6ELt"
      }
    },
    {
      "cell_type": "code",
      "source": [
        "prod_k <- function(A, M, k) fold(M %*% unfold(A,k),k,dim(A))"
      ],
      "metadata": {
        "id": "dbPW7wtD6EVW"
      },
      "execution_count": 164,
      "outputs": []
    },
    {
      "cell_type": "markdown",
      "source": [
        "**Ejemplo:** producto de forma $3$"
      ],
      "metadata": {
        "id": "yejuAFerBlzy"
      }
    },
    {
      "cell_type": "code",
      "source": [
        "str(prod_k(A, M_l[[1]], 3))"
      ],
      "metadata": {
        "colab": {
          "base_uri": "https://localhost:8080/"
        },
        "id": "A4vnoI3ZBs_B",
        "outputId": "cae7568d-7560-4e15-b1b1-66d656b18416"
      },
      "execution_count": 165,
      "outputs": [
        {
          "output_type": "stream",
          "name": "stdout",
          "text": [
            " num [1:4, 1:5, 1:3, 1:6, 1:2] 0.495 0.489 0.406 0.65 0.476 ...\n"
          ]
        }
      ]
    },
    {
      "cell_type": "markdown",
      "source": [
        "**Función:** traslado al domino transformado"
      ],
      "metadata": {
        "id": "DbNUSSZF6JgY"
      }
    },
    {
      "cell_type": "code",
      "source": [
        "hat_ten <- function(A,M_l){\n",
        "    len_dim_A <- length(dim(A))\n",
        "    A_hat <- A\n",
        "    for (i in 3:len_dim_A){\n",
        "        A_hat <- prod_k(A_hat, M_l[[i-2]],i)\n",
        "    }\n",
        "    A_hat\n",
        "}"
      ],
      "metadata": {
        "id": "vNVtiDFJ6Jno"
      },
      "execution_count": 166,
      "outputs": []
    },
    {
      "cell_type": "markdown",
      "source": [
        "**Ejemplo:** traslado al dominio transformado"
      ],
      "metadata": {
        "id": "iMA3KXEY6ZDt"
      }
    },
    {
      "cell_type": "code",
      "source": [
        "A_hat <- hat_ten(A,M_l)\n",
        "str(round(A_hat,4))"
      ],
      "metadata": {
        "colab": {
          "base_uri": "https://localhost:8080/"
        },
        "id": "HQhnbWDK6ZK_",
        "outputId": "eba1928f-7dd0-4f37-b921-51ec42d8c5f0"
      },
      "execution_count": 167,
      "outputs": [
        {
          "output_type": "stream",
          "name": "stdout",
          "text": [
            " num [1:4, 1:5, 1:3, 1:6, 1:2] 0.559 0.638 0.571 0.472 0.62 ...\n"
          ]
        }
      ]
    },
    {
      "cell_type": "markdown",
      "source": [
        "**Función:** regreso al dominio original"
      ],
      "metadata": {
        "id": "AnpCTF1AChoy"
      }
    },
    {
      "cell_type": "code",
      "source": [
        "inv_hat_ten <- function(A_hat,M_l) hat_ten(A_hat,lapply(M_l,solve))"
      ],
      "metadata": {
        "id": "-56gRGd2ChzQ"
      },
      "execution_count": 168,
      "outputs": []
    },
    {
      "cell_type": "markdown",
      "source": [
        "**Ejemplo:** regreso al dominio original"
      ],
      "metadata": {
        "id": "eN5pAXHsCuZu"
      }
    },
    {
      "cell_type": "code",
      "source": [
        "A2 <- inv_hat_ten(A_hat,M_l)\n",
        "str(A2)\n",
        "paste(\"Error numérico:\", sum(abs(A-A2))) #Error numérico"
      ],
      "metadata": {
        "colab": {
          "base_uri": "https://localhost:8080/",
          "height": 52
        },
        "id": "NUVtgnsKCuha",
        "outputId": "fbd4b392-a52c-4edd-8e96-934534b41a12"
      },
      "execution_count": 169,
      "outputs": [
        {
          "output_type": "stream",
          "name": "stdout",
          "text": [
            " num [1:4, 1:5, 1:3, 1:6, 1:2] 0.288 0.788 0.409 0.883 0.94 ...\n"
          ]
        },
        {
          "output_type": "display_data",
          "data": {
            "text/html": [
              "'Error numérico: 1.11642059529363e-12'"
            ],
            "text/markdown": "'Error numérico: 1.11642059529363e-12'",
            "text/latex": "'Error numérico: 1.11642059529363e-12'",
            "text/plain": [
              "[1] \"Error numérico: 1.11642059529363e-12\""
            ]
          },
          "metadata": {}
        }
      ]
    },
    {
      "cell_type": "markdown",
      "source": [
        "**Función:** cálculo del tensor transpuesto"
      ],
      "metadata": {
        "id": "CtUZBPjnEuyx"
      }
    },
    {
      "cell_type": "code",
      "source": [
        "t_ten <- function(A,M_l){\n",
        "    dim_A <- dim(A)\n",
        "    len_dim_A <- length(dim_A)\n",
        "    A_hat <- hat_ten(A,M_l)\n",
        "    A_hat_faces_T <- apply(A_hat, 3:len_dim_A, t, simplify = FALSE)\n",
        "    A_hat_faces_T <- lapply(A_hat_faces_T, matrix, dim_A[2:1])\n",
        "    A_hat_faces_T <- array(unlist(A_hat_faces_T),c(dim_A[2:1],dim_A[3:len_dim_A]))\n",
        "    A_T_hat <- A_hat_faces_T\n",
        "    inv_hat_ten(A_T_hat,M_l)\n",
        "}"
      ],
      "metadata": {
        "id": "_Gc0v3zWEvBJ"
      },
      "execution_count": 170,
      "outputs": []
    },
    {
      "cell_type": "markdown",
      "source": [
        "**Ejemplo:** cálculo del tensor transpuesto"
      ],
      "metadata": {
        "id": "gUpkUzM8FBTX"
      }
    },
    {
      "cell_type": "code",
      "source": [
        "A_T <- t_ten(A,M_l)\n",
        "str(A_T)"
      ],
      "metadata": {
        "colab": {
          "base_uri": "https://localhost:8080/"
        },
        "id": "9nKIf5DLFBb2",
        "outputId": "1cfbac61-2a3c-4019-b450-6a75e681af37"
      },
      "execution_count": 171,
      "outputs": [
        {
          "output_type": "stream",
          "name": "stdout",
          "text": [
            " num [1:5, 1:4, 1:3, 1:6, 1:2] 0.288 0.94 0.551 0.678 0.246 ...\n"
          ]
        }
      ]
    },
    {
      "cell_type": "markdown",
      "source": [
        "**Función:** cálculo del Producto $\\star_M$"
      ],
      "metadata": {
        "id": "shvwq2J3FMR1"
      }
    },
    {
      "cell_type": "code",
      "source": [
        "star_M <- function(A,B,M_l){\n",
        "    inv_hat_ten(f_face_prod(hat_ten(A,M_l),hat_ten(B,M_l)),M_l)\n",
        "}"
      ],
      "metadata": {
        "id": "Cttdy6hyFMaT"
      },
      "execution_count": 172,
      "outputs": []
    },
    {
      "cell_type": "markdown",
      "source": [
        "**Ejemplo:** cálculo del Producto $\\star_M$"
      ],
      "metadata": {
        "id": "oxV3jQhLFsfc"
      }
    },
    {
      "cell_type": "code",
      "source": [
        "str(star_M(A,B,M_l))"
      ],
      "metadata": {
        "colab": {
          "base_uri": "https://localhost:8080/"
        },
        "id": "9kZMucciFsnu",
        "outputId": "4134a862-1f3d-453e-dd90-fdfa0b4653e1"
      },
      "execution_count": 173,
      "outputs": [
        {
          "output_type": "stream",
          "name": "stdout",
          "text": [
            " num [1:4, 1:2, 1:3, 1:6, 1:2] -5.83 -15.37 -12.14 -3.43 10.07 ...\n"
          ]
        }
      ]
    },
    {
      "cell_type": "markdown",
      "source": [
        "**Función:** cálculo de la norma de Frobenius"
      ],
      "metadata": {
        "id": "A5jxSN-0F8XA"
      }
    },
    {
      "cell_type": "code",
      "source": [
        "norm_frob <- function(A) norm(as.matrix(A),\"F\")"
      ],
      "metadata": {
        "id": "e0DMjVfQF8iE"
      },
      "execution_count": 174,
      "outputs": []
    },
    {
      "cell_type": "markdown",
      "source": [
        "**Ejemplo:** cálculo de la norma de Frobenius"
      ],
      "metadata": {
        "id": "y6mANNwiI9Zw"
      }
    },
    {
      "cell_type": "code",
      "source": [
        "norm_frob(A)"
      ],
      "metadata": {
        "colab": {
          "base_uri": "https://localhost:8080/",
          "height": 34
        },
        "id": "7488NqUdI9gB",
        "outputId": "3d69fd0e-b2df-4dc9-8568-ee01b01dfb46"
      },
      "execution_count": 175,
      "outputs": [
        {
          "output_type": "display_data",
          "data": {
            "text/html": [
              "15.4282530625269"
            ],
            "text/markdown": "15.4282530625269",
            "text/latex": "15.4282530625269",
            "text/plain": [
              "[1] 15.42825"
            ]
          },
          "metadata": {}
        }
      ]
    },
    {
      "cell_type": "markdown",
      "source": [
        "**Función:** obtención de la descomposición t-SVDM con base en el orden de los tubos singulares"
      ],
      "metadata": {
        "id": "VavUMK2zJLiO"
      }
    },
    {
      "cell_type": "code",
      "source": [
        "tSVDM <- function(A,M_l){\n",
        "    dim_A <- dim(A)\n",
        "    len_dim_A <- length(dim_A)\n",
        "    \n",
        "    #Extraemos las caras de A_hat\n",
        "    A_hat <- hat_ten(A,M_l)\n",
        "    A_hat_faces <- apply(A_hat, 3:length(dim(A)), c, simplify = FALSE)\n",
        "    A_hat_faces <- lapply(A_hat_faces, matrix, dim(A)[1:2])\n",
        "    \n",
        "    #Calculamos SVD para cada cara\n",
        "    svd_l <- lapply(A_hat_faces,svd,nu=dim_A[1],nv=dim_A[2])\n",
        "    \n",
        "    #Formamos U_hat, S_hat y V_T_hat\n",
        "    U_hat <- lapply(svd_l, function(l) l$u)\n",
        "    U_hat <- array(unlist(U_hat), c(dim_A[1],dim_A[1],dim_A[-(1:2)]))\n",
        "    \n",
        "    fun_aux_S <- function(l){\n",
        "        S_hat_j <- matrix(0, nrow = dim_A[1], ncol = dim_A[2])\n",
        "        diag(S_hat_j) <- l$d\n",
        "        S_hat_j\n",
        "    }\n",
        "    S_hat <- lapply(svd_l,fun_aux_S)\n",
        "    S_hat <- array(unlist(S_hat), dim_A)\n",
        "    \n",
        "    V_T_hat <- lapply(svd_l, function(l) t(l$v))\n",
        "    V_T_hat <- array(unlist(V_T_hat), c(dim_A[2],dim_A[2],dim_A[-(1:2)]))\n",
        "    \n",
        "    #Regresamos al dominio original\n",
        "    U <- inv_hat_ten(U_hat,M_l)\n",
        "    S <- inv_hat_ten(S_hat,M_l)\n",
        "    V_T <- inv_hat_ten(V_T_hat,M_l)\n",
        "    \n",
        "    #Ordenamos los tensores U, S, V\n",
        "    norm_S <- as.vector(diag(apply(S,1:2,norm_frob)))\n",
        "    ord_S <- order(norm_S, decreasing = TRUE)\n",
        "    rank_ten <- sum(norm_S!=0)\n",
        "    \n",
        "    dim_U <- dim(U)\n",
        "    len_dim_U <- length(dim_U)\n",
        "    \n",
        "    U_to_parse <- paste0(\"U[,ord_S\",paste0(rep(\",\",len_dim_U-2), collapse = \"\"),\"]\")\n",
        "    U_ord <- eval(parse(text=U_to_parse))\n",
        "    \n",
        "    S_to_parse <- paste0(\"S[ord_S,ord_S\",paste0(rep(\",\",len_dim_U-2), collapse = \"\"),\"]\")\n",
        "    S_ord <- eval(parse(text=S_to_parse))\n",
        "    \n",
        "    V_T_to_parse <- paste0(\"V_T[ord_S,\",paste0(rep(\",\",len_dim_U-2), collapse = \"\"),\"]\")\n",
        "    V_T_ord <- eval(parse(text=V_T_to_parse))\n",
        "    list(U=U_ord,S=S_ord,V_T=V_T_ord,rank=rank_ten)\n",
        "}"
      ],
      "metadata": {
        "id": "8QcVva1QJLqe"
      },
      "execution_count": 176,
      "outputs": []
    },
    {
      "cell_type": "markdown",
      "source": [
        "**Ejemplo:** obtención de la descomposición t-SVDM con base en el orden de los tubos singulares"
      ],
      "metadata": {
        "id": "xKIece8mJWAX"
      }
    },
    {
      "cell_type": "code",
      "source": [
        "tsvdm <- tSVDM(A,M_l)\n",
        "str(tsvdm)\n",
        "\n",
        "paste(\"Error numérico:\", sum(abs(A-star_M(star_M(tsvdm$U,tsvdm$S,M_l),tsvdm$V_T,M_l))))"
      ],
      "metadata": {
        "colab": {
          "base_uri": "https://localhost:8080/",
          "height": 124
        },
        "id": "5cRMeu0sJWKd",
        "outputId": "c282a4a3-570b-437c-c2e0-d5b0d15bac0a"
      },
      "execution_count": 177,
      "outputs": [
        {
          "output_type": "stream",
          "name": "stdout",
          "text": [
            "List of 4\n",
            " $ U   : num [1:4, 1:4, 1:3, 1:6, 1:2] -0.1185 0.0336 -0.0355 -0.0156 8.9834 ...\n",
            " $ S   : num [1:4, 1:4, 1:3, 1:6, 1:2] 2.48 0 0 0 0 ...\n",
            " $ V_T : num [1:4, 1:5, 1:3, 1:6, 1:2] -0.0734 4.1659 -7.0652 -4.225 -0.0724 ...\n",
            " $ rank: int 4\n"
          ]
        },
        {
          "output_type": "display_data",
          "data": {
            "text/html": [
              "'Error numérico: 1.46905370897524e-11'"
            ],
            "text/markdown": "'Error numérico: 1.46905370897524e-11'",
            "text/latex": "'Error numérico: 1.46905370897524e-11'",
            "text/plain": [
              "[1] \"Error numérico: 1.46905370897524e-11\""
            ]
          },
          "metadata": {}
        }
      ]
    }
  ]
}